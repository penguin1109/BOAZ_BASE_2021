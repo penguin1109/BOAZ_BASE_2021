{
  "nbformat": 4,
  "nbformat_minor": 0,
  "metadata": {
    "colab": {
      "name": "CVStacking_Ensemble.ipynb",
      "provenance": [],
      "collapsed_sections": [
        "yPRcVga_ctI_",
        "Tr-FHHcGoQDy",
        "lpL0UECN3oqb",
        "wMcNdQznKaxC",
        "ezS_FTJUa5iS",
        "LfDxGkzkisKn",
        "xJQW2Soqo4_5",
        "dh0xlEV7c6ID"
      ],
      "machine_shape": "hm",
      "mount_file_id": "1ueFU50-1-lgEAZfT-DGQqC52EczXLf5e",
      "authorship_tag": "ABX9TyN9LqLpFS0mNQnGZlxiQbvH",
      "include_colab_link": true
    },
    "kernelspec": {
      "name": "python3",
      "display_name": "Python 3"
    },
    "accelerator": "TPU"
  },
  "cells": [
    {
      "cell_type": "markdown",
      "metadata": {
        "id": "view-in-github",
        "colab_type": "text"
      },
      "source": [
        "<a href=\"https://colab.research.google.com/github/penguin1109/BOAZ_BASE_2021/blob/main/CVStacking_Ensemble.ipynb\" target=\"_parent\"><img src=\"https://colab.research.google.com/assets/colab-badge.svg\" alt=\"Open In Colab\"/></a>"
      ]
    },
    {
      "cell_type": "markdown",
      "metadata": {
        "id": "SfhZaua-eFLU"
      },
      "source": [
        "### Libraries"
      ]
    },
    {
      "cell_type": "code",
      "metadata": {
        "id": "WEvWpy8NeRRZ"
      },
      "source": [
        "import pandas as pd\r\n",
        "import numpy as np\r\n",
        "import seaborn as sns\r\n",
        "import matplotlib.pyplot as plt\r\n",
        "from itertools import product\r\n",
        "from xgboost import XGBRegressor\r\n",
        "from sklearn.preprocessing import LabelEncoder\r\n",
        "from sklearn.neighbors import KNeighborsRegressor\r\n",
        "from sklearn.ensemble import RandomForestRegressor\r\n",
        "import lightgbm as lgb\r\n",
        "%matplotlib inline"
      ],
      "execution_count": null,
      "outputs": []
    },
    {
      "cell_type": "markdown",
      "metadata": {
        "id": "CnQ4tda9e7KT"
      },
      "source": [
        "### Load Data"
      ]
    },
    {
      "cell_type": "code",
      "metadata": {
        "id": "MkdyArGye6mH"
      },
      "source": [
        "root_dir = '/content/drive/MyDrive/BOAZ_MINI_PROJECT_KAGGLE/Final_Solution_Folders/DATA'\r\n",
        "test = pd.read_csv(root_dir + '/test.csv')\r\n",
        "sales = pd.read_csv(root_dir + '/sales_train.csv')\r\n",
        "shops = pd.read_csv(root_dir + '/shops.csv')\r\n",
        "items = pd.read_csv(root_dir + '/items.csv')\r\n",
        "item_cats = pd.read_csv(root_dir + '/item_categories.csv')"
      ],
      "execution_count": null,
      "outputs": []
    },
    {
      "cell_type": "markdown",
      "metadata": {
        "id": "HSn7inEswnI2"
      },
      "source": [
        "### TRAINING"
      ]
    },
    {
      "cell_type": "code",
      "metadata": {
        "colab": {
          "base_uri": "https://localhost:8080/"
        },
        "id": "R0fo1s_B9Xlb",
        "outputId": "a3a1214d-47e1-40e7-ef7c-f22ed2a8c6c1"
      },
      "source": [
        "root_dir = '/content/drive/MyDrive/BOAZ_MINI_PROJECT_KAGGLE/Final_Solution_Folders/DATA'\r\n",
        "df = pd.read_csv(root_dir + '/FINALDATASET.csv', index_col=0)"
      ],
      "execution_count": null,
      "outputs": [
        {
          "output_type": "stream",
          "text": [
            "/usr/local/lib/python3.7/dist-packages/numpy/lib/arraysetops.py:580: FutureWarning: elementwise comparison failed; returning scalar instead, but in the future will perform elementwise comparison\n",
            "  mask |= (ar1 == a)\n"
          ],
          "name": "stderr"
        }
      ]
    },
    {
      "cell_type": "code",
      "metadata": {
        "colab": {
          "base_uri": "https://localhost:8080/"
        },
        "id": "92r4OOS37oXz",
        "outputId": "16289bf7-236c-4a0f-83c5-3462f8e17551"
      },
      "source": [
        "df.columns"
      ],
      "execution_count": null,
      "outputs": [
        {
          "output_type": "execute_result",
          "data": {
            "text/plain": [
              "Index(['shop_id', 'item_id', 'date_block_num', 'item_cnt_month', 'ID',\n",
              "       'city_code', 'city_coord_1', 'city_coord_2', 'country_part',\n",
              "       'item_category_common', 'item_category_code', 'weekend_count',\n",
              "       'days_in_month', 'item_first_interaction', 'shop_item_sold_before',\n",
              "       'item_cnt_month_lag_1', 'item_cnt_month_lag_2', 'item_cnt_month_lag_3',\n",
              "       'item_shop_price_avg_lag_1', 'item_shop_price_avg_lag_2',\n",
              "       'item_shop_price_avg_lag_3', 'item_target_enc_lag_1',\n",
              "       'item_target_enc_lag_2', 'item_target_enc_lag_3',\n",
              "       'item_loc_target_enc_lag_1', 'item_loc_target_enc_lag_2',\n",
              "       'item_loc_target_enc_lag_3', 'item_shop_target_enc_lag_1',\n",
              "       'item_shop_target_enc_lag_2', 'item_shop_target_enc_lag_3',\n",
              "       'new_item_cat_avg_lag_1', 'new_item_cat_avg_lag_2',\n",
              "       'new_item_cat_avg_lag_3', 'new_item_shop_cat_avg_lag_1',\n",
              "       'new_item_shop_cat_avg_lag_2', 'new_item_shop_cat_avg_lag_3',\n",
              "       'item_cnt_month_lag_1_adv', 'item_cnt_month_lag_2_adv',\n",
              "       'item_cnt_month_lag_3_adv'],\n",
              "      dtype='object')"
            ]
          },
          "metadata": {
            "tags": []
          },
          "execution_count": 5
        }
      ]
    },
    {
      "cell_type": "code",
      "metadata": {
        "id": "Bcn6B4J3wqxm"
      },
      "source": [
        "X_train = df[df.date_block_num < 33].drop(['item_cnt_month'], axis=1)\r\n",
        "Y_train = df[df.date_block_num < 33]['item_cnt_month']\r\n",
        "X_valid = df[df.date_block_num == 33].drop(['item_cnt_month'], axis=1)\r\n",
        "Y_valid = df[df.date_block_num == 33]['item_cnt_month']\r\n",
        "X_test = df[df.date_block_num == 34].drop(['item_cnt_month'], axis=1)\r\n",
        "feature_name = X_train.columns.to_list()\r\n",
        "\r\n",
        "del df # 메모리 절약을 위해"
      ],
      "execution_count": null,
      "outputs": []
    },
    {
      "cell_type": "code",
      "metadata": {
        "colab": {
          "base_uri": "https://localhost:8080/"
        },
        "id": "V-YV8Sko_8ez",
        "outputId": "0cbdd063-beee-4285-aaab-a940f17480c3"
      },
      "source": [
        "X_train.shape, Y_train.shape, X_valid.shape, Y_valid.shape, X_test.shape"
      ],
      "execution_count": null,
      "outputs": [
        {
          "output_type": "execute_result",
          "data": {
            "text/plain": [
              "((9481110, 38), (9481110,), (238172, 38), (238172,), (214200, 38))"
            ]
          },
          "metadata": {
            "tags": []
          },
          "execution_count": 5
        }
      ]
    },
    {
      "cell_type": "code",
      "metadata": {
        "id": "sjzTifRZDfXp"
      },
      "source": [
        "new_x_train, new_y_train = pd.concat([X_train, X_valid], axis = 0), pd.concat([Y_train, Y_valid], axis = 0)\r\n",
        "new_x_test = X_test"
      ],
      "execution_count": null,
      "outputs": []
    },
    {
      "cell_type": "code",
      "metadata": {
        "colab": {
          "base_uri": "https://localhost:8080/"
        },
        "id": "_X4Giu83EQ5s",
        "outputId": "fa72b640-dfd2-42a9-fbc9-d5e762cb0fbd"
      },
      "source": [
        "new_x_train.shape, new_y_train.shape"
      ],
      "execution_count": null,
      "outputs": [
        {
          "output_type": "execute_result",
          "data": {
            "text/plain": [
              "((9719282, 38), (9719282,))"
            ]
          },
          "metadata": {
            "tags": []
          },
          "execution_count": 10
        }
      ]
    },
    {
      "cell_type": "markdown",
      "metadata": {
        "id": "16MqMDdaEmV5"
      },
      "source": [
        "- stacking ensenble을 위해서 new_x_train과 new_x_test를 만들었다."
      ]
    },
    {
      "cell_type": "markdown",
      "metadata": {
        "id": "XFIK8pb4cpgY"
      },
      "source": [
        "### MODEL 01(XGBoost)"
      ]
    },
    {
      "cell_type": "code",
      "metadata": {
        "id": "gnFPcVQrcXdJ"
      },
      "source": [
        "model01 = XGBRegressor(\r\n",
        "    max_depth=10,\r\n",
        "    n_estimators=1000,\r\n",
        "    min_child_weight=0.5, \r\n",
        "    colsample_bytree=0.8, \r\n",
        "    subsample=0.8, \r\n",
        "    eta=0.05,\r\n",
        "    seed=42)"
      ],
      "execution_count": null,
      "outputs": []
    },
    {
      "cell_type": "code",
      "metadata": {
        "colab": {
          "base_uri": "https://localhost:8080/"
        },
        "id": "CaJcEO29zirI",
        "outputId": "54c7db73-0f7b-4de9-d0f3-7ec9a5122957"
      },
      "source": [
        "model01.fit(X_train[feature_name], Y_train, eval_metric = ['rmse'], \r\n",
        "            eval_set=[(X_valid[feature_name], Y_valid)], early_stopping_rounds=50, \r\n",
        "            verbose = 20)"
      ],
      "execution_count": null,
      "outputs": [
        {
          "output_type": "stream",
          "text": [
            "[02:34:44] WARNING: /workspace/src/objective/regression_obj.cu:152: reg:linear is now deprecated in favor of reg:squarederror.\n",
            "[02:34:45] WARNING: /workspace/src/learner.cc:686: Tree method is automatically selected to be 'approx' for faster speed. To use old behavior (exact greedy algorithm on single machine), set tree_method to 'exact'.\n",
            "[0]\tvalidation_0-rmse:1.11579\n",
            "Will train until validation_0-rmse hasn't improved in 50 rounds.\n",
            "[20]\tvalidation_0-rmse:0.910311\n",
            "[40]\tvalidation_0-rmse:0.915523\n",
            "[60]\tvalidation_0-rmse:0.913332\n",
            "Stopping. Best iteration:\n",
            "[26]\tvalidation_0-rmse:0.908557\n",
            "\n"
          ],
          "name": "stdout"
        },
        {
          "output_type": "execute_result",
          "data": {
            "text/plain": [
              "XGBRegressor(base_score=0.5, booster='gbtree', colsample_bylevel=1,\n",
              "             colsample_bynode=1, colsample_bytree=0.8, eta=0.05, gamma=0,\n",
              "             importance_type='gain', learning_rate=0.1, max_delta_step=0,\n",
              "             max_depth=10, min_child_weight=0.5, missing=None,\n",
              "             n_estimators=1000, n_jobs=1, nthread=None, objective='reg:linear',\n",
              "             random_state=0, reg_alpha=0, reg_lambda=1, scale_pos_weight=1,\n",
              "             seed=42, silent=None, subsample=0.8, verbosity=1)"
            ]
          },
          "metadata": {
            "tags": []
          },
          "execution_count": 13
        }
      ]
    },
    {
      "cell_type": "code",
      "metadata": {
        "id": "ZOeKygEJ0EJ_"
      },
      "source": [
        "model01_Train = model01.predict(X_train[feature_name]).clip(0, 20)\r\n",
        "pd.DataFrame(model01_Train, columns = ['item_cnt_month']).to_csv(root_dir + '/xgboost01/Train.csv', index = False)"
      ],
      "execution_count": null,
      "outputs": []
    },
    {
      "cell_type": "code",
      "metadata": {
        "id": "EtaZ0l2BOL_j"
      },
      "source": [
        "model01_Valid = model01.predict(X_valid[feature_name]).clip(0, 20)\r\n",
        "pd.DataFrame(model01_Valid, columns = ['item_cnt_month']).to_csv(root_dir + '/xgboost01/Valid.csv', index = False)"
      ],
      "execution_count": null,
      "outputs": []
    },
    {
      "cell_type": "code",
      "metadata": {
        "id": "sPn35ky1znT0"
      },
      "source": [
        "model01_Test = model01.predict(X_test[feature_name]).clip(0, 20)\r\n",
        "pd.DataFrame(model01_Test, columns = ['item_cnt_month']).to_csv(root_dir + '/xgboost01/Test.csv', index = False)"
      ],
      "execution_count": null,
      "outputs": []
    },
    {
      "cell_type": "markdown",
      "metadata": {
        "id": "yPRcVga_ctI_"
      },
      "source": [
        "### MODEL 02 (LightGBM)"
      ]
    },
    {
      "cell_type": "code",
      "metadata": {
        "id": "z75ui4-Dd0Oq"
      },
      "source": [
        "params = {\r\n",
        "    'objective': 'mse',\r\n",
        "    'metric': 'rmse',\r\n",
        "    'num_leaves': 2 ** 8 - 1,\r\n",
        "    'learning_rate': 0.0025,\r\n",
        "    'feature_fraction': 0.75,\r\n",
        "    'bagging_fraction': 0.75,\r\n",
        "    'bagging_freq': 7,\r\n",
        "    'seed': 1,\r\n",
        "    'verbose': 1\r\n",
        "}\r\n",
        "feature_name_indexes = [ \r\n",
        "                        'country_part', \r\n",
        "                        'item_category_common',\r\n",
        "                        'item_category_code', \r\n",
        "                        'city_code',\r\n",
        "]\r\n",
        "\r\n",
        "lgb_train = lgb.Dataset(X_train[feature_name], Y_train)\r\n",
        "lgb_eval = lgb.Dataset(X_valid[feature_name], Y_valid, reference=lgb_train)"
      ],
      "execution_count": null,
      "outputs": []
    },
    {
      "cell_type": "code",
      "metadata": {
        "colab": {
          "base_uri": "https://localhost:8080/"
        },
        "id": "0QF4_-cOcuaV",
        "outputId": "0e35986b-1dfc-440a-be45-f9ceb8f3e812"
      },
      "source": [
        "evals_result = {}\r\n",
        "model02 = lgb.train(\r\n",
        "        params, \r\n",
        "        lgb_train, \r\n",
        "        num_boost_round=3000,\r\n",
        "        valid_sets=(lgb_train, lgb_eval), \r\n",
        "        feature_name = feature_name,\r\n",
        "        categorical_feature = feature_name_indexes,\r\n",
        "        verbose_eval=200, \r\n",
        "        evals_result = evals_result,\r\n",
        "        early_stopping_rounds = 150)"
      ],
      "execution_count": null,
      "outputs": [
        {
          "output_type": "stream",
          "text": [
            "/usr/local/lib/python3.7/dist-packages/lightgbm/basic.py:1209: UserWarning: categorical_feature in Dataset is overridden.\n",
            "New categorical_feature is ['city_code', 'country_part', 'item_category_code', 'item_category_common']\n",
            "  'New categorical_feature is {}'.format(sorted(list(categorical_feature))))\n",
            "/usr/local/lib/python3.7/dist-packages/lightgbm/basic.py:762: UserWarning: categorical_feature in param dict is overridden.\n",
            "  warnings.warn('categorical_feature in param dict is overridden.')\n"
          ],
          "name": "stderr"
        },
        {
          "output_type": "stream",
          "text": [
            "Training until validation scores don't improve for 150 rounds.\n",
            "[200]\ttraining's rmse: 1.02227\tvalid_1's rmse: 0.99519\n",
            "[400]\ttraining's rmse: 0.928228\tvalid_1's rmse: 0.935216\n",
            "[600]\ttraining's rmse: 0.880963\tvalid_1's rmse: 0.910507\n",
            "[800]\ttraining's rmse: 0.853554\tvalid_1's rmse: 0.899628\n",
            "[1000]\ttraining's rmse: 0.835615\tvalid_1's rmse: 0.894456\n",
            "[1200]\ttraining's rmse: 0.821391\tvalid_1's rmse: 0.892596\n",
            "[1400]\ttraining's rmse: 0.810205\tvalid_1's rmse: 0.891739\n",
            "[1600]\ttraining's rmse: 0.801344\tvalid_1's rmse: 0.891308\n",
            "[1800]\ttraining's rmse: 0.79391\tvalid_1's rmse: 0.890651\n",
            "[2000]\ttraining's rmse: 0.787677\tvalid_1's rmse: 0.889765\n",
            "[2200]\ttraining's rmse: 0.781857\tvalid_1's rmse: 0.889338\n",
            "[2400]\ttraining's rmse: 0.777012\tvalid_1's rmse: 0.889081\n",
            "[2600]\ttraining's rmse: 0.772549\tvalid_1's rmse: 0.888796\n",
            "[2800]\ttraining's rmse: 0.768747\tvalid_1's rmse: 0.888298\n",
            "[3000]\ttraining's rmse: 0.765241\tvalid_1's rmse: 0.888057\n",
            "Did not meet early stopping. Best iteration is:\n",
            "[3000]\ttraining's rmse: 0.765241\tvalid_1's rmse: 0.888057\n"
          ],
          "name": "stdout"
        }
      ]
    },
    {
      "cell_type": "code",
      "metadata": {
        "colab": {
          "base_uri": "https://localhost:8080/",
          "height": 513
        },
        "id": "A3Bw-8mQyN94",
        "outputId": "d4ba527c-70b7-4bf2-96d6-a2201b07670c"
      },
      "source": [
        "lgb.plot_importance(\r\n",
        "    model02, \r\n",
        "    max_num_features=50, \r\n",
        "    importance_type='gain', \r\n",
        "    figsize=(12,8));"
      ],
      "execution_count": null,
      "outputs": [
        {
          "output_type": "display_data",
          "data": {
            "image/png": "[encoded data removed]",
            "text/plain": [
              "<Figure size 864x576 with 1 Axes>"
            ]
          },
          "metadata": {
            "tags": [],
            "needs_background": "light"
          }
        }
      ]
    },
    {
      "cell_type": "code",
      "metadata": {
        "id": "r1DISyGL0QAl"
      },
      "source": [
        "model02_Train = model02.predict(X_train[feature_name]).clip(0, 20)"
      ],
      "execution_count": null,
      "outputs": []
    },
    {
      "cell_type": "code",
      "metadata": {
        "id": "U78hRgZI07Si"
      },
      "source": [
        "pd.DataFrame(model02_Train, columns = ['item_cnt_month']).to_csv(root_dir + '/lightgbm01/Train.csv', index = False)"
      ],
      "execution_count": null,
      "outputs": []
    },
    {
      "cell_type": "code",
      "metadata": {
        "id": "MRFOcoOkO8TJ"
      },
      "source": [
        "model02_Valid = model02.predict(X_valid[feature_name]).clip(0, 20)\r\n",
        "pd.DataFrame(model02_Valid, columns = ['item_cnt_month']).to_csv(root_dir + '/lightgbm01/Valid.csv', index = False)"
      ],
      "execution_count": null,
      "outputs": []
    },
    {
      "cell_type": "code",
      "metadata": {
        "id": "SIg8trHPoT2J"
      },
      "source": [
        "model02_Test = model02.predict(X_test[feature_name]).clip(0, 20)\r\n",
        "pd.DataFrame(model02_Test, columns = ['item_cnt_month']).to_csv(root_dir + '/lightgbm01/Test.csv', index = False)"
      ],
      "execution_count": null,
      "outputs": []
    },
    {
      "cell_type": "code",
      "metadata": {
        "colab": {
          "base_uri": "https://localhost:8080/",
          "height": 131
        },
        "id": "_cOw80fk_l8N",
        "outputId": "d12f7077-9010-4a6b-d9a7-96dfb00e9f9f"
      },
      "source": [
        "lightSub = pd.DataFrame([int(i) for i in range(len(model02_Test))], columns = ['ID'])\r\n",
        "lightSub['item_cnt_month'] = model02_Test\r\n",
        "lightSub.head(10).T"
      ],
      "execution_count": null,
      "outputs": [
        {
          "output_type": "execute_result",
          "data": {
            "text/html": [
              "<div>\n",
              "<style scoped>\n",
              "    .dataframe tbody tr th:only-of-type {\n",
              "        vertical-align: middle;\n",
              "    }\n",
              "\n",
              "    .dataframe tbody tr th {\n",
              "        vertical-align: top;\n",
              "    }\n",
              "\n",
              "    .dataframe thead th {\n",
              "        text-align: right;\n",
              "    }\n",
              "</style>\n",
              "<table border=\"1\" class=\"dataframe\">\n",
              "  <thead>\n",
              "    <tr style=\"text-align: right;\">\n",
              "      <th></th>\n",
              "      <th>0</th>\n",
              "      <th>1</th>\n",
              "      <th>2</th>\n",
              "      <th>3</th>\n",
              "      <th>4</th>\n",
              "      <th>5</th>\n",
              "      <th>6</th>\n",
              "      <th>7</th>\n",
              "      <th>8</th>\n",
              "      <th>9</th>\n",
              "    </tr>\n",
              "  </thead>\n",
              "  <tbody>\n",
              "    <tr>\n",
              "      <th>ID</th>\n",
              "      <td>0.000000</td>\n",
              "      <td>1.000000</td>\n",
              "      <td>2.000000</td>\n",
              "      <td>3.000000</td>\n",
              "      <td>4.000000</td>\n",
              "      <td>5.000000</td>\n",
              "      <td>6.000000</td>\n",
              "      <td>7.000000</td>\n",
              "      <td>8.00000</td>\n",
              "      <td>9.000000</td>\n",
              "    </tr>\n",
              "    <tr>\n",
              "      <th>item_cnt_month</th>\n",
              "      <td>0.330188</td>\n",
              "      <td>0.404692</td>\n",
              "      <td>0.828781</td>\n",
              "      <td>0.427118</td>\n",
              "      <td>2.131196</td>\n",
              "      <td>0.485417</td>\n",
              "      <td>0.808651</td>\n",
              "      <td>0.117921</td>\n",
              "      <td>0.59041</td>\n",
              "      <td>0.633356</td>\n",
              "    </tr>\n",
              "  </tbody>\n",
              "</table>\n",
              "</div>"
            ],
            "text/plain": [
              "                       0         1         2  ...         7        8         9\n",
              "ID              0.000000  1.000000  2.000000  ...  7.000000  8.00000  9.000000\n",
              "item_cnt_month  0.330188  0.404692  0.828781  ...  0.117921  0.59041  0.633356\n",
              "\n",
              "[2 rows x 10 columns]"
            ]
          },
          "metadata": {
            "tags": []
          },
          "execution_count": 28
        }
      ]
    },
    {
      "cell_type": "code",
      "metadata": {
        "colab": {
          "base_uri": "https://localhost:8080/"
        },
        "id": "ReYesbFe7KS5",
        "outputId": "b1e661ca-f12c-47c1-a5bc-0897cd20a942"
      },
      "source": [
        "Y_train[:10]"
      ],
      "execution_count": null,
      "outputs": [
        {
          "output_type": "execute_result",
          "data": {
            "text/plain": [
              "0\n",
              "1122795    3.0\n",
              "1122796    3.0\n",
              "1122797    3.0\n",
              "1122798    1.0\n",
              "1122799    1.0\n",
              "1122800    1.0\n",
              "1122801    5.0\n",
              "1122802    2.0\n",
              "1122803    7.0\n",
              "1122804    2.0\n",
              "Name: item_cnt_month, dtype: float64"
            ]
          },
          "metadata": {
            "tags": []
          },
          "execution_count": 34
        }
      ]
    },
    {
      "cell_type": "code",
      "metadata": {
        "id": "1S8UbLPG7AOR"
      },
      "source": [
        "lightSub = pd.DataFrame([int(i) for i in range(len(model02_Test))], columns = ['ID'])\r\n",
        "lightSub['item_cnt_month'] = model02_Test\r\n",
        "lightSub.head(5)"
      ],
      "execution_count": null,
      "outputs": []
    },
    {
      "cell_type": "code",
      "metadata": {
        "id": "5dOPyCXjAKqR"
      },
      "source": [
        "lightSub.to_csv(root_dir + '/210311_FIN.csv', index = False)"
      ],
      "execution_count": null,
      "outputs": []
    },
    {
      "cell_type": "markdown",
      "metadata": {
        "id": "Tr-FHHcGoQDy"
      },
      "source": [
        "### MODEL 03 (LightGBM)"
      ]
    },
    {
      "cell_type": "code",
      "metadata": {
        "id": "AH1dYn1unss-",
        "colab": {
          "base_uri": "https://localhost:8080/"
        },
        "outputId": "0c41e807-dd83-4880-dd95-548dd31c3b58"
      },
      "source": [
        "params = {\r\n",
        "    'objective': 'mse',\r\n",
        "    'metric': 'rmse',\r\n",
        "    'num_leaves': 2 ** 8 - 1,\r\n",
        "    'learning_rate': 0.003,\r\n",
        "    'feature_fraction': 0.75,\r\n",
        "    'bagging_fraction': 0.75,\r\n",
        "    'bagging_freq': 7,\r\n",
        "    'seed': 1,\r\n",
        "    'verbose': 1\r\n",
        "}\r\n",
        "\r\n",
        "feature_name_indexes = [ \r\n",
        "                        'country_part', \r\n",
        "                        'item_category_common',\r\n",
        "                        'item_category_code', \r\n",
        "                        'city_code',\r\n",
        "]\r\n",
        "\r\n",
        "lgb_train = lgb.Dataset(X_train[feature_name], Y_train)\r\n",
        "lgb_eval = lgb.Dataset(X_valid[feature_name], Y_valid, reference=lgb_train)\r\n",
        "\r\n",
        "evals_result = {}\r\n",
        "model03 = lgb.train(\r\n",
        "        params, \r\n",
        "        lgb_train,\r\n",
        "        num_boost_round=3000,\r\n",
        "        valid_sets=(lgb_train, lgb_eval), \r\n",
        "        feature_name = feature_name,\r\n",
        "        categorical_feature = feature_name_indexes,\r\n",
        "        verbose_eval=200, \r\n",
        "        evals_result = evals_result,\r\n",
        "        early_stopping_rounds = 150)"
      ],
      "execution_count": null,
      "outputs": [
        {
          "output_type": "stream",
          "text": [
            "/usr/local/lib/python3.7/dist-packages/lightgbm/basic.py:1209: UserWarning: categorical_feature in Dataset is overridden.\n",
            "New categorical_feature is ['city_code', 'country_part', 'item_category_code', 'item_category_common']\n",
            "  'New categorical_feature is {}'.format(sorted(list(categorical_feature))))\n",
            "/usr/local/lib/python3.7/dist-packages/lightgbm/basic.py:762: UserWarning: categorical_feature in param dict is overridden.\n",
            "  warnings.warn('categorical_feature in param dict is overridden.')\n"
          ],
          "name": "stderr"
        },
        {
          "output_type": "stream",
          "text": [
            "Training until validation scores don't improve for 150 rounds.\n",
            "[200]\ttraining's rmse: 0.997703\tvalid_1's rmse: 0.978357\n",
            "[400]\ttraining's rmse: 0.905698\tvalid_1's rmse: 0.923059\n",
            "[600]\ttraining's rmse: 0.863152\tvalid_1's rmse: 0.903515\n",
            "[800]\ttraining's rmse: 0.8384\tvalid_1's rmse: 0.896472\n",
            "[1000]\ttraining's rmse: 0.821574\tvalid_1's rmse: 0.893313\n",
            "[1200]\ttraining's rmse: 0.808323\tvalid_1's rmse: 0.892213\n",
            "Early stopping, best iteration is:\n",
            "[1248]\ttraining's rmse: 0.805668\tvalid_1's rmse: 0.892\n"
          ],
          "name": "stdout"
        }
      ]
    },
    {
      "cell_type": "code",
      "metadata": {
        "id": "kFhr3aEO0_LK"
      },
      "source": [
        "model03_Train = model03.predict(X_train[feature_name]).clip(0, 20)\r\n",
        "pd.DataFrame(model03_Train, columns = ['item_cnt_month']).to_csv(root_dir + '/lightgbm02/Train.csv', index = False)"
      ],
      "execution_count": null,
      "outputs": []
    },
    {
      "cell_type": "code",
      "metadata": {
        "id": "m1FO2h5nPGJ0"
      },
      "source": [
        "model03_Valid = model03.predict(X_valid[feature_name]).clip(0, 20)\r\n",
        "pd.DataFrame(model03_Valid, columns = ['item_cnt_month']).to_csv(root_dir + '/lightgbm02/Valid.csv', index = False)"
      ],
      "execution_count": null,
      "outputs": []
    },
    {
      "cell_type": "code",
      "metadata": {
        "id": "CYzKYk79zOyk"
      },
      "source": [
        "model03_Test = model03.predict(X_test[feature_name]).clip(0, 20)\r\n",
        "pd.DataFrame(model03_Test, columns = ['item_cnt_month']).to_csv(root_dir + '/lightgbm02/Test.csv', index = False)"
      ],
      "execution_count": null,
      "outputs": []
    },
    {
      "cell_type": "markdown",
      "metadata": {
        "id": "lpL0UECN3oqb"
      },
      "source": [
        "### FINAL TRAIN & TEST DATA for DNN"
      ]
    },
    {
      "cell_type": "code",
      "metadata": {
        "id": "-Msvnu7m3sPE"
      },
      "source": [
        "FIN_train = pd.DataFrame(model01_Train, columns = ['model01'])\r\n",
        "FIN_train['model02'] = model02_Train\r\n",
        "FIN_train['model03'] = model03_Train"
      ],
      "execution_count": null,
      "outputs": []
    },
    {
      "cell_type": "code",
      "metadata": {
        "colab": {
          "base_uri": "https://localhost:8080/",
          "height": 204
        },
        "id": "oVD2wvxi15Cp",
        "outputId": "c40938ea-2cdd-4881-df74-9d77246801d0"
      },
      "source": [
        "FIN_train.head(5)"
      ],
      "execution_count": null,
      "outputs": [
        {
          "output_type": "execute_result",
          "data": {
            "text/html": [
              "<div>\n",
              "<style scoped>\n",
              "    .dataframe tbody tr th:only-of-type {\n",
              "        vertical-align: middle;\n",
              "    }\n",
              "\n",
              "    .dataframe tbody tr th {\n",
              "        vertical-align: top;\n",
              "    }\n",
              "\n",
              "    .dataframe thead th {\n",
              "        text-align: right;\n",
              "    }\n",
              "</style>\n",
              "<table border=\"1\" class=\"dataframe\">\n",
              "  <thead>\n",
              "    <tr style=\"text-align: right;\">\n",
              "      <th></th>\n",
              "      <th>model01</th>\n",
              "      <th>model02</th>\n",
              "      <th>model03</th>\n",
              "    </tr>\n",
              "  </thead>\n",
              "  <tbody>\n",
              "    <tr>\n",
              "      <th>0</th>\n",
              "      <td>0.795926</td>\n",
              "      <td>0.749548</td>\n",
              "      <td>0.854349</td>\n",
              "    </tr>\n",
              "    <tr>\n",
              "      <th>1</th>\n",
              "      <td>2.960746</td>\n",
              "      <td>2.986387</td>\n",
              "      <td>2.841715</td>\n",
              "    </tr>\n",
              "    <tr>\n",
              "      <th>2</th>\n",
              "      <td>0.434173</td>\n",
              "      <td>0.099821</td>\n",
              "      <td>0.293082</td>\n",
              "    </tr>\n",
              "    <tr>\n",
              "      <th>3</th>\n",
              "      <td>0.312419</td>\n",
              "      <td>0.380552</td>\n",
              "      <td>0.384256</td>\n",
              "    </tr>\n",
              "    <tr>\n",
              "      <th>4</th>\n",
              "      <td>0.675998</td>\n",
              "      <td>0.556004</td>\n",
              "      <td>0.735100</td>\n",
              "    </tr>\n",
              "  </tbody>\n",
              "</table>\n",
              "</div>"
            ],
            "text/plain": [
              "    model01   model02   model03\n",
              "0  0.795926  0.749548  0.854349\n",
              "1  2.960746  2.986387  2.841715\n",
              "2  0.434173  0.099821  0.293082\n",
              "3  0.312419  0.380552  0.384256\n",
              "4  0.675998  0.556004  0.735100"
            ]
          },
          "metadata": {
            "tags": []
          },
          "execution_count": 28
        }
      ]
    },
    {
      "cell_type": "code",
      "metadata": {
        "id": "cuHY3lp0PRkB"
      },
      "source": [
        "FIN_valid = pd.DataFrame(model01_Valid, columns = ['model01'])\r\n",
        "FIN_valid['model02'] = model02_Valid\r\n",
        "FIN_valid['model03'] = model03_Valid"
      ],
      "execution_count": null,
      "outputs": []
    },
    {
      "cell_type": "code",
      "metadata": {
        "colab": {
          "base_uri": "https://localhost:8080/",
          "height": 204
        },
        "id": "byKDo28u2FGR",
        "outputId": "db678a70-6c15-4aa7-d5df-2fb62bc45b0c"
      },
      "source": [
        "FIN_valid.head(5)"
      ],
      "execution_count": null,
      "outputs": [
        {
          "output_type": "execute_result",
          "data": {
            "text/html": [
              "<div>\n",
              "<style scoped>\n",
              "    .dataframe tbody tr th:only-of-type {\n",
              "        vertical-align: middle;\n",
              "    }\n",
              "\n",
              "    .dataframe tbody tr th {\n",
              "        vertical-align: top;\n",
              "    }\n",
              "\n",
              "    .dataframe thead th {\n",
              "        text-align: right;\n",
              "    }\n",
              "</style>\n",
              "<table border=\"1\" class=\"dataframe\">\n",
              "  <thead>\n",
              "    <tr style=\"text-align: right;\">\n",
              "      <th></th>\n",
              "      <th>model01</th>\n",
              "      <th>model02</th>\n",
              "      <th>model03</th>\n",
              "    </tr>\n",
              "  </thead>\n",
              "  <tbody>\n",
              "    <tr>\n",
              "      <th>0</th>\n",
              "      <td>0.464895</td>\n",
              "      <td>0.329557</td>\n",
              "      <td>0.479308</td>\n",
              "    </tr>\n",
              "    <tr>\n",
              "      <th>1</th>\n",
              "      <td>0.412270</td>\n",
              "      <td>0.333852</td>\n",
              "      <td>0.280101</td>\n",
              "    </tr>\n",
              "    <tr>\n",
              "      <th>2</th>\n",
              "      <td>1.124197</td>\n",
              "      <td>0.764439</td>\n",
              "      <td>1.099375</td>\n",
              "    </tr>\n",
              "    <tr>\n",
              "      <th>3</th>\n",
              "      <td>0.445630</td>\n",
              "      <td>0.372001</td>\n",
              "      <td>0.498941</td>\n",
              "    </tr>\n",
              "    <tr>\n",
              "      <th>4</th>\n",
              "      <td>2.956417</td>\n",
              "      <td>2.307134</td>\n",
              "      <td>3.202197</td>\n",
              "    </tr>\n",
              "  </tbody>\n",
              "</table>\n",
              "</div>"
            ],
            "text/plain": [
              "    model01   model02   model03\n",
              "0  0.464895  0.329557  0.479308\n",
              "1  0.412270  0.333852  0.280101\n",
              "2  1.124197  0.764439  1.099375\n",
              "3  0.445630  0.372001  0.498941\n",
              "4  2.956417  2.307134  3.202197"
            ]
          },
          "metadata": {
            "tags": []
          },
          "execution_count": 31
        }
      ]
    },
    {
      "cell_type": "code",
      "metadata": {
        "id": "UwvBu8vmNjWc"
      },
      "source": [
        "FIN_test = pd.DataFrame(model01_Test, columns = ['model01'])\r\n",
        "FIN_test['model02'] = model02_Test\r\n",
        "FIN_test['model03'] = model03_Test"
      ],
      "execution_count": null,
      "outputs": []
    },
    {
      "cell_type": "code",
      "metadata": {
        "id": "Sl1E-0NGryyK"
      },
      "source": [
        "FIN_train.to_csv(root_dir + '/FIN_train.csv')\r\n",
        "FIN_valid.to_csv(root_dir + '/FIN_valid.csv')\r\n",
        "FIN_test.to_csv(root_dir + '/FIN_test.csv')"
      ],
      "execution_count": null,
      "outputs": []
    },
    {
      "cell_type": "markdown",
      "metadata": {
        "id": "wMcNdQznKaxC"
      },
      "source": [
        "### FINAL STACKING TRAINING 01\r\n",
        "#### Stacking Ensemble\r\n",
        "\r\n",
        "\r\n",
        "1.   마지막 meta model로 다항회귀를 이용할 생각이다.\r\n",
        "2.   3개의 데이터가 input이기 때문에 Polynomial Features를 이용해서 degree = 5로 설정해 회귀를 진행해볼 예정이다.\r\n",
        "  - degree를 설정하는 부분에서 주의를 해 주어야 하는데, 이는 degree가 너무 크다면 과대적합될 위험이, 너무 작다면 과소 적합될 위험이 존재하기 때문이다.\r\n",
        "3.   이는 나 또한 착각했던 부분이지만, 사실 다항회귀 또한 선형 회귀이며, sklearn의 PolynomialFeatures class는 Degree Parameter을 이용해서 입력받은 단항식 feature을 degree에 해당하는 다항식 feature로 바꾸어 준다.\r\n",
        "\r\n",
        "\r\n"
      ]
    },
    {
      "cell_type": "code",
      "metadata": {
        "id": "vRQB8TzUYfW_"
      },
      "source": [
        "root_dir = '/content/drive/MyDrive/BOAZ_MINI_PROJECT_KAGGLE/Final_Solution_Folders/DATA'"
      ],
      "execution_count": null,
      "outputs": []
    },
    {
      "cell_type": "code",
      "metadata": {
        "colab": {
          "base_uri": "https://localhost:8080/"
        },
        "id": "qrZVCKL9CwAm",
        "outputId": "1d5ebb68-08d2-4f7e-8f43-a020de55ede0"
      },
      "source": [
        "model01_Train, model02_Train, model03_Train = pd.read_csv(root_dir + '/xgboost01/Train.csv', index_col=0), pd.read_csv(root_dir+'/lightgbm01/Train.csv', index_col = 0), pd.read_csv(root_dir + '/lightgbm02/Train.csv', index_col = 0)\r\n",
        "model01_Test, model02_Test, model03_Test = pd.read_csv(root_dir + '/xgboost01/Test.csv', index_col = 0), pd.read_csv(root_dir + '/lightgbm01/Test.csv', index_col = 0), pd.read_csv(root_dir + '/lightgbm02/Test.csv', index_col = 0)"
      ],
      "execution_count": null,
      "outputs": [
        {
          "output_type": "stream",
          "text": [
            "/usr/local/lib/python3.7/dist-packages/numpy/lib/arraysetops.py:580: FutureWarning: elementwise comparison failed; returning scalar instead, but in the future will perform elementwise comparison\n",
            "  mask |= (ar1 == a)\n"
          ],
          "name": "stderr"
        }
      ]
    },
    {
      "cell_type": "code",
      "metadata": {
        "id": "jL8vjzU9Q5sZ"
      },
      "source": [
        "model01_Valid, model02_Valid, model03_Valid = pd.read_csv(root_dir + '/xgboost01/Valid.csv', index_col = 0), pd.read_csv(root_dir + '/lightgbm02/Valid.csv', index_col = 0), pd.read_csv(root_dir + '/lightgbm02/Valid.csv')"
      ],
      "execution_count": null,
      "outputs": []
    },
    {
      "cell_type": "markdown",
      "metadata": {
        "id": "6klYtYz_THN4"
      },
      "source": [
        "- 최종 모델에 학습 데이터를 넣기 위해서 개별 알고리즘으로부터 예측된 예측값을 column level로 옆으로 붙여 feature값으로 만들어 최종 model의 학습 데이터로 사용을 하였다.\r\n",
        "- 반환된 예측 데이터 세트는 1차원의 ndarray이기 때문에 먼저 반환된 예측 결과를 행 형태로 붙이고 numpy의 transpose -> 이렇게 하면 shape가 (a,b)->(b,a)로 바뀐다. \r\n",
        "- 이렇게 행과 열의 위치를 바꾼 데이터를 사용하였다."
      ]
    },
    {
      "cell_type": "code",
      "metadata": {
        "id": "eb7h45jMp4DO"
      },
      "source": [
        "Stack_final_x_train = np.transpose(np.array([model01_Train, model02_Train, model03_Train]))\r\n",
        "Stack_final_x_test = np.transpose(np.array([model01_Test, model02_Test, model03_Test]))"
      ],
      "execution_count": null,
      "outputs": []
    },
    {
      "cell_type": "code",
      "metadata": {
        "colab": {
          "base_uri": "https://localhost:8080/",
          "height": 228
        },
        "id": "-izx5AyeRLua",
        "outputId": "8bc214d1-dbb1-4a52-8741-bc9d7033d1ea"
      },
      "source": [
        "Stack_final_x_valid = np.transpose(np.array([model01_Valid.index, model02_Valid.index, model03_Valid]))"
      ],
      "execution_count": null,
      "outputs": [
        {
          "output_type": "stream",
          "text": [
            "/usr/local/lib/python3.7/dist-packages/ipykernel_launcher.py:1: VisibleDeprecationWarning: Creating an ndarray from ragged nested sequences (which is a list-or-tuple of lists-or-tuples-or ndarrays with different lengths or shapes) is deprecated. If you meant to do this, you must specify 'dtype=object' when creating the ndarray\n",
            "  \"\"\"Entry point for launching an IPython kernel.\n"
          ],
          "name": "stderr"
        },
        {
          "output_type": "error",
          "ename": "ValueError",
          "evalue": "ignored",
          "traceback": [
            "\u001b[0;31m---------------------------------------------------------------------------\u001b[0m",
            "\u001b[0;31mValueError\u001b[0m                                Traceback (most recent call last)",
            "\u001b[0;32m<ipython-input-23-b252b8e6e0b4>\u001b[0m in \u001b[0;36m<module>\u001b[0;34m()\u001b[0m\n\u001b[0;32m----> 1\u001b[0;31m \u001b[0mStack_final_x_valid\u001b[0m \u001b[0;34m=\u001b[0m \u001b[0mnp\u001b[0m\u001b[0;34m.\u001b[0m\u001b[0mtranspose\u001b[0m\u001b[0;34m(\u001b[0m\u001b[0mnp\u001b[0m\u001b[0;34m.\u001b[0m\u001b[0marray\u001b[0m\u001b[0;34m(\u001b[0m\u001b[0;34m[\u001b[0m\u001b[0mmodel01_Valid\u001b[0m\u001b[0;34m.\u001b[0m\u001b[0mindex\u001b[0m\u001b[0;34m,\u001b[0m \u001b[0mmodel02_Valid\u001b[0m\u001b[0;34m.\u001b[0m\u001b[0mindex\u001b[0m\u001b[0;34m,\u001b[0m \u001b[0mmodel03_Valid\u001b[0m\u001b[0;34m]\u001b[0m\u001b[0;34m)\u001b[0m\u001b[0;34m)\u001b[0m\u001b[0;34m\u001b[0m\u001b[0;34m\u001b[0m\u001b[0m\n\u001b[0m",
            "\u001b[0;31mValueError\u001b[0m: could not broadcast input array from shape (238172,1) into shape (238172)"
          ]
        }
      ]
    },
    {
      "cell_type": "code",
      "metadata": {
        "colab": {
          "base_uri": "https://localhost:8080/"
        },
        "id": "P2cBOj6aGRe0",
        "outputId": "69fe8c13-09c3-4f62-f839-669c899759e0"
      },
      "source": [
        "Stack_final_x_test.shape"
      ],
      "execution_count": null,
      "outputs": [
        {
          "output_type": "execute_result",
          "data": {
            "text/plain": [
              "(214200, 3)"
            ]
          },
          "metadata": {
            "tags": []
          },
          "execution_count": 22
        }
      ]
    },
    {
      "cell_type": "code",
      "metadata": {
        "colab": {
          "base_uri": "https://localhost:8080/"
        },
        "id": "68ZmUoojGRdV",
        "outputId": "c3ffbfbd-157e-4fbc-935d-17eceff32541"
      },
      "source": [
        "Stack_final_x_train.shape"
      ],
      "execution_count": null,
      "outputs": [
        {
          "output_type": "execute_result",
          "data": {
            "text/plain": [
              "(9481110, 3)"
            ]
          },
          "metadata": {
            "tags": []
          },
          "execution_count": 23
        }
      ]
    },
    {
      "cell_type": "code",
      "metadata": {
        "id": "i2LNFU-WLfkt"
      },
      "source": [
        "from sklearn.preprocessing import PolynomialFeatures\r\n",
        "import numpy as np\r\n",
        "from sklearn.pipeline import Pipeline\r\n",
        "from sklearn.linear_model import LinearRegression\r\n",
        "from sklearn.model_selection import cross_val_score\r\n",
        "\r\n",
        "polynomial_features = PolynomialFeatures(degree = 5, include_bias = False)\r\n",
        "linear_regression = LinearRegression()\r\n",
        "\r\n",
        "pipeline = Pipeline([(\"polynomial_features\", polynomial_features), \r\n",
        "                     (\"linear_regression\", linear_regression)])\r\n",
        "\r\n",
        "pipeline.fit(Stack_final_x_train, Y_train)"
      ],
      "execution_count": null,
      "outputs": []
    },
    {
      "cell_type": "code",
      "metadata": {
        "id": "_JOSXULSpe9U"
      },
      "source": [
        "FIN_predict = pipeline.predict(Stack_final_x_test)"
      ],
      "execution_count": null,
      "outputs": []
    },
    {
      "cell_type": "code",
      "metadata": {
        "colab": {
          "base_uri": "https://localhost:8080/"
        },
        "id": "spyMtta5G5IZ",
        "outputId": "e4f91575-6d50-4906-f9f1-bddb75a79d94"
      },
      "source": [
        "FIN_predict"
      ],
      "execution_count": null,
      "outputs": [
        {
          "output_type": "execute_result",
          "data": {
            "text/plain": [
              "array([0.32204784, 0.31674966, 0.69613991, ..., 0.05204083, 0.02857714,\n",
              "       0.04404718])"
            ]
          },
          "metadata": {
            "tags": []
          },
          "execution_count": 34
        }
      ]
    },
    {
      "cell_type": "code",
      "metadata": {
        "id": "WO-MGb9UHAGP"
      },
      "source": [
        ""
      ],
      "execution_count": null,
      "outputs": []
    },
    {
      "cell_type": "markdown",
      "metadata": {
        "id": "ezS_FTJUa5iS"
      },
      "source": [
        "### FINAL STACKING TRAINING 02\r\n",
        "#### Stacking Ensemble (CV Fold Data)\r\n",
        "1. CV 세트 기반의 stacking model은 overfitting을 개선하기 위해서 최종 메타 모델을 위한 데이터를 만들 때 교차 검증 기반으로 예측된 데이터를 이용한다.\r\n",
        "2. 개별 모델들이 각각 교차 검증으로 메타 모델을 위한 학습용, 테스트용 데이터를 생성한 뒤 이를 기반으로 메타 모델이 학습과 예측을 수행하게 된다.\r\n"
      ]
    },
    {
      "cell_type": "markdown",
      "metadata": {
        "id": "LfDxGkzkisKn"
      },
      "source": [
        "#### LAST METHA MODEL FOR TRAINING\r\n",
        "\r\n",
        "\r\n",
        "1.   Logistic Regression을 마지막 회귀 모델로 사용할 예정이다.\r\n",
        "2.   스태킹에 사용될 개별 모델은 XGBoost1개와 LIghtGBM 2개이다.  \r\n",
        "3.   이들 모델의 예측 결과를 합한 데이터 세트로 학습/예측을 하는 최종 모델은 Logistic Regression이다.\r\n",
        "\r\n",
        "\r\n",
        "\r\n"
      ]
    },
    {
      "cell_type": "code",
      "metadata": {
        "id": "Mp7-3fy8BQgO"
      },
      "source": [
        "from sklearn.model_selction import KFold\r\n",
        "\r\n",
        "def get_stacking_base_datasets(model, x_train, y_train, x_test, n_folds):\r\n",
        "  kf = KFold(nOsplits = n_folds, shuffle = True, random_state = 42)\r\n",
        "  train_fold_predict = np.zeros((x_train.shape[0], 1))\r\n",
        "  test_predict = np.zeros((x_test.shape[0], n_folds))\r\n",
        "  print(model.__class__.__name__, 'Model Started')\r\n",
        "\r\n",
        "  for folder_counter, (train_index, valid_index) in enumerate(kf.split(x_train)):\r\n",
        "    print('\\t Fold Set : ', folder_counter, 'Start')\r\n",
        "    x_tr = x_train[train_index]\r\n",
        "    y_tr = y_train[train_index]\r\n",
        "    x_va = x_train[valid_index]\r\n",
        "\r\n",
        "    if model == model01:\r\n",
        "      model01.fit(X_train[feature_name], Y_train, eval_metric = ['rmse'], \r\n",
        "            eval_set=[(X_valid[feature_name], Y_valid)], early_stopping_rounds=50, \r\n",
        "            verbose = 20)\r\n",
        "    elif model == model02:\r\n",
        "      evals_result = {}\r\n",
        "      model02 = lgb.train(\r\n",
        "        params, \r\n",
        "        lgb_train, \r\n",
        "        num_boost_round=3000,\r\n",
        "        valid_sets=(lgb_train, lgb_eval), \r\n",
        "        feature_name = feature_name,\r\n",
        "        categorical_feature = feature_name_indexes,\r\n",
        "        verbose_eval=200, \r\n",
        "        evals_result = evals_result,\r\n",
        "        early_stopping_rounds = 150)\r\n",
        "\r\n",
        "\r\n",
        "      "
      ],
      "execution_count": null,
      "outputs": []
    },
    {
      "cell_type": "markdown",
      "metadata": {
        "id": "xJQW2Soqo4_5"
      },
      "source": [
        "### FINAL DNN MODEL"
      ]
    },
    {
      "cell_type": "code",
      "metadata": {
        "colab": {
          "base_uri": "https://localhost:8080/"
        },
        "id": "9wET4ntM4pKx",
        "outputId": "f72809a5-458a-427f-8237-0f73fcbde6d6"
      },
      "source": [
        "import pandas as pd\r\n",
        "root_dir = '/content/drive/MyDrive/BOAZ_MINI_PROJECT_KAGGLE/Final_Solution_Folders/DATA'\r\n",
        "dnn_train = pd.read_csv(root_dir + '/dnn_train.csv', index_col = 0)\r\n",
        "dnn_test = pd.read_csv(root_dir + '/dnn_test.csv', index_col = 0)"
      ],
      "execution_count": null,
      "outputs": [
        {
          "output_type": "stream",
          "text": [
            "/usr/local/lib/python3.7/dist-packages/numpy/lib/arraysetops.py:580: FutureWarning: elementwise comparison failed; returning scalar instead, but in the future will perform elementwise comparison\n",
            "  mask |= (ar1 == a)\n"
          ],
          "name": "stderr"
        }
      ]
    },
    {
      "cell_type": "code",
      "metadata": {
        "colab": {
          "base_uri": "https://localhost:8080/"
        },
        "id": "Si2UL-6N47qI",
        "outputId": "616c3251-db78-4950-de5e-666f41ec4969"
      },
      "source": [
        "dnn_train.shape"
      ],
      "execution_count": null,
      "outputs": [
        {
          "output_type": "execute_result",
          "data": {
            "text/plain": [
              "(9481110, 3)"
            ]
          },
          "metadata": {
            "tags": []
          },
          "execution_count": 2
        }
      ]
    },
    {
      "cell_type": "code",
      "metadata": {
        "id": "SLozNVcuo62g"
      },
      "source": [
        "import tensorflow as tf\r\n",
        "import tensorflow.keras as keras\r\n",
        "from tensorflow.keras.layers import Dense\r\n",
        "from tensorflow.keras import Model"
      ],
      "execution_count": null,
      "outputs": []
    },
    {
      "cell_type": "code",
      "metadata": {
        "id": "KUaRGR9U0haf",
        "colab": {
          "base_uri": "https://localhost:8080/"
        },
        "outputId": "486569ad-a256-4866-fd6a-78f546bee215"
      },
      "source": [
        "batch_size = 100\r\n",
        "initializer = tf.keras.initializers.HeNormal()\r\n",
        "\r\n",
        "DNN_model = tf.keras.models.Sequential([\r\n",
        "    tf.keras.layers.Dense(32, input_shape = [3],activation = 'relu', kernel_initializer=initializer),\r\n",
        "    tf.keras.layers.BatchNormalization(),\r\n",
        "    tf.keras.layers.Dropout(0.3),\r\n",
        "    tf.keras.layers.Dense(3, activation = 'relu', kernel_initializer = initializer),\r\n",
        "    tf.keras.layers.BatchNormalization(),\r\n",
        "    tf.keras.layers.Dense(1)\r\n",
        "])\r\n",
        "\r\n",
        "DNN_model.summary()"
      ],
      "execution_count": null,
      "outputs": [
        {
          "output_type": "stream",
          "text": [
            "Model: \"sequential_2\"\n",
            "_________________________________________________________________\n",
            "Layer (type)                 Output Shape              Param #   \n",
            "=================================================================\n",
            "dense_5 (Dense)              (None, 32)                128       \n",
            "_________________________________________________________________\n",
            "batch_normalization_3 (Batch (None, 32)                128       \n",
            "_________________________________________________________________\n",
            "dropout_2 (Dropout)          (None, 32)                0         \n",
            "_________________________________________________________________\n",
            "dense_6 (Dense)              (None, 3)                 99        \n",
            "_________________________________________________________________\n",
            "batch_normalization_4 (Batch (None, 3)                 12        \n",
            "_________________________________________________________________\n",
            "dense_7 (Dense)              (None, 1)                 4         \n",
            "=================================================================\n",
            "Total params: 371\n",
            "Trainable params: 301\n",
            "Non-trainable params: 70\n",
            "_________________________________________________________________\n"
          ],
          "name": "stdout"
        }
      ]
    },
    {
      "cell_type": "markdown",
      "metadata": {
        "id": "dh0xlEV7c6ID"
      },
      "source": [
        "- 미리 xgboost모델을 이용해서 dnn_train데이터를 이용해서 학습을 시키고\r\n",
        "- plot_importance함수를 이용해서 각각이 모델의 중요도를 파악한 뒤에\r\n",
        "- 해당 값을 처음부터 DNN모델에 반영이 되도록 사용자 정의 layer을 만들어서 학습시킬 생각이다.\r\n",
        "\r\n",
        "#### Optimizer\r\n",
        "- 의외로 Adam을 이용할 때 보다 rmsProp을 이용하고 애초에 주어지는 1e-3이라는 학습률을 유지했을 때 validation_loss와 validation_accuracy가 더 좋았던 것 같다.\r\n",
        "- learning_rate는 1e-3에서 1e-5가 이상적인 값이다.\r\n",
        "- Adam의 경우에는 max(0, x)라는 함수를 이용해서 비선형성을 부과하기 때문에 음수가 나오지만 않는다면 크게 문제가 되는 부분이 없다고 한다.\r\n",
        "\r\n",
        "#### Weight Initializer\r\n",
        "- LU계열의 Relu activation function을 사용하기 때문에 HeNormalization을 사용하였다.\r\n",
        "\r\n",
        "#### Batch Normalization\r\n",
        "- 논문에 의하면 비선형 함수 이전에 넣는것이 좋다고 한다.(미미한 차이지만)\r\n",
        "- 그리고 데이터셋과 배치 사이즈가 클수록 효과를 보인다고 한다.\r\n",
        "- 비선형 함수 이전에 넣기 위해서는 반드시 비선형 함수를 따로 추가해야 한다.\r\n",
        "```py\r\n",
        "model.add(tf.keras.layers.BatchNormalization())\r\n",
        "model.add(tf.keras.activation.Relu)\r\n",
        "```\r\n",
        "이런 식으로 추가해 주는 것이다.\r\n"
      ]
    },
    {
      "cell_type": "code",
      "metadata": {
        "colab": {
          "base_uri": "https://localhost:8080/"
        },
        "id": "pdCp1xXD3Wrn",
        "outputId": "c1a776dd-7507-4086-ca94-346850104510"
      },
      "source": [
        "optimizer = tf.keras.optimizers.Adam(0.0)\r\n",
        "DNN_model.compile(loss='mse',\r\n",
        "                optimizer=optimizer,\r\n",
        "                metrics=['accuracy','mae', 'mse'])\r\n",
        "callback = tf.keras.callbacks.EarlyStopping(monitor = 'val_loss', patience = 5)\r\n",
        "history = DNN_model.fit(Stack_final_x_train, Y_train, epochs = 30, validation_data = (Stack_final_x_valid, Y_valid),\r\n",
        "                        batch_size = batch_size, callbacks = callback, verbose = 2, shuffle = True)"
      ],
      "execution_count": null,
      "outputs": [
        {
          "output_type": "stream",
          "text": [
            "Epoch 1/30\n",
            "94812/94812 - 131s - loss: 0.7228 - accuracy: 0.8264 - mae: 0.3442 - mse: 0.7228 - val_loss: 0.8981 - val_accuracy: 0.8545 - val_mae: 0.2770 - val_mse: 0.8981\n",
            "Epoch 2/30\n",
            "94812/94812 - 131s - loss: 0.7124 - accuracy: 0.8265 - mae: 0.3435 - mse: 0.7124 - val_loss: 0.8769 - val_accuracy: 0.8569 - val_mae: 0.2985 - val_mse: 0.8769\n",
            "Epoch 3/30\n",
            "94812/94812 - 131s - loss: 0.7164 - accuracy: 0.8261 - mae: 0.3443 - mse: 0.7164 - val_loss: 0.9112 - val_accuracy: 0.8564 - val_mae: 0.3133 - val_mse: 0.9112\n",
            "Epoch 4/30\n",
            "94812/94812 - 128s - loss: 0.7137 - accuracy: 0.8263 - mae: 0.3442 - mse: 0.7137 - val_loss: 0.8532 - val_accuracy: 0.8499 - val_mae: 0.2958 - val_mse: 0.8532\n",
            "Epoch 5/30\n",
            "94812/94812 - 134s - loss: 0.7115 - accuracy: 0.8262 - mae: 0.3438 - mse: 0.7115 - val_loss: 1.6257 - val_accuracy: 0.8588 - val_mae: 0.3203 - val_mse: 1.6257\n",
            "Epoch 6/30\n",
            "94812/94812 - 131s - loss: 0.7104 - accuracy: 0.8264 - mae: 0.3431 - mse: 0.7104 - val_loss: 1.2666 - val_accuracy: 0.8554 - val_mae: 0.3107 - val_mse: 1.2666\n",
            "Epoch 7/30\n",
            "94812/94812 - 135s - loss: 0.7074 - accuracy: 0.8263 - mae: 0.3422 - mse: 0.7074 - val_loss: 1.1326 - val_accuracy: 0.8558 - val_mae: 0.3140 - val_mse: 1.1326\n",
            "Epoch 8/30\n",
            "94812/94812 - 130s - loss: 0.7114 - accuracy: 0.8263 - mae: 0.3428 - mse: 0.7114 - val_loss: 1.3640 - val_accuracy: 0.8613 - val_mae: 0.3104 - val_mse: 1.3640\n",
            "Epoch 9/30\n",
            "94812/94812 - 132s - loss: 0.7077 - accuracy: 0.8263 - mae: 0.3429 - mse: 0.7077 - val_loss: 1.9766 - val_accuracy: 0.8575 - val_mae: 0.3505 - val_mse: 1.9766\n"
          ],
          "name": "stdout"
        }
      ]
    },
    {
      "cell_type": "code",
      "metadata": {
        "colab": {
          "base_uri": "https://localhost:8080/",
          "height": 283
        },
        "id": "tASvXM78QJsR",
        "outputId": "36791686-846e-43e8-e05f-4fc05c89a5fc"
      },
      "source": [
        "plt.plot(history.history['val_loss'])"
      ],
      "execution_count": null,
      "outputs": [
        {
          "output_type": "execute_result",
          "data": {
            "text/plain": [
              "[<matplotlib.lines.Line2D at 0x7f9fff0bc150>]"
            ]
          },
          "metadata": {
            "tags": []
          },
          "execution_count": 60
        },
        {
          "output_type": "display_data",
          "data": {
            "image/png": "[encoded data removed]",
            "text/plain": [
              "<Figure size 432x288 with 1 Axes>"
            ]
          },
          "metadata": {
            "tags": [],
            "needs_background": "light"
          }
        }
      ]
    },
    {
      "cell_type": "code",
      "metadata": {
        "id": "rVT18g795jYh"
      },
      "source": [
        "FIN_predict = DNN_model.predict(Stack_final_x_test)"
      ],
      "execution_count": null,
      "outputs": []
    },
    {
      "cell_type": "code",
      "metadata": {
        "colab": {
          "base_uri": "https://localhost:8080/"
        },
        "id": "At-HEMLk_nvP",
        "outputId": "1ba64883-0d00-44e8-c876-000470b1fdb4"
      },
      "source": [
        "FIN_predict"
      ],
      "execution_count": null,
      "outputs": [
        {
          "output_type": "execute_result",
          "data": {
            "text/plain": [
              "array([[0.2554415 ],\n",
              "       [0.24563962],\n",
              "       [0.5018549 ],\n",
              "       ...,\n",
              "       [0.1066395 ],\n",
              "       [0.09337652],\n",
              "       [0.1011318 ]], dtype=float32)"
            ]
          },
          "metadata": {
            "tags": []
          },
          "execution_count": 62
        }
      ]
    },
    {
      "cell_type": "markdown",
      "metadata": {
        "id": "1588_KgY515k"
      },
      "source": [
        "### Make Submission File"
      ]
    },
    {
      "cell_type": "code",
      "metadata": {
        "colab": {
          "base_uri": "https://localhost:8080/",
          "height": 204
        },
        "id": "e1Xnq4VZ51Z0",
        "outputId": "00fd569b-a6c0-4f11-cf30-29a0e7c67a50"
      },
      "source": [
        "SUBMIT = pd.DataFrame([int(i) for i in range(len(FIN_predict))], columns = ['ID'])\r\n",
        "SUBMIT['item_cnt_month'] = FIN_predict\r\n",
        "SUBMIT.head(5)"
      ],
      "execution_count": null,
      "outputs": [
        {
          "output_type": "execute_result",
          "data": {
            "text/html": [
              "<div>\n",
              "<style scoped>\n",
              "    .dataframe tbody tr th:only-of-type {\n",
              "        vertical-align: middle;\n",
              "    }\n",
              "\n",
              "    .dataframe tbody tr th {\n",
              "        vertical-align: top;\n",
              "    }\n",
              "\n",
              "    .dataframe thead th {\n",
              "        text-align: right;\n",
              "    }\n",
              "</style>\n",
              "<table border=\"1\" class=\"dataframe\">\n",
              "  <thead>\n",
              "    <tr style=\"text-align: right;\">\n",
              "      <th></th>\n",
              "      <th>ID</th>\n",
              "      <th>item_cnt_month</th>\n",
              "    </tr>\n",
              "  </thead>\n",
              "  <tbody>\n",
              "    <tr>\n",
              "      <th>0</th>\n",
              "      <td>0</td>\n",
              "      <td>0.255441</td>\n",
              "    </tr>\n",
              "    <tr>\n",
              "      <th>1</th>\n",
              "      <td>1</td>\n",
              "      <td>0.245640</td>\n",
              "    </tr>\n",
              "    <tr>\n",
              "      <th>2</th>\n",
              "      <td>2</td>\n",
              "      <td>0.501855</td>\n",
              "    </tr>\n",
              "    <tr>\n",
              "      <th>3</th>\n",
              "      <td>3</td>\n",
              "      <td>0.298129</td>\n",
              "    </tr>\n",
              "    <tr>\n",
              "      <th>4</th>\n",
              "      <td>4</td>\n",
              "      <td>1.478706</td>\n",
              "    </tr>\n",
              "  </tbody>\n",
              "</table>\n",
              "</div>"
            ],
            "text/plain": [
              "   ID  item_cnt_month\n",
              "0   0        0.255441\n",
              "1   1        0.245640\n",
              "2   2        0.501855\n",
              "3   3        0.298129\n",
              "4   4        1.478706"
            ]
          },
          "metadata": {
            "tags": []
          },
          "execution_count": 63
        }
      ]
    },
    {
      "cell_type": "code",
      "metadata": {
        "id": "_AMjxSJV6eCq"
      },
      "source": [
        "SUBMIT.to_csv(root_dir + '/Sub031102.csv', index = False)"
      ],
      "execution_count": null,
      "outputs": []
    },
    {
      "cell_type": "code",
      "metadata": {
        "id": "7GDsECB_B8Ly"
      },
      "source": [
        ""
      ],
      "execution_count": null,
      "outputs": []
    }
  ]
}
