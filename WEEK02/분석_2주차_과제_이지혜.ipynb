{
  "nbformat": 4,
  "nbformat_minor": 0,
  "metadata": {
    "kernelspec": {
      "display_name": "Python 3",
      "language": "python",
      "name": "python3"
    },
    "language_info": {
      "codemirror_mode": {
        "name": "ipython",
        "version": 3
      },
      "file_extension": ".py",
      "mimetype": "text/x-python",
      "name": "python",
      "nbconvert_exporter": "python",
      "pygments_lexer": "ipython3",
      "version": "3.7.9-final"
    },
    "colab": {
      "name": "분석 2주차 과제_이지혜.ipynb",
      "provenance": []
    }
  },
  "cells": [
    {
      "cell_type": "markdown",
      "metadata": {
        "id": "PMT8l_dn5yNh"
      },
      "source": [
        "# 분석 2주차 과제"
      ]
    },
    {
      "cell_type": "markdown",
      "metadata": {
        "id": "j6KsxQGy5yNm"
      },
      "source": [
        "# 1. LinearRegression"
      ]
    },
    {
      "cell_type": "code",
      "metadata": {
        "id": "tGqHVbXa5yNo"
      },
      "source": [
        "import pandas as pd\n",
        "from sklearn.linear_model import LinearRegression\n",
        "import numpy as np\n",
        "import matplotlib.pyplot as plt\n",
        "%matplotlib inline"
      ],
      "execution_count": 83,
      "outputs": []
    },
    {
      "cell_type": "code",
      "metadata": {
        "id": "SWeTDYvD5yNp"
      },
      "source": [
        "# 단순선형회귀\n",
        "list_y = []\n",
        "# 1부터 20까지 X data를 만들어주었습니다.\n",
        "X = np.arange(1,21) \n",
        "# X에 임의의 수를 더해 임의의 Y data를 만듭니다.\n",
        "for x in X:\n",
        "    list_y.append(x+np.random.randint(6))\n",
        "Y = np.array(list_y)\n",
        "df = pd.DataFrame({'X':X,'Y':Y})"
      ],
      "execution_count": 84,
      "outputs": []
    },
    {
      "cell_type": "code",
      "metadata": {
        "colab": {
          "base_uri": "https://localhost:8080/",
          "height": 197
        },
        "id": "LWdedkjp5yNq",
        "outputId": "a5e2169d-7523-462b-8a5d-49a890316eb1"
      },
      "source": [
        "# 데이터 확인\n",
        "df.head(5)"
      ],
      "execution_count": 85,
      "outputs": [
        {
          "output_type": "execute_result",
          "data": {
            "text/html": [
              "<div>\n",
              "<style scoped>\n",
              "    .dataframe tbody tr th:only-of-type {\n",
              "        vertical-align: middle;\n",
              "    }\n",
              "\n",
              "    .dataframe tbody tr th {\n",
              "        vertical-align: top;\n",
              "    }\n",
              "\n",
              "    .dataframe thead th {\n",
              "        text-align: right;\n",
              "    }\n",
              "</style>\n",
              "<table border=\"1\" class=\"dataframe\">\n",
              "  <thead>\n",
              "    <tr style=\"text-align: right;\">\n",
              "      <th></th>\n",
              "      <th>X</th>\n",
              "      <th>Y</th>\n",
              "    </tr>\n",
              "  </thead>\n",
              "  <tbody>\n",
              "    <tr>\n",
              "      <th>0</th>\n",
              "      <td>1</td>\n",
              "      <td>4</td>\n",
              "    </tr>\n",
              "    <tr>\n",
              "      <th>1</th>\n",
              "      <td>2</td>\n",
              "      <td>3</td>\n",
              "    </tr>\n",
              "    <tr>\n",
              "      <th>2</th>\n",
              "      <td>3</td>\n",
              "      <td>5</td>\n",
              "    </tr>\n",
              "    <tr>\n",
              "      <th>3</th>\n",
              "      <td>4</td>\n",
              "      <td>8</td>\n",
              "    </tr>\n",
              "    <tr>\n",
              "      <th>4</th>\n",
              "      <td>5</td>\n",
              "      <td>9</td>\n",
              "    </tr>\n",
              "  </tbody>\n",
              "</table>\n",
              "</div>"
            ],
            "text/plain": [
              "   X  Y\n",
              "0  1  4\n",
              "1  2  3\n",
              "2  3  5\n",
              "3  4  8\n",
              "4  5  9"
            ]
          },
          "metadata": {
            "tags": []
          },
          "execution_count": 85
        }
      ]
    },
    {
      "cell_type": "code",
      "metadata": {
        "colab": {
          "base_uri": "https://localhost:8080/"
        },
        "id": "LYFbLg4K5yNs",
        "outputId": "19244b07-d27a-41cf-e0af-718ccc784a65"
      },
      "source": [
        "# 모델 생성 후 학습시키기\n",
        "\n",
        "# normalize = True를 하면 X데이터에 정규화를 진행한다.\n",
        "LinReg = LinearRegression(\n",
        "    fit_intercept = True, normalize = True, copy_X = True\n",
        ")\n",
        "X, Y = X.reshape(-1, 1), Y.reshape(-1, 1)\n",
        "LinReg.fit(X, Y)"
      ],
      "execution_count": 86,
      "outputs": [
        {
          "output_type": "execute_result",
          "data": {
            "text/plain": [
              "LinearRegression(copy_X=True, fit_intercept=True, n_jobs=None, normalize=True)"
            ]
          },
          "metadata": {
            "tags": []
          },
          "execution_count": 86
        }
      ]
    },
    {
      "cell_type": "code",
      "metadata": {
        "colab": {
          "base_uri": "https://localhost:8080/"
        },
        "id": "y7ZwaDNI5yNt",
        "outputId": "ea3ad9ac-3a88-4476-d635-0cf968c962cd"
      },
      "source": [
        "# 회귀계수 구해보기\n",
        "\n",
        "# 회귀계수는, 즉 W의 값은 fit() method에 대해서 입력받은 x, y data를 이용해서 coef_ 속성에 저장이 된다.\n",
        "# 이는 (Target 값의 개수, Feature의 개수)의 형태로 출력이 될 것이다.\n",
        "\n",
        "print('회귀 계수 : {}'.format(LinReg.coef_))"
      ],
      "execution_count": 87,
      "outputs": [
        {
          "output_type": "stream",
          "text": [
            "회귀 계수 : [[0.93007519]]\n"
          ],
          "name": "stdout"
        }
      ]
    },
    {
      "cell_type": "code",
      "metadata": {
        "colab": {
          "base_uri": "https://localhost:8080/"
        },
        "id": "0jYcxEP45yNt",
        "outputId": "b8dfb7c5-f2d2-4904-fe47-3657a3c73b68"
      },
      "source": [
        "# 상수항 구해보기\n",
        "\n",
        "print('상수항 : {}'.format(LinReg.intercept_))"
      ],
      "execution_count": 88,
      "outputs": [
        {
          "output_type": "stream",
          "text": [
            "상수항 : [2.88421053]\n"
          ],
          "name": "stdout"
        }
      ]
    },
    {
      "cell_type": "markdown",
      "metadata": {
        "id": "oEUhioS35yNr"
      },
      "source": [
        "**LinearRegressoion을 이용하여 X data에 대해 학습을 진행한 후 직선의 방정식을 구해주세요.**\n",
        "\n",
        "[답] : Y = 2.88421053 + X * 0.93007519"
      ]
    },
    {
      "cell_type": "markdown",
      "metadata": {
        "id": "PttYtV5D5yNu"
      },
      "source": [
        "**X data에 대해 예측을 수행한 후, 그래프를 통해 학습데이터와 회귀직선을 나타내보세요.**"
      ]
    },
    {
      "cell_type": "code",
      "metadata": {
        "colab": {
          "base_uri": "https://localhost:8080/",
          "height": 627
        },
        "id": "IiyMVk3V5yNv",
        "outputId": "97a24607-a1ac-4a8b-d3b5-a19967c6b407"
      },
      "source": [
        "# X data에 대해 예측\n",
        "Y_pred = LinReg.predict(X)\n",
        "print('예측 : {}'.format(Y_pred))\n",
        "\n",
        "# 점(학습데이터)들 찍어보기\n",
        "plt.scatter(X, Y, color = 'steelblue')\n",
        "\n",
        "# 회귀직선 그려보기\n",
        "plt.plot(X, Y_pred, color = 'pink')\n",
        "plt.show()"
      ],
      "execution_count": 89,
      "outputs": [
        {
          "output_type": "stream",
          "text": [
            "예측 : [[ 3.81428571]\n",
            " [ 4.7443609 ]\n",
            " [ 5.67443609]\n",
            " [ 6.60451128]\n",
            " [ 7.53458647]\n",
            " [ 8.46466165]\n",
            " [ 9.39473684]\n",
            " [10.32481203]\n",
            " [11.25488722]\n",
            " [12.18496241]\n",
            " [13.11503759]\n",
            " [14.04511278]\n",
            " [14.97518797]\n",
            " [15.90526316]\n",
            " [16.83533835]\n",
            " [17.76541353]\n",
            " [18.69548872]\n",
            " [19.62556391]\n",
            " [20.5556391 ]\n",
            " [21.48571429]]\n"
          ],
          "name": "stdout"
        },
        {
          "output_type": "display_data",
          "data": {
            "image/png": "[encoded data removed]",
            "text/plain": [
              "<Figure size 432x288 with 1 Axes>"
            ]
          },
          "metadata": {
            "tags": [],
            "needs_background": "light"
          }
        }
      ]
    },
    {
      "cell_type": "markdown",
      "metadata": {
        "id": "1d8tNMUM5yNx"
      },
      "source": [
        "**회귀분석 평가지표 중 하나를 골라 구해보세요**\n",
        "- MSE, RMSE, R2_score 등"
      ]
    },
    {
      "cell_type": "code",
      "metadata": {
        "colab": {
          "base_uri": "https://localhost:8080/"
        },
        "id": "4FM23qs75yNx",
        "outputId": "c5373a7e-86a8-4184-b371-4ed2a0a63775"
      },
      "source": [
        "# 여기에 구해보세요!\r\n",
        "from sklearn.metrics import mean_squared_error, r2_score\r\n",
        "\r\n",
        "MSE = mean_squared_error(Y, Y_pred)\r\n",
        "RMSE = np.sqrt(MSE)\r\n",
        "R2 = r2_score(Y, Y_pred)\r\n",
        "\r\n",
        "print('MSE : {} RMSE : {} R2_score : {}'.format(MSE, RMSE, R2))"
      ],
      "execution_count": 90,
      "outputs": [
        {
          "output_type": "stream",
          "text": [
            "MSE : 1.9649248120300744 RMSE : 1.4017577579703544 R2_score : 0.9360532157829282\n"
          ],
          "name": "stdout"
        }
      ]
    },
    {
      "cell_type": "markdown",
      "metadata": {
        "id": "TfWoDeak5yNy"
      },
      "source": [
        "# Logistic Regression"
      ]
    },
    {
      "cell_type": "code",
      "metadata": {
        "id": "haEu3H7W5yNy"
      },
      "source": [
        "# 사이킷런의 데이터셋 로드\n",
        "from sklearn.datasets import load_breast_cancer"
      ],
      "execution_count": 91,
      "outputs": []
    },
    {
      "cell_type": "code",
      "metadata": {
        "id": "UyP39xY_5yN0"
      },
      "source": [
        "breast_cancer = load_breast_cancer()\n",
        "df = pd.DataFrame(data = breast_cancer.data, columns = breast_cancer.feature_names)\n",
        "df[\"label\"] = breast_cancer.target\n",
        "df.columns = [ col.replace(\" \", \"_\") for col in df.columns]"
      ],
      "execution_count": 92,
      "outputs": []
    },
    {
      "cell_type": "code",
      "metadata": {
        "colab": {
          "base_uri": "https://localhost:8080/",
          "height": 217
        },
        "id": "GeJoB_ew5yN1",
        "outputId": "4087c2c7-bcc7-4cf1-d22c-dce890004b74"
      },
      "source": [
        "# 데이터가 잘 로드되었는지 확인해보세요\n",
        "df.head(5)"
      ],
      "execution_count": 93,
      "outputs": [
        {
          "output_type": "execute_result",
          "data": {
            "text/html": [
              "<div>\n",
              "<style scoped>\n",
              "    .dataframe tbody tr th:only-of-type {\n",
              "        vertical-align: middle;\n",
              "    }\n",
              "\n",
              "    .dataframe tbody tr th {\n",
              "        vertical-align: top;\n",
              "    }\n",
              "\n",
              "    .dataframe thead th {\n",
              "        text-align: right;\n",
              "    }\n",
              "</style>\n",
              "<table border=\"1\" class=\"dataframe\">\n",
              "  <thead>\n",
              "    <tr style=\"text-align: right;\">\n",
              "      <th></th>\n",
              "      <th>mean_radius</th>\n",
              "      <th>mean_texture</th>\n",
              "      <th>mean_perimeter</th>\n",
              "      <th>mean_area</th>\n",
              "      <th>mean_smoothness</th>\n",
              "      <th>mean_compactness</th>\n",
              "      <th>mean_concavity</th>\n",
              "      <th>mean_concave_points</th>\n",
              "      <th>mean_symmetry</th>\n",
              "      <th>mean_fractal_dimension</th>\n",
              "      <th>radius_error</th>\n",
              "      <th>texture_error</th>\n",
              "      <th>perimeter_error</th>\n",
              "      <th>area_error</th>\n",
              "      <th>smoothness_error</th>\n",
              "      <th>compactness_error</th>\n",
              "      <th>concavity_error</th>\n",
              "      <th>concave_points_error</th>\n",
              "      <th>symmetry_error</th>\n",
              "      <th>fractal_dimension_error</th>\n",
              "      <th>worst_radius</th>\n",
              "      <th>worst_texture</th>\n",
              "      <th>worst_perimeter</th>\n",
              "      <th>worst_area</th>\n",
              "      <th>worst_smoothness</th>\n",
              "      <th>worst_compactness</th>\n",
              "      <th>worst_concavity</th>\n",
              "      <th>worst_concave_points</th>\n",
              "      <th>worst_symmetry</th>\n",
              "      <th>worst_fractal_dimension</th>\n",
              "      <th>label</th>\n",
              "    </tr>\n",
              "  </thead>\n",
              "  <tbody>\n",
              "    <tr>\n",
              "      <th>0</th>\n",
              "      <td>17.99</td>\n",
              "      <td>10.38</td>\n",
              "      <td>122.80</td>\n",
              "      <td>1001.0</td>\n",
              "      <td>0.11840</td>\n",
              "      <td>0.27760</td>\n",
              "      <td>0.3001</td>\n",
              "      <td>0.14710</td>\n",
              "      <td>0.2419</td>\n",
              "      <td>0.07871</td>\n",
              "      <td>1.0950</td>\n",
              "      <td>0.9053</td>\n",
              "      <td>8.589</td>\n",
              "      <td>153.40</td>\n",
              "      <td>0.006399</td>\n",
              "      <td>0.04904</td>\n",
              "      <td>0.05373</td>\n",
              "      <td>0.01587</td>\n",
              "      <td>0.03003</td>\n",
              "      <td>0.006193</td>\n",
              "      <td>25.38</td>\n",
              "      <td>17.33</td>\n",
              "      <td>184.60</td>\n",
              "      <td>2019.0</td>\n",
              "      <td>0.1622</td>\n",
              "      <td>0.6656</td>\n",
              "      <td>0.7119</td>\n",
              "      <td>0.2654</td>\n",
              "      <td>0.4601</td>\n",
              "      <td>0.11890</td>\n",
              "      <td>0</td>\n",
              "    </tr>\n",
              "    <tr>\n",
              "      <th>1</th>\n",
              "      <td>20.57</td>\n",
              "      <td>17.77</td>\n",
              "      <td>132.90</td>\n",
              "      <td>1326.0</td>\n",
              "      <td>0.08474</td>\n",
              "      <td>0.07864</td>\n",
              "      <td>0.0869</td>\n",
              "      <td>0.07017</td>\n",
              "      <td>0.1812</td>\n",
              "      <td>0.05667</td>\n",
              "      <td>0.5435</td>\n",
              "      <td>0.7339</td>\n",
              "      <td>3.398</td>\n",
              "      <td>74.08</td>\n",
              "      <td>0.005225</td>\n",
              "      <td>0.01308</td>\n",
              "      <td>0.01860</td>\n",
              "      <td>0.01340</td>\n",
              "      <td>0.01389</td>\n",
              "      <td>0.003532</td>\n",
              "      <td>24.99</td>\n",
              "      <td>23.41</td>\n",
              "      <td>158.80</td>\n",
              "      <td>1956.0</td>\n",
              "      <td>0.1238</td>\n",
              "      <td>0.1866</td>\n",
              "      <td>0.2416</td>\n",
              "      <td>0.1860</td>\n",
              "      <td>0.2750</td>\n",
              "      <td>0.08902</td>\n",
              "      <td>0</td>\n",
              "    </tr>\n",
              "    <tr>\n",
              "      <th>2</th>\n",
              "      <td>19.69</td>\n",
              "      <td>21.25</td>\n",
              "      <td>130.00</td>\n",
              "      <td>1203.0</td>\n",
              "      <td>0.10960</td>\n",
              "      <td>0.15990</td>\n",
              "      <td>0.1974</td>\n",
              "      <td>0.12790</td>\n",
              "      <td>0.2069</td>\n",
              "      <td>0.05999</td>\n",
              "      <td>0.7456</td>\n",
              "      <td>0.7869</td>\n",
              "      <td>4.585</td>\n",
              "      <td>94.03</td>\n",
              "      <td>0.006150</td>\n",
              "      <td>0.04006</td>\n",
              "      <td>0.03832</td>\n",
              "      <td>0.02058</td>\n",
              "      <td>0.02250</td>\n",
              "      <td>0.004571</td>\n",
              "      <td>23.57</td>\n",
              "      <td>25.53</td>\n",
              "      <td>152.50</td>\n",
              "      <td>1709.0</td>\n",
              "      <td>0.1444</td>\n",
              "      <td>0.4245</td>\n",
              "      <td>0.4504</td>\n",
              "      <td>0.2430</td>\n",
              "      <td>0.3613</td>\n",
              "      <td>0.08758</td>\n",
              "      <td>0</td>\n",
              "    </tr>\n",
              "    <tr>\n",
              "      <th>3</th>\n",
              "      <td>11.42</td>\n",
              "      <td>20.38</td>\n",
              "      <td>77.58</td>\n",
              "      <td>386.1</td>\n",
              "      <td>0.14250</td>\n",
              "      <td>0.28390</td>\n",
              "      <td>0.2414</td>\n",
              "      <td>0.10520</td>\n",
              "      <td>0.2597</td>\n",
              "      <td>0.09744</td>\n",
              "      <td>0.4956</td>\n",
              "      <td>1.1560</td>\n",
              "      <td>3.445</td>\n",
              "      <td>27.23</td>\n",
              "      <td>0.009110</td>\n",
              "      <td>0.07458</td>\n",
              "      <td>0.05661</td>\n",
              "      <td>0.01867</td>\n",
              "      <td>0.05963</td>\n",
              "      <td>0.009208</td>\n",
              "      <td>14.91</td>\n",
              "      <td>26.50</td>\n",
              "      <td>98.87</td>\n",
              "      <td>567.7</td>\n",
              "      <td>0.2098</td>\n",
              "      <td>0.8663</td>\n",
              "      <td>0.6869</td>\n",
              "      <td>0.2575</td>\n",
              "      <td>0.6638</td>\n",
              "      <td>0.17300</td>\n",
              "      <td>0</td>\n",
              "    </tr>\n",
              "    <tr>\n",
              "      <th>4</th>\n",
              "      <td>20.29</td>\n",
              "      <td>14.34</td>\n",
              "      <td>135.10</td>\n",
              "      <td>1297.0</td>\n",
              "      <td>0.10030</td>\n",
              "      <td>0.13280</td>\n",
              "      <td>0.1980</td>\n",
              "      <td>0.10430</td>\n",
              "      <td>0.1809</td>\n",
              "      <td>0.05883</td>\n",
              "      <td>0.7572</td>\n",
              "      <td>0.7813</td>\n",
              "      <td>5.438</td>\n",
              "      <td>94.44</td>\n",
              "      <td>0.011490</td>\n",
              "      <td>0.02461</td>\n",
              "      <td>0.05688</td>\n",
              "      <td>0.01885</td>\n",
              "      <td>0.01756</td>\n",
              "      <td>0.005115</td>\n",
              "      <td>22.54</td>\n",
              "      <td>16.67</td>\n",
              "      <td>152.20</td>\n",
              "      <td>1575.0</td>\n",
              "      <td>0.1374</td>\n",
              "      <td>0.2050</td>\n",
              "      <td>0.4000</td>\n",
              "      <td>0.1625</td>\n",
              "      <td>0.2364</td>\n",
              "      <td>0.07678</td>\n",
              "      <td>0</td>\n",
              "    </tr>\n",
              "  </tbody>\n",
              "</table>\n",
              "</div>"
            ],
            "text/plain": [
              "   mean_radius  mean_texture  ...  worst_fractal_dimension  label\n",
              "0        17.99         10.38  ...                  0.11890      0\n",
              "1        20.57         17.77  ...                  0.08902      0\n",
              "2        19.69         21.25  ...                  0.08758      0\n",
              "3        11.42         20.38  ...                  0.17300      0\n",
              "4        20.29         14.34  ...                  0.07678      0\n",
              "\n",
              "[5 rows x 31 columns]"
            ]
          },
          "metadata": {
            "tags": []
          },
          "execution_count": 93
        }
      ]
    },
    {
      "cell_type": "code",
      "metadata": {
        "colab": {
          "base_uri": "https://localhost:8080/"
        },
        "id": "-Wz5k4T95yN1",
        "outputId": "2fc13c72-4706-4c02-d837-e19493a5b2e2"
      },
      "source": [
        "df.columns"
      ],
      "execution_count": 94,
      "outputs": [
        {
          "output_type": "execute_result",
          "data": {
            "text/plain": [
              "Index(['mean_radius', 'mean_texture', 'mean_perimeter', 'mean_area',\n",
              "       'mean_smoothness', 'mean_compactness', 'mean_concavity',\n",
              "       'mean_concave_points', 'mean_symmetry', 'mean_fractal_dimension',\n",
              "       'radius_error', 'texture_error', 'perimeter_error', 'area_error',\n",
              "       'smoothness_error', 'compactness_error', 'concavity_error',\n",
              "       'concave_points_error', 'symmetry_error', 'fractal_dimension_error',\n",
              "       'worst_radius', 'worst_texture', 'worst_perimeter', 'worst_area',\n",
              "       'worst_smoothness', 'worst_compactness', 'worst_concavity',\n",
              "       'worst_concave_points', 'worst_symmetry', 'worst_fractal_dimension',\n",
              "       'label'],\n",
              "      dtype='object')"
            ]
          },
          "metadata": {
            "tags": []
          },
          "execution_count": 94
        }
      ]
    },
    {
      "cell_type": "markdown",
      "metadata": {
        "id": "FTvE1kzx5yN2"
      },
      "source": [
        "## **[변수 설명]** \n",
        "radius : 반경(중심에서 외벽까지 거리들이 평균값) <br>\n",
        "texture : 질감 <br>\n",
        "perimeter : 둘레 <br>\n",
        "area : 면적 <br>\n",
        "smoothness : 매끄러움 <br>\n",
        "compactness : 조그만 정도<br>\n",
        "concavity : 오목함(윤곽의 오목한 부분의 정도)<br>\n",
        "points : 오목한 점의 수<br>\n",
        "symmetry : 대칭<br>\n",
        "dimension : 프랙탈 차원<br>"
      ]
    },
    {
      "cell_type": "code",
      "metadata": {
        "id": "4t-9_dr75yN2"
      },
      "source": [
        "# 이번엔 mean이 들어간 변수만 사용해보겠습니다!\n",
        "# mean이 들어간 변수만 따로 뽑아 X와 Y데이터를 만들어주세요.\n",
        "def onlyMean(arr):\n",
        "    res = []\n",
        "    for column in arr:\n",
        "        if 'mean' in column.split('_'):\n",
        "            res.append(column)\n",
        "    return res\n",
        "meancol = onlyMean(list(df.columns))\n",
        "\n",
        "dfMean = df.loc[:, meancol]\n",
        "\n",
        "X, Y = dfMean, df['label']"
      ],
      "execution_count": 95,
      "outputs": []
    },
    {
      "cell_type": "code",
      "metadata": {
        "colab": {
          "base_uri": "https://localhost:8080/",
          "height": 197
        },
        "id": "MFU9ct5S5yN3",
        "outputId": "3ad2669f-b99b-412b-ecd3-a05169ff7ad8"
      },
      "source": [
        "X.head()"
      ],
      "execution_count": 96,
      "outputs": [
        {
          "output_type": "execute_result",
          "data": {
            "text/html": [
              "<div>\n",
              "<style scoped>\n",
              "    .dataframe tbody tr th:only-of-type {\n",
              "        vertical-align: middle;\n",
              "    }\n",
              "\n",
              "    .dataframe tbody tr th {\n",
              "        vertical-align: top;\n",
              "    }\n",
              "\n",
              "    .dataframe thead th {\n",
              "        text-align: right;\n",
              "    }\n",
              "</style>\n",
              "<table border=\"1\" class=\"dataframe\">\n",
              "  <thead>\n",
              "    <tr style=\"text-align: right;\">\n",
              "      <th></th>\n",
              "      <th>mean_radius</th>\n",
              "      <th>mean_texture</th>\n",
              "      <th>mean_perimeter</th>\n",
              "      <th>mean_area</th>\n",
              "      <th>mean_smoothness</th>\n",
              "      <th>mean_compactness</th>\n",
              "      <th>mean_concavity</th>\n",
              "      <th>mean_concave_points</th>\n",
              "      <th>mean_symmetry</th>\n",
              "      <th>mean_fractal_dimension</th>\n",
              "    </tr>\n",
              "  </thead>\n",
              "  <tbody>\n",
              "    <tr>\n",
              "      <th>0</th>\n",
              "      <td>17.99</td>\n",
              "      <td>10.38</td>\n",
              "      <td>122.80</td>\n",
              "      <td>1001.0</td>\n",
              "      <td>0.11840</td>\n",
              "      <td>0.27760</td>\n",
              "      <td>0.3001</td>\n",
              "      <td>0.14710</td>\n",
              "      <td>0.2419</td>\n",
              "      <td>0.07871</td>\n",
              "    </tr>\n",
              "    <tr>\n",
              "      <th>1</th>\n",
              "      <td>20.57</td>\n",
              "      <td>17.77</td>\n",
              "      <td>132.90</td>\n",
              "      <td>1326.0</td>\n",
              "      <td>0.08474</td>\n",
              "      <td>0.07864</td>\n",
              "      <td>0.0869</td>\n",
              "      <td>0.07017</td>\n",
              "      <td>0.1812</td>\n",
              "      <td>0.05667</td>\n",
              "    </tr>\n",
              "    <tr>\n",
              "      <th>2</th>\n",
              "      <td>19.69</td>\n",
              "      <td>21.25</td>\n",
              "      <td>130.00</td>\n",
              "      <td>1203.0</td>\n",
              "      <td>0.10960</td>\n",
              "      <td>0.15990</td>\n",
              "      <td>0.1974</td>\n",
              "      <td>0.12790</td>\n",
              "      <td>0.2069</td>\n",
              "      <td>0.05999</td>\n",
              "    </tr>\n",
              "    <tr>\n",
              "      <th>3</th>\n",
              "      <td>11.42</td>\n",
              "      <td>20.38</td>\n",
              "      <td>77.58</td>\n",
              "      <td>386.1</td>\n",
              "      <td>0.14250</td>\n",
              "      <td>0.28390</td>\n",
              "      <td>0.2414</td>\n",
              "      <td>0.10520</td>\n",
              "      <td>0.2597</td>\n",
              "      <td>0.09744</td>\n",
              "    </tr>\n",
              "    <tr>\n",
              "      <th>4</th>\n",
              "      <td>20.29</td>\n",
              "      <td>14.34</td>\n",
              "      <td>135.10</td>\n",
              "      <td>1297.0</td>\n",
              "      <td>0.10030</td>\n",
              "      <td>0.13280</td>\n",
              "      <td>0.1980</td>\n",
              "      <td>0.10430</td>\n",
              "      <td>0.1809</td>\n",
              "      <td>0.05883</td>\n",
              "    </tr>\n",
              "  </tbody>\n",
              "</table>\n",
              "</div>"
            ],
            "text/plain": [
              "   mean_radius  mean_texture  ...  mean_symmetry  mean_fractal_dimension\n",
              "0        17.99         10.38  ...         0.2419                 0.07871\n",
              "1        20.57         17.77  ...         0.1812                 0.05667\n",
              "2        19.69         21.25  ...         0.2069                 0.05999\n",
              "3        11.42         20.38  ...         0.2597                 0.09744\n",
              "4        20.29         14.34  ...         0.1809                 0.05883\n",
              "\n",
              "[5 rows x 10 columns]"
            ]
          },
          "metadata": {
            "tags": []
          },
          "execution_count": 96
        }
      ]
    },
    {
      "cell_type": "markdown",
      "metadata": {
        "id": "TFGK3LeF5yN3"
      },
      "source": [
        "**Heatmap을 통해 X변수 간 상관관계를 확인해보세요!**"
      ]
    },
    {
      "cell_type": "code",
      "metadata": {
        "colab": {
          "base_uri": "https://localhost:8080/",
          "height": 720
        },
        "id": "7AuSMTOX5yOK",
        "outputId": "91704254-5e47-43c2-8970-1f82696dda91"
      },
      "source": [
        "# heatmap을 통해 상관관계 확인\n",
        "\n",
        "import seaborn as sns\n",
        "\n",
        "plt.figure(figsize = (10,10))\n",
        "plt.title('CORRELATION')\n",
        "corrdf = dfMean.corr()\n",
        "ax = sns.heatmap(corrdf, cmap=\"YlGnBu\", annot = True)"
      ],
      "execution_count": 97,
      "outputs": [
        {
          "output_type": "display_data",
          "data": {
            "image/png": "[encoded data removed]",
            "text/plain": [
              "<Figure size 720x720 with 2 Axes>"
            ]
          },
          "metadata": {
            "tags": [],
            "needs_background": "light"
          }
        }
      ]
    },
    {
      "cell_type": "markdown",
      "metadata": {
        "id": "S7OH_53G5yOM"
      },
      "source": [
        "**강한 상관관계가 있는 변수들을 적어보세요!\n",
        "그리고 다중공선성과 그로 인한 문제에 대해 서술해주세요.**\n",
        "\n",
        "[답]\n",
        "\n",
        "1. 같은 column의 경우에는 당연히 상관 계수가 1이 나오는 것이 맞으나 heatmap 그래프에서 더 진한 색일 수록 강한 상관관계를 가짐을 이용하면 'mean_radius'와 'mean_perimiter'이라는 두 변수가 강한 상관관계를 가짐을 확인할 수 있다.\n",
        "\n",
        "2. 다중 일부 독립 변수가 다른 독립 변수와 높은 상관관계를 가질 때 이를 '다중 공선성 문제'가 있다고 정의한다. 이는 VIF라는 측정값으로 판단을 한다. \n",
        "  - VIF는 각각의 변수에 대해서 다른 모든 변수에 대해 '입력 변수로는 설명이 불가능한 변동 비율'의 역수로 정의 한다. 즉, 변수간의 상관 관계가 높을수록 그 값이 커진다.\n",
        "  - 그러나 이 값이 과도하게, 10보다 클 떄에는 '다중 공선성 문제'가 있다고 판단하며, 이렇게 되면 회귀선의 판단 능력이 저하된다는 문제가 생긴다.\n",
        "  - 특히나 최소 제곱법 기반의 회귀 계수 계산을 하는 경우에는 독립 변수들의 독립성에 영향을 많이 받기 때문에 다중공선성 문제의 해결을 위해서 중요한, 독립적인 독립 변수만을 남기거나 규제 적용, 차원 축소 등의 regulation 과정을 거치는 이유를 이해 할 수 있다.\n"
      ]
    },
    {
      "cell_type": "markdown",
      "metadata": {
        "id": "awrUxMDT5yON"
      },
      "source": [
        "**강한 상관관계를 가진 변수 중 일부 변수를 선택하여 X 변수를 다시 만들어주세요.**"
      ]
    },
    {
      "cell_type": "code",
      "metadata": {
        "id": "wKGI-ezy5yOO"
      },
      "source": [
        "from sklearn.model_selection import train_test_split\n",
        "\n",
        "X, Y = df[['mean_radius', 'mean_perimeter']], df['label']\n",
        "# 학습 데이터와 테스트 데이터 분할\n",
        "X_train,X_test,Y_train,Y_test = train_test_split(X,Y, test_size=0.3, random_state=1)"
      ],
      "execution_count": 98,
      "outputs": []
    },
    {
      "cell_type": "markdown",
      "metadata": {
        "id": "7BMyF4Lp5yOP"
      },
      "source": [
        "**로지스틱 회귀 모델 생성 후, test data에 대해 예측을 수행해주세요.**"
      ]
    },
    {
      "cell_type": "code",
      "metadata": {
        "colab": {
          "base_uri": "https://localhost:8080/"
        },
        "id": "4KNQMVpg5yOP",
        "outputId": "6eea7a82-9c41-47b2-af1c-6930d766e18a"
      },
      "source": [
        "from sklearn.linear_model import LogisticRegression\n",
        "\n",
        "LogReg = LogisticRegression(\n",
        "    solver = 'liblinear', multi_class = 'ovr', random_state = 0, max_iter = 10000\n",
        ")\n",
        "LogReg.fit(X_train, Y_train)\n",
        "Ypred = np.array(LogReg.predict(X_test))\n",
        "print('예측 : {}'.format(Ypred))"
      ],
      "execution_count": 109,
      "outputs": [
        {
          "output_type": "stream",
          "text": [
            "예측 : [0 1 1 0 1 0 0 0 1 1 1 1 0 1 1 1 1 1 1 0 1 1 0 1 0 1 0 0 0 0 0 1 0 1 1 1 0\n",
            " 1 1 1 1 1 1 1 1 0 1 1 1 0 0 0 1 1 1 1 1 0 1 1 1 0 0 1 1 1 1 0 1 1 1 1 1 0\n",
            " 1 0 1 1 1 0 1 0 1 0 1 1 0 1 0 1 1 1 1 1 0 1 1 1 1 1 1 1 1 1 1 1 1 1 1 0 0\n",
            " 1 1 1 0 0 1 1 1 1 1 0 0 1 1 0 0 1 0 0 1 0 1 0 1 0 0 0 1 1 1 0 1 0 1 1 1 1\n",
            " 1 0 1 1 1 1 1 1 0 1 1 1 1 1 1 0 1 1 0 0 0 1 1]\n"
          ],
          "name": "stdout"
        }
      ]
    },
    {
      "cell_type": "markdown",
      "metadata": {
        "id": "-CPmcOwZ5yOQ"
      },
      "source": [
        "**Confusion Matrix를 구하고 이를 이용하여 accuracy, precision, recall을 직접 구해보세요!**"
      ]
    },
    {
      "cell_type": "code",
      "metadata": {
        "colab": {
          "base_uri": "https://localhost:8080/"
        },
        "id": "bN-rv4Y_5yOR",
        "outputId": "c5e0baec-251e-4777-b1ed-10723d17f1b4"
      },
      "source": [
        "from sklearn.metrics import confusion_matrix\r\n",
        "\r\n",
        "Ypred = np.array(list(map(lambda x : 0 if x > 0.5 else 1, Ypred)))\r\n",
        "CM = confusion_matrix(Y_test, Ypred)\r\n",
        "CM\r\n",
        "# 출력된 오차 행렬은 ndarray의 형태로, 왼쪽 위 부터 순서대로 TN, FP, FN, TP의 값에 해당한다. "
      ],
      "execution_count": 110,
      "outputs": [
        {
          "output_type": "execute_result",
          "data": {
            "text/plain": [
              "array([[ 14,  49],\n",
              "       [102,   6]])"
            ]
          },
          "metadata": {
            "tags": []
          },
          "execution_count": 110
        }
      ]
    },
    {
      "cell_type": "code",
      "metadata": {
        "id": "aq1YUK3m54ht"
      },
      "source": [
        "TN, FP, FN, TP = CM[0][0], CM[0][1], CM[1][0], CM[1][1]"
      ],
      "execution_count": 111,
      "outputs": []
    },
    {
      "cell_type": "code",
      "metadata": {
        "id": "NgPmrTfh5yOS"
      },
      "source": [
        "# accuracy\r\n",
        "\r\n",
        "# 정확도 = 예측 결과와 실제 값이 동일한 개수 / 전체 수 = (TN + TP) / (TN + TP + FP + FN)\r\n",
        "acc = (TN + TP) / (TN + TP + FP + FN)"
      ],
      "execution_count": 112,
      "outputs": []
    },
    {
      "cell_type": "code",
      "metadata": {
        "id": "VSEhjCWW5yOS"
      },
      "source": [
        "# precision\r\n",
        "\r\n",
        "# 정밀도 = TP / (FP + TP)\r\n",
        "prec = TP / (FP + TP)"
      ],
      "execution_count": 113,
      "outputs": []
    },
    {
      "cell_type": "code",
      "metadata": {
        "id": "gTu7k19F5yOT"
      },
      "source": [
        "# recall\r\n",
        "\r\n",
        "# 재현율 = TP / (FN + TP)\r\n",
        "rec = TP / (FN + TP)"
      ],
      "execution_count": 114,
      "outputs": []
    },
    {
      "cell_type": "code",
      "metadata": {
        "colab": {
          "base_uri": "https://localhost:8080/"
        },
        "id": "SX4qOCYF6a_-",
        "outputId": "64175d59-9835-4fba-f470-1d21693087d9"
      },
      "source": [
        "print('Accuracy : {} Precision : {} Recall : {}'.format(acc, prec, rec))"
      ],
      "execution_count": 115,
      "outputs": [
        {
          "output_type": "stream",
          "text": [
            "Accuracy : 0.11695906432748537 Precision : 0.10909090909090909 Recall : 0.05555555555555555\n"
          ],
          "name": "stdout"
        }
      ]
    },
    {
      "cell_type": "code",
      "metadata": {
        "colab": {
          "base_uri": "https://localhost:8080/"
        },
        "id": "vgvS79OY5yOV",
        "outputId": "293ac255-236f-4837-cfd4-7318698c0f76"
      },
      "source": [
        "# 로지스틱 회귀의 회귀계수\r\n",
        "\r\n",
        "# 회귀계수\r\n",
        "print('회귀계수 : {}'.format(LogReg.coef_))\r\n",
        "\r\n",
        "# output = array([[ 3.72536188 -0.63469662]]) = [W1, W2]\r\n",
        "# 회귀 계수는 위에서 설정한 dataframe의 mean_radius와 mean_perimeter이라는 독립 변수의 값에 영향을 미친다.\r\n",
        "\r\n",
        "# odds = p(x) / (1 - p(x)) = exp(Y_hat)\r\n",
        "# logit = log(odds) = Y_hat"
      ],
      "execution_count": 116,
      "outputs": [
        {
          "output_type": "stream",
          "text": [
            "회귀계수 : [[ 3.72536188 -0.63469662]]\n"
          ],
          "name": "stdout"
        }
      ]
    },
    {
      "cell_type": "code",
      "metadata": {
        "colab": {
          "base_uri": "https://localhost:8080/"
        },
        "id": "Bvv2KQHGtvUH",
        "outputId": "3cf5f436-f32c-4739-d1b7-9240bda71ae2"
      },
      "source": [
        "LogReg.intercept_  # 모델의 절편"
      ],
      "execution_count": 118,
      "outputs": [
        {
          "output_type": "execute_result",
          "data": {
            "text/plain": [
              "array([6.18861286])"
            ]
          },
          "metadata": {
            "tags": []
          },
          "execution_count": 118
        }
      ]
    },
    {
      "cell_type": "code",
      "metadata": {
        "id": "h_FKrVKYtsrU"
      },
      "source": [
        "logit = np.exp(LogReg.coef_) # 확률값\r\n",
        "odds = LogReg.coef_ # 모델의 회귀계수 값"
      ],
      "execution_count": 123,
      "outputs": []
    },
    {
      "cell_type": "code",
      "metadata": {
        "colab": {
          "base_uri": "https://localhost:8080/"
        },
        "id": "Gw1IE_YYvSyp",
        "outputId": "6993fba1-6158-451d-9e4b-6e48feac2e5d"
      },
      "source": [
        "print('Odd : {} Logit : {}'.format(odds, logit))"
      ],
      "execution_count": 125,
      "outputs": [
        {
          "output_type": "stream",
          "text": [
            "Odd : [[ 3.72536188 -0.63469662]] Logit : [[41.48624301  0.53009628]]\n"
          ],
          "name": "stdout"
        }
      ]
    },
    {
      "cell_type": "markdown",
      "metadata": {
        "id": "O6yiyiDJ5yOU"
      },
      "source": [
        "**회귀계수를 구해보고 그 중 변수 2개를 골라 결과를 해석해보세요! (logit관점/odds관점) **\n",
        "\n",
        "[답]  \n",
        "p(x) = 2.60744095 * X1 + -0.56046248 * X2 + 6.18861286\n",
        "1. Logit 관점\n",
        "  - 암이 있는 사람이 암이 없는 사람에 비해서 종양 추정 물질의 반경의 크기가 클 logit이 41.48624301배 증가한다.\n",
        "  - 암이 있는 사람이 암이 없는 사람에 비해서 종양 추정 물질의 둘레가 클 logit이 52.009628배 증가한다.\n",
        "\n",
        "2. Odds 관점 (결국에는 이 값이 특정 변수를 만족시키는 확률값으로 봐도 무방하다)\n",
        "  - 암이 있는 사람이 암이 없는 사람에 비해서 종양 추정 물질의 반경의 크기가 더 클 확률이 3.72536188%이다.\n",
        "  - 암이 있는 사람이 암이 없는 사람에 비해서 종양 추정 물질의 둘레가 작을 확률이 0.63469662%, 즉 더 클 확률이 99.36530338%인 것이다.\n"
      ]
    },
    {
      "cell_type": "markdown",
      "metadata": {
        "id": "DxoPA41Q5yOW"
      },
      "source": [
        "### 주어진 데이터셋을 이용하여 주어진 문제를 해결해주세요."
      ]
    },
    {
      "cell_type": "code",
      "metadata": {
        "id": "ER9eB-Oi5yOX"
      },
      "source": [
        "import pandas as pd\n",
        "import numpy as np\n",
        "from sklearn.linear_model import LinearRegression\n",
        "from sklearn.linear_model import Ridge\n",
        "from sklearn.linear_model import Lasso\n",
        "from sklearn.model_selection import train_test_split\n",
        "from sklearn.metrics import mean_squared_error"
      ],
      "execution_count": 40,
      "outputs": []
    },
    {
      "cell_type": "markdown",
      "metadata": {
        "id": "bQvsqmX65yOY"
      },
      "source": [
        "## - Feature Scaling"
      ]
    },
    {
      "cell_type": "code",
      "metadata": {
        "colab": {
          "base_uri": "https://localhost:8080/",
          "height": 405
        },
        "id": "dydkwwEx5yOZ",
        "outputId": "4520e922-8b60-4b27-d363-63ad86f0c00d"
      },
      "source": [
        "from sklearn.datasets import load_iris\n",
        "\n",
        "#iris 데이터셋 로드\n",
        "iris=load_iris()\n",
        "iris_data=iris.data\n",
        "iris_df=pd.DataFrame(data=iris_data, columns=iris.feature_names)\n",
        "\n",
        "iris_df"
      ],
      "execution_count": 41,
      "outputs": [
        {
          "output_type": "execute_result",
          "data": {
            "text/html": [
              "<div>\n",
              "<style scoped>\n",
              "    .dataframe tbody tr th:only-of-type {\n",
              "        vertical-align: middle;\n",
              "    }\n",
              "\n",
              "    .dataframe tbody tr th {\n",
              "        vertical-align: top;\n",
              "    }\n",
              "\n",
              "    .dataframe thead th {\n",
              "        text-align: right;\n",
              "    }\n",
              "</style>\n",
              "<table border=\"1\" class=\"dataframe\">\n",
              "  <thead>\n",
              "    <tr style=\"text-align: right;\">\n",
              "      <th></th>\n",
              "      <th>sepal length (cm)</th>\n",
              "      <th>sepal width (cm)</th>\n",
              "      <th>petal length (cm)</th>\n",
              "      <th>petal width (cm)</th>\n",
              "    </tr>\n",
              "  </thead>\n",
              "  <tbody>\n",
              "    <tr>\n",
              "      <th>0</th>\n",
              "      <td>5.1</td>\n",
              "      <td>3.5</td>\n",
              "      <td>1.4</td>\n",
              "      <td>0.2</td>\n",
              "    </tr>\n",
              "    <tr>\n",
              "      <th>1</th>\n",
              "      <td>4.9</td>\n",
              "      <td>3.0</td>\n",
              "      <td>1.4</td>\n",
              "      <td>0.2</td>\n",
              "    </tr>\n",
              "    <tr>\n",
              "      <th>2</th>\n",
              "      <td>4.7</td>\n",
              "      <td>3.2</td>\n",
              "      <td>1.3</td>\n",
              "      <td>0.2</td>\n",
              "    </tr>\n",
              "    <tr>\n",
              "      <th>3</th>\n",
              "      <td>4.6</td>\n",
              "      <td>3.1</td>\n",
              "      <td>1.5</td>\n",
              "      <td>0.2</td>\n",
              "    </tr>\n",
              "    <tr>\n",
              "      <th>4</th>\n",
              "      <td>5.0</td>\n",
              "      <td>3.6</td>\n",
              "      <td>1.4</td>\n",
              "      <td>0.2</td>\n",
              "    </tr>\n",
              "    <tr>\n",
              "      <th>...</th>\n",
              "      <td>...</td>\n",
              "      <td>...</td>\n",
              "      <td>...</td>\n",
              "      <td>...</td>\n",
              "    </tr>\n",
              "    <tr>\n",
              "      <th>145</th>\n",
              "      <td>6.7</td>\n",
              "      <td>3.0</td>\n",
              "      <td>5.2</td>\n",
              "      <td>2.3</td>\n",
              "    </tr>\n",
              "    <tr>\n",
              "      <th>146</th>\n",
              "      <td>6.3</td>\n",
              "      <td>2.5</td>\n",
              "      <td>5.0</td>\n",
              "      <td>1.9</td>\n",
              "    </tr>\n",
              "    <tr>\n",
              "      <th>147</th>\n",
              "      <td>6.5</td>\n",
              "      <td>3.0</td>\n",
              "      <td>5.2</td>\n",
              "      <td>2.0</td>\n",
              "    </tr>\n",
              "    <tr>\n",
              "      <th>148</th>\n",
              "      <td>6.2</td>\n",
              "      <td>3.4</td>\n",
              "      <td>5.4</td>\n",
              "      <td>2.3</td>\n",
              "    </tr>\n",
              "    <tr>\n",
              "      <th>149</th>\n",
              "      <td>5.9</td>\n",
              "      <td>3.0</td>\n",
              "      <td>5.1</td>\n",
              "      <td>1.8</td>\n",
              "    </tr>\n",
              "  </tbody>\n",
              "</table>\n",
              "<p>150 rows × 4 columns</p>\n",
              "</div>"
            ],
            "text/plain": [
              "     sepal length (cm)  sepal width (cm)  petal length (cm)  petal width (cm)\n",
              "0                  5.1               3.5                1.4               0.2\n",
              "1                  4.9               3.0                1.4               0.2\n",
              "2                  4.7               3.2                1.3               0.2\n",
              "3                  4.6               3.1                1.5               0.2\n",
              "4                  5.0               3.6                1.4               0.2\n",
              "..                 ...               ...                ...               ...\n",
              "145                6.7               3.0                5.2               2.3\n",
              "146                6.3               2.5                5.0               1.9\n",
              "147                6.5               3.0                5.2               2.0\n",
              "148                6.2               3.4                5.4               2.3\n",
              "149                5.9               3.0                5.1               1.8\n",
              "\n",
              "[150 rows x 4 columns]"
            ]
          },
          "metadata": {
            "tags": []
          },
          "execution_count": 41
        }
      ]
    },
    {
      "cell_type": "markdown",
      "metadata": {
        "id": "hWQpSoyc5yOa"
      },
      "source": [
        "#### 1. iris 데이터셋에 MinMaxScaler를 적용하고 각 칼럼별 평균과 분산을 구하세요."
      ]
    },
    {
      "cell_type": "code",
      "metadata": {
        "colab": {
          "base_uri": "https://localhost:8080/"
        },
        "id": "cdIexPUN5yOb",
        "outputId": "171262d0-473e-4fef-dc5b-d148d5c5cac6"
      },
      "source": [
        "from sklearn.preprocessing import MinMaxScaler\n",
        "\n",
        "scaler = MinMaxScaler()\n",
        "scaler.fit(iris_df)\n",
        "scaledIris_df = pd.DataFrame(data = scaler.fit_transform(iris_df), columns = iris.feature_names)\n",
        "\n",
        "print('Feature Means')\n",
        "print(scaledIris_df.mean())\n",
        "print('Feature Variance')\n",
        "print(scaledIris_df.var())"
      ],
      "execution_count": 42,
      "outputs": [
        {
          "output_type": "stream",
          "text": [
            "Feature Means\n",
            "sepal length (cm)    0.428704\n",
            "sepal width (cm)     0.440556\n",
            "petal length (cm)    0.467458\n",
            "petal width (cm)     0.458056\n",
            "dtype: float64\n",
            "Feature Variance\n",
            "sepal length (cm)    0.052908\n",
            "sepal width (cm)     0.032983\n",
            "petal length (cm)    0.089522\n",
            "petal width (cm)     0.100869\n",
            "dtype: float64\n"
          ],
          "name": "stdout"
        }
      ]
    },
    {
      "cell_type": "markdown",
      "metadata": {
        "id": "fyBH_xD95yOc"
      },
      "source": [
        "#### 2. iris 데이터셋에 StandardScaler를 적용하고 각 칼럼별 평균과 분산을 구하세요."
      ]
    },
    {
      "cell_type": "code",
      "metadata": {
        "colab": {
          "base_uri": "https://localhost:8080/"
        },
        "id": "Z1-p-uSO5yOc",
        "outputId": "e232c3c7-4435-46ad-c556-d9aefe6513c7"
      },
      "source": [
        "from sklearn.preprocessing import StandardScaler\n",
        "\n",
        "scaler = StandardScaler()\n",
        "scaledIris_df = pd.DataFrame(data = scaler.fit_transform(iris_df), columns = iris.feature_names)\n",
        "\n",
        "print('Feature Means')\n",
        "print(scaledIris_df.mean())\n",
        "print()\n",
        "print('Feature Variance')\n",
        "print(scaledIris_df.var())"
      ],
      "execution_count": 45,
      "outputs": [
        {
          "output_type": "stream",
          "text": [
            "Feature Means\n",
            "sepal length (cm)   -1.690315e-15\n",
            "sepal width (cm)    -1.842970e-15\n",
            "petal length (cm)   -1.698641e-15\n",
            "petal width (cm)    -1.409243e-15\n",
            "dtype: float64\n",
            "\n",
            "Feature Variance\n",
            "sepal length (cm)    1.006711\n",
            "sepal width (cm)     1.006711\n",
            "petal length (cm)    1.006711\n",
            "petal width (cm)     1.006711\n",
            "dtype: float64\n"
          ],
          "name": "stdout"
        }
      ]
    },
    {
      "cell_type": "markdown",
      "metadata": {
        "id": "vhpZVWfz5yOd"
      },
      "source": [
        "#### 3. normalization과 standardization의 차이점을 설명하세요."
      ]
    },
    {
      "cell_type": "markdown",
      "metadata": {
        "id": "Uvac72o7BBJ0"
      },
      "source": [
        "1. Normalization, 즉 정규화는 서로 다른 feature(특징)의 크기를 통일하기 위해 크기를 변환해 준다. 즉, 단위가 다른 데이터가 있다거 할 때 이를 정량적으로 비교하기 힘들어 오류가 발생할 상황을 위해서 개별 데이터의 크기를 모두 같은 단위로 바꾸어 준다. \r\n",
        "2. 반면에 Standardization, 즉 표준화는 평균이 0이고 표준편차가 1인 데이터로 변환해 준다.\r\n",
        "  - sklearn을 이용하야 예측을 할 때 SVM, Linear Regression, Logistic Regression을 사용하게 되면 이 모델들은 데이터가 정규화된 상태로 가정하고 예측하기 때문에 사전에 표준화를 해 주는 것이 매우 중요하다."
      ]
    },
    {
      "cell_type": "markdown",
      "metadata": {
        "id": "vySPEFYY5yOf"
      },
      "source": [
        "## - Regularization"
      ]
    },
    {
      "cell_type": "code",
      "metadata": {
        "colab": {
          "base_uri": "https://localhost:8080/",
          "height": 405
        },
        "id": "LQgKvrfT5yOf",
        "outputId": "2e82c27d-52bf-483f-d0a3-57182a69f3fc"
      },
      "source": [
        "from sklearn.datasets import load_boston\n",
        "\n",
        "#boston 집값 데이터셋 로드\n",
        "boston=load_boston()\n",
        "boston_price=boston.target\n",
        "boston_data=boston.data\n",
        "boston_df=pd.DataFrame(data=boston_data, columns=boston.feature_names)\n",
        "\n",
        "boston_df"
      ],
      "execution_count": 46,
      "outputs": [
        {
          "output_type": "execute_result",
          "data": {
            "text/html": [
              "<div>\n",
              "<style scoped>\n",
              "    .dataframe tbody tr th:only-of-type {\n",
              "        vertical-align: middle;\n",
              "    }\n",
              "\n",
              "    .dataframe tbody tr th {\n",
              "        vertical-align: top;\n",
              "    }\n",
              "\n",
              "    .dataframe thead th {\n",
              "        text-align: right;\n",
              "    }\n",
              "</style>\n",
              "<table border=\"1\" class=\"dataframe\">\n",
              "  <thead>\n",
              "    <tr style=\"text-align: right;\">\n",
              "      <th></th>\n",
              "      <th>CRIM</th>\n",
              "      <th>ZN</th>\n",
              "      <th>INDUS</th>\n",
              "      <th>CHAS</th>\n",
              "      <th>NOX</th>\n",
              "      <th>RM</th>\n",
              "      <th>AGE</th>\n",
              "      <th>DIS</th>\n",
              "      <th>RAD</th>\n",
              "      <th>TAX</th>\n",
              "      <th>PTRATIO</th>\n",
              "      <th>B</th>\n",
              "      <th>LSTAT</th>\n",
              "    </tr>\n",
              "  </thead>\n",
              "  <tbody>\n",
              "    <tr>\n",
              "      <th>0</th>\n",
              "      <td>0.00632</td>\n",
              "      <td>18.0</td>\n",
              "      <td>2.31</td>\n",
              "      <td>0.0</td>\n",
              "      <td>0.538</td>\n",
              "      <td>6.575</td>\n",
              "      <td>65.2</td>\n",
              "      <td>4.0900</td>\n",
              "      <td>1.0</td>\n",
              "      <td>296.0</td>\n",
              "      <td>15.3</td>\n",
              "      <td>396.90</td>\n",
              "      <td>4.98</td>\n",
              "    </tr>\n",
              "    <tr>\n",
              "      <th>1</th>\n",
              "      <td>0.02731</td>\n",
              "      <td>0.0</td>\n",
              "      <td>7.07</td>\n",
              "      <td>0.0</td>\n",
              "      <td>0.469</td>\n",
              "      <td>6.421</td>\n",
              "      <td>78.9</td>\n",
              "      <td>4.9671</td>\n",
              "      <td>2.0</td>\n",
              "      <td>242.0</td>\n",
              "      <td>17.8</td>\n",
              "      <td>396.90</td>\n",
              "      <td>9.14</td>\n",
              "    </tr>\n",
              "    <tr>\n",
              "      <th>2</th>\n",
              "      <td>0.02729</td>\n",
              "      <td>0.0</td>\n",
              "      <td>7.07</td>\n",
              "      <td>0.0</td>\n",
              "      <td>0.469</td>\n",
              "      <td>7.185</td>\n",
              "      <td>61.1</td>\n",
              "      <td>4.9671</td>\n",
              "      <td>2.0</td>\n",
              "      <td>242.0</td>\n",
              "      <td>17.8</td>\n",
              "      <td>392.83</td>\n",
              "      <td>4.03</td>\n",
              "    </tr>\n",
              "    <tr>\n",
              "      <th>3</th>\n",
              "      <td>0.03237</td>\n",
              "      <td>0.0</td>\n",
              "      <td>2.18</td>\n",
              "      <td>0.0</td>\n",
              "      <td>0.458</td>\n",
              "      <td>6.998</td>\n",
              "      <td>45.8</td>\n",
              "      <td>6.0622</td>\n",
              "      <td>3.0</td>\n",
              "      <td>222.0</td>\n",
              "      <td>18.7</td>\n",
              "      <td>394.63</td>\n",
              "      <td>2.94</td>\n",
              "    </tr>\n",
              "    <tr>\n",
              "      <th>4</th>\n",
              "      <td>0.06905</td>\n",
              "      <td>0.0</td>\n",
              "      <td>2.18</td>\n",
              "      <td>0.0</td>\n",
              "      <td>0.458</td>\n",
              "      <td>7.147</td>\n",
              "      <td>54.2</td>\n",
              "      <td>6.0622</td>\n",
              "      <td>3.0</td>\n",
              "      <td>222.0</td>\n",
              "      <td>18.7</td>\n",
              "      <td>396.90</td>\n",
              "      <td>5.33</td>\n",
              "    </tr>\n",
              "    <tr>\n",
              "      <th>...</th>\n",
              "      <td>...</td>\n",
              "      <td>...</td>\n",
              "      <td>...</td>\n",
              "      <td>...</td>\n",
              "      <td>...</td>\n",
              "      <td>...</td>\n",
              "      <td>...</td>\n",
              "      <td>...</td>\n",
              "      <td>...</td>\n",
              "      <td>...</td>\n",
              "      <td>...</td>\n",
              "      <td>...</td>\n",
              "      <td>...</td>\n",
              "    </tr>\n",
              "    <tr>\n",
              "      <th>501</th>\n",
              "      <td>0.06263</td>\n",
              "      <td>0.0</td>\n",
              "      <td>11.93</td>\n",
              "      <td>0.0</td>\n",
              "      <td>0.573</td>\n",
              "      <td>6.593</td>\n",
              "      <td>69.1</td>\n",
              "      <td>2.4786</td>\n",
              "      <td>1.0</td>\n",
              "      <td>273.0</td>\n",
              "      <td>21.0</td>\n",
              "      <td>391.99</td>\n",
              "      <td>9.67</td>\n",
              "    </tr>\n",
              "    <tr>\n",
              "      <th>502</th>\n",
              "      <td>0.04527</td>\n",
              "      <td>0.0</td>\n",
              "      <td>11.93</td>\n",
              "      <td>0.0</td>\n",
              "      <td>0.573</td>\n",
              "      <td>6.120</td>\n",
              "      <td>76.7</td>\n",
              "      <td>2.2875</td>\n",
              "      <td>1.0</td>\n",
              "      <td>273.0</td>\n",
              "      <td>21.0</td>\n",
              "      <td>396.90</td>\n",
              "      <td>9.08</td>\n",
              "    </tr>\n",
              "    <tr>\n",
              "      <th>503</th>\n",
              "      <td>0.06076</td>\n",
              "      <td>0.0</td>\n",
              "      <td>11.93</td>\n",
              "      <td>0.0</td>\n",
              "      <td>0.573</td>\n",
              "      <td>6.976</td>\n",
              "      <td>91.0</td>\n",
              "      <td>2.1675</td>\n",
              "      <td>1.0</td>\n",
              "      <td>273.0</td>\n",
              "      <td>21.0</td>\n",
              "      <td>396.90</td>\n",
              "      <td>5.64</td>\n",
              "    </tr>\n",
              "    <tr>\n",
              "      <th>504</th>\n",
              "      <td>0.10959</td>\n",
              "      <td>0.0</td>\n",
              "      <td>11.93</td>\n",
              "      <td>0.0</td>\n",
              "      <td>0.573</td>\n",
              "      <td>6.794</td>\n",
              "      <td>89.3</td>\n",
              "      <td>2.3889</td>\n",
              "      <td>1.0</td>\n",
              "      <td>273.0</td>\n",
              "      <td>21.0</td>\n",
              "      <td>393.45</td>\n",
              "      <td>6.48</td>\n",
              "    </tr>\n",
              "    <tr>\n",
              "      <th>505</th>\n",
              "      <td>0.04741</td>\n",
              "      <td>0.0</td>\n",
              "      <td>11.93</td>\n",
              "      <td>0.0</td>\n",
              "      <td>0.573</td>\n",
              "      <td>6.030</td>\n",
              "      <td>80.8</td>\n",
              "      <td>2.5050</td>\n",
              "      <td>1.0</td>\n",
              "      <td>273.0</td>\n",
              "      <td>21.0</td>\n",
              "      <td>396.90</td>\n",
              "      <td>7.88</td>\n",
              "    </tr>\n",
              "  </tbody>\n",
              "</table>\n",
              "<p>506 rows × 13 columns</p>\n",
              "</div>"
            ],
            "text/plain": [
              "        CRIM    ZN  INDUS  CHAS    NOX  ...  RAD    TAX  PTRATIO       B  LSTAT\n",
              "0    0.00632  18.0   2.31   0.0  0.538  ...  1.0  296.0     15.3  396.90   4.98\n",
              "1    0.02731   0.0   7.07   0.0  0.469  ...  2.0  242.0     17.8  396.90   9.14\n",
              "2    0.02729   0.0   7.07   0.0  0.469  ...  2.0  242.0     17.8  392.83   4.03\n",
              "3    0.03237   0.0   2.18   0.0  0.458  ...  3.0  222.0     18.7  394.63   2.94\n",
              "4    0.06905   0.0   2.18   0.0  0.458  ...  3.0  222.0     18.7  396.90   5.33\n",
              "..       ...   ...    ...   ...    ...  ...  ...    ...      ...     ...    ...\n",
              "501  0.06263   0.0  11.93   0.0  0.573  ...  1.0  273.0     21.0  391.99   9.67\n",
              "502  0.04527   0.0  11.93   0.0  0.573  ...  1.0  273.0     21.0  396.90   9.08\n",
              "503  0.06076   0.0  11.93   0.0  0.573  ...  1.0  273.0     21.0  396.90   5.64\n",
              "504  0.10959   0.0  11.93   0.0  0.573  ...  1.0  273.0     21.0  393.45   6.48\n",
              "505  0.04741   0.0  11.93   0.0  0.573  ...  1.0  273.0     21.0  396.90   7.88\n",
              "\n",
              "[506 rows x 13 columns]"
            ]
          },
          "metadata": {
            "tags": []
          },
          "execution_count": 46
        }
      ]
    },
    {
      "cell_type": "markdown",
      "metadata": {
        "id": "-rqI18B-5yOg"
      },
      "source": [
        "#### 4. training data와 test data를 분리해주세요(비율 자유)"
      ]
    },
    {
      "cell_type": "code",
      "metadata": {
        "id": "in9Gwjzp5yOh"
      },
      "source": [
        "x_train, x_test, y_train, y_test = train_test_split(boston_df, boston_price, test_size = 0.2, random_state = 1)"
      ],
      "execution_count": 73,
      "outputs": []
    },
    {
      "cell_type": "markdown",
      "metadata": {
        "id": "E7s4f4f15yOi"
      },
      "source": [
        "#### 5. LinearRegression, Ridge, Lasso 각각의 방법으로 모델을 학습시키고 예측하여 RMSE값을 구해주세요. 세 경우의 RMSE값을 비교해주세요."
      ]
    },
    {
      "cell_type": "code",
      "metadata": {
        "colab": {
          "base_uri": "https://localhost:8080/"
        },
        "id": "yLdGveaT5yOi",
        "outputId": "d409e675-eb6b-456b-fe73-3ac8ddc1b895"
      },
      "source": [
        "# LinearRegression\n",
        "from sklearn.metrics import mean_squared_error\n",
        "\n",
        "# LinearRegression에 적용하기 전에 StandardScaler을 이용하여 x_train에 대해 fit()를 적용한 scaler을 이용해서 x_test에 fit_transform()을 적용해야한다.\n",
        "scaler = StandardScaler()\n",
        "x_train_scaled, x_test_scaled = scaler.fit_transform(x_train), scaler.transform(x_test)\n",
        "\n",
        "LInReg = LinearRegression()\n",
        "LinReg.fit(x_train_scaled, y_train)\n",
        "y_predict = LinReg.predict(x_test_scaled)\n",
        "\n",
        "RMSE = np.sqrt(mean_squared_error(y_test, y_predict))\n",
        "print('RMSE값 : {}'.format(RMSE))"
      ],
      "execution_count": 74,
      "outputs": [
        {
          "output_type": "stream",
          "text": [
            "RMSE값 : 4.835373458200535\n"
          ],
          "name": "stdout"
        }
      ]
    },
    {
      "cell_type": "code",
      "metadata": {
        "colab": {
          "base_uri": "https://localhost:8080/"
        },
        "id": "ZXCIzT6S5yOj",
        "outputId": "4f79216a-f22b-4866-f572-8717075d6512"
      },
      "source": [
        "#Ridge\n",
        "from sklearn.linear_model import Ridge\n",
        "\n",
        "parameters = {'alpha' : np.random.rand(1000)}\n",
        "RidgeReg = Ridge()\n",
        "\n",
        "clf = GridSearchCV(RidgeReg, parameters)\n",
        "clf.fit(x_train_scaled, y_train)\n",
        "\n",
        "y_predict = clf.predict(x_test_scaled)\n",
        "RMSE2 = np.sqrt(mean_squared_error(y_test, y_predict))\n",
        "print('RMSE값 : {}'.format(RMSE2))"
      ],
      "execution_count": 77,
      "outputs": [
        {
          "output_type": "stream",
          "text": [
            "RMSE값 : 4.835512731836524\n"
          ],
          "name": "stdout"
        }
      ]
    },
    {
      "cell_type": "code",
      "metadata": {
        "colab": {
          "base_uri": "https://localhost:8080/"
        },
        "id": "_-0-MC_k5yOk",
        "outputId": "ff11e0d2-a6d7-4866-cd13-579d375b37de"
      },
      "source": [
        "#Lasso\n",
        "from sklearn.linear_model import Lasso\n",
        "from sklearn.model_selection import GridSearchCV\n",
        "\n",
        "parameters = {'alpha' : np.random.rand(1000)}\n",
        "LassoReg = Lasso()\n",
        "\n",
        "clf = GridSearchCV(LassoReg, parameters)\n",
        "clf.fit(x_train_scaled, y_train)\n",
        "\n",
        "y_predict = clf.predict(x_test_scaled)\n",
        "RMSE3 = np.sqrt(np.mean(list(map(lambda x: x**2, y_predict - y_test))))\n",
        "print('RMSE값 : {}'.format(RMSE3))"
      ],
      "execution_count": 78,
      "outputs": [
        {
          "output_type": "stream",
          "text": [
            "RMSE값 : 4.846690475432399\n"
          ],
          "name": "stdout"
        }
      ]
    },
    {
      "cell_type": "code",
      "metadata": {
        "id": "QxkOBAjg5yOl"
      },
      "source": [
        "# RMSE과 비교\r\n",
        "# 매우 근소한 차이이지만 Linear Regression, Ridge, Lasso의 순으로 RMSE값이 증가한다."
      ],
      "execution_count": 79,
      "outputs": []
    },
    {
      "cell_type": "markdown",
      "metadata": {
        "id": "vL1BBcXvTb_Y"
      },
      "source": [
        "** "
      ]
    },
    {
      "cell_type": "markdown",
      "metadata": {
        "id": "zPGUlrvJ5yOm"
      },
      "source": [
        "# 수고하셨습니다 :D"
      ]
    }
  ]
}