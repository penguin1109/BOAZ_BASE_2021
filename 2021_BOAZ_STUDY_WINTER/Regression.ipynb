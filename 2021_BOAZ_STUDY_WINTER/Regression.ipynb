{
  "nbformat": 4,
  "nbformat_minor": 0,
  "metadata": {
    "language_info": {
      "codemirror_mode": {
        "name": "ipython",
        "version": 3
      },
      "file_extension": ".py",
      "mimetype": "text/x-python",
      "name": "python",
      "nbconvert_exporter": "python",
      "pygments_lexer": "ipython3",
      "version": "3.7.9-final"
    },
    "orig_nbformat": 2,
    "kernelspec": {
      "name": "python3",
      "display_name": "Python 3",
      "language": "python"
    },
    "colab": {
      "name": "Regression.ipynb",
      "provenance": [],
      "include_colab_link": true
    }
  },
  "cells": [
    {
      "cell_type": "markdown",
      "metadata": {
        "id": "view-in-github",
        "colab_type": "text"
      },
      "source": [
        "<a href=\"https://colab.research.google.com/github/penguin1109/BOAZ_BASE_2021/blob/main/Regression.ipynb\" target=\"_parent\"><img src=\"https://colab.research.google.com/assets/colab-badge.svg\" alt=\"Open In Colab\"/></a>"
      ]
    },
    {
      "cell_type": "code",
      "metadata": {
        "colab": {
          "resources": {
            "http://localhost:8080/nbextensions/google.colab/files.js": {
              "data": "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",
              "ok": true,
              "headers": [
                [
                  "content-type",
                  "application/javascript"
                ]
              ],
              "status": 200,
              "status_text": ""
            }
          },
          "base_uri": "https://localhost:8080/",
          "height": 294
        },
        "id": "a6ktPimuENEa",
        "outputId": "44f04f87-7559-4799-ef4f-391688313db0"
      },
      "source": [
        "import tensorflow as tf\r\n",
        "import numpy as np\r\n",
        "import torch\r\n",
        "\r\n",
        "!pip install kaggle\r\n",
        "from google.colab import files\r\n",
        "files.upload()"
      ],
      "execution_count": 1,
      "outputs": [
        {
          "output_type": "stream",
          "text": [
            "Requirement already satisfied: kaggle in /usr/local/lib/python3.6/dist-packages (1.5.10)\n",
            "Requirement already satisfied: tqdm in /usr/local/lib/python3.6/dist-packages (from kaggle) (4.41.1)\n",
            "Requirement already satisfied: certifi in /usr/local/lib/python3.6/dist-packages (from kaggle) (2020.12.5)\n",
            "Requirement already satisfied: python-dateutil in /usr/local/lib/python3.6/dist-packages (from kaggle) (2.8.1)\n",
            "Requirement already satisfied: urllib3 in /usr/local/lib/python3.6/dist-packages (from kaggle) (1.24.3)\n",
            "Requirement already satisfied: python-slugify in /usr/local/lib/python3.6/dist-packages (from kaggle) (4.0.1)\n",
            "Requirement already satisfied: six>=1.10 in /usr/local/lib/python3.6/dist-packages (from kaggle) (1.15.0)\n",
            "Requirement already satisfied: requests in /usr/local/lib/python3.6/dist-packages (from kaggle) (2.23.0)\n",
            "Requirement already satisfied: text-unidecode>=1.3 in /usr/local/lib/python3.6/dist-packages (from python-slugify->kaggle) (1.3)\n",
            "Requirement already satisfied: chardet<4,>=3.0.2 in /usr/local/lib/python3.6/dist-packages (from requests->kaggle) (3.0.4)\n",
            "Requirement already satisfied: idna<3,>=2.5 in /usr/local/lib/python3.6/dist-packages (from requests->kaggle) (2.10)\n"
          ],
          "name": "stdout"
        },
        {
          "output_type": "display_data",
          "data": {
            "text/html": [
              "\n",
              "     <input type=\"file\" id=\"files-01569d48-3f86-4cc2-9451-43977ff00a29\" name=\"files[]\" multiple disabled\n",
              "        style=\"border:none\" />\n",
              "     <output id=\"result-01569d48-3f86-4cc2-9451-43977ff00a29\">\n",
              "      Upload widget is only available when the cell has been executed in the\n",
              "      current browser session. Please rerun this cell to enable.\n",
              "      </output>\n",
              "      <script src=\"/nbextensions/google.colab/files.js\"></script> "
            ],
            "text/plain": [
              "<IPython.core.display.HTML object>"
            ]
          },
          "metadata": {
            "tags": []
          }
        },
        {
          "output_type": "stream",
          "text": [
            "Saving kaggle.json to kaggle (1).json\n"
          ],
          "name": "stdout"
        },
        {
          "output_type": "execute_result",
          "data": {
            "text/plain": [
              "{'kaggle.json': b'{\"username\":\"beasterea1109\",\"key\":\"279cae26f5489744999fb4892f9b1c35\"}'}"
            ]
          },
          "metadata": {
            "tags": []
          },
          "execution_count": 1
        }
      ]
    },
    {
      "cell_type": "code",
      "metadata": {
        "id": "S6bZ7vGDPnBb"
      },
      "source": [
        "# json 파일 옮겨주기\r\n",
        "!mkdir -p ~/.kaggle\r\n",
        "!cp kaggle.json ~/.kaggle/\r\n",
        "# Permission Warning 이 일어나지 않도록 \r\n",
        "!chmod 600 ~/.kaggle/kaggle.json"
      ],
      "execution_count": 2,
      "outputs": []
    },
    {
      "cell_type": "code",
      "metadata": {
        "colab": {
          "base_uri": "https://localhost:8080/"
        },
        "id": "NYjY6-gUENE0",
        "outputId": "18a2cbad-9f3a-4f78-ac92-c803c44193c4"
      },
      "source": [
        "!kaggle competitions download -c bike-sharing-demand"
      ],
      "execution_count": 4,
      "outputs": [
        {
          "output_type": "stream",
          "text": [
            "Warning: Looks like you're using an outdated API Version, please consider updating (server 1.5.10 / client 1.5.4)\n",
            "Downloading sampleSubmission.csv to /content\n",
            "  0% 0.00/140k [00:00<?, ?B/s]\n",
            "100% 140k/140k [00:00<00:00, 53.0MB/s]\n",
            "Downloading test.csv to /content\n",
            "  0% 0.00/316k [00:00<?, ?B/s]\n",
            "100% 316k/316k [00:00<00:00, 90.7MB/s]\n",
            "Downloading train.csv to /content\n",
            "  0% 0.00/633k [00:00<?, ?B/s]\n",
            "100% 633k/633k [00:00<00:00, 87.5MB/s]\n"
          ],
          "name": "stdout"
        }
      ]
    },
    {
      "cell_type": "code",
      "metadata": {
        "colab": {
          "base_uri": "https://localhost:8080/"
        },
        "id": "Twj_LZuJENE3",
        "outputId": "602da18a-78ed-4ba9-8249-90bc087d8e5f"
      },
      "source": [
        "# 다운로드 된 것들 다 보기 \r\n",
        "!ls\r\n",
        "# 필요하면 압축 풀기 \r\n",
        "!unzip train.zip"
      ],
      "execution_count": 5,
      "outputs": [
        {
          "output_type": "stream",
          "text": [
            "kaggle.json  sample_data  sampleSubmission.csv\ttest.csv  train.csv\n",
            "unzip:  cannot find or open train.zip, train.zip.zip or train.zip.ZIP.\n"
          ],
          "name": "stdout"
        }
      ]
    },
    {
      "cell_type": "code",
      "metadata": {
        "colab": {
          "base_uri": "https://localhost:8080/",
          "height": 215
        },
        "id": "E7Veri1MP24h",
        "outputId": "2fd0c5c8-387b-4693-997c-e27628d5a005"
      },
      "source": [
        "import pandas as pd\r\n",
        "\r\n",
        "bike_df = pd.read_csv('/content/train.csv')\r\n",
        "print(bike_df.shape)\r\n",
        "bike_df.head()"
      ],
      "execution_count": 6,
      "outputs": [
        {
          "output_type": "stream",
          "text": [
            "(10886, 12)\n"
          ],
          "name": "stdout"
        },
        {
          "output_type": "execute_result",
          "data": {
            "text/html": [
              "<div>\n",
              "<style scoped>\n",
              "    .dataframe tbody tr th:only-of-type {\n",
              "        vertical-align: middle;\n",
              "    }\n",
              "\n",
              "    .dataframe tbody tr th {\n",
              "        vertical-align: top;\n",
              "    }\n",
              "\n",
              "    .dataframe thead th {\n",
              "        text-align: right;\n",
              "    }\n",
              "</style>\n",
              "<table border=\"1\" class=\"dataframe\">\n",
              "  <thead>\n",
              "    <tr style=\"text-align: right;\">\n",
              "      <th></th>\n",
              "      <th>datetime</th>\n",
              "      <th>season</th>\n",
              "      <th>holiday</th>\n",
              "      <th>workingday</th>\n",
              "      <th>weather</th>\n",
              "      <th>temp</th>\n",
              "      <th>atemp</th>\n",
              "      <th>humidity</th>\n",
              "      <th>windspeed</th>\n",
              "      <th>casual</th>\n",
              "      <th>registered</th>\n",
              "      <th>count</th>\n",
              "    </tr>\n",
              "  </thead>\n",
              "  <tbody>\n",
              "    <tr>\n",
              "      <th>0</th>\n",
              "      <td>2011-01-01 00:00:00</td>\n",
              "      <td>1</td>\n",
              "      <td>0</td>\n",
              "      <td>0</td>\n",
              "      <td>1</td>\n",
              "      <td>9.84</td>\n",
              "      <td>14.395</td>\n",
              "      <td>81</td>\n",
              "      <td>0.0</td>\n",
              "      <td>3</td>\n",
              "      <td>13</td>\n",
              "      <td>16</td>\n",
              "    </tr>\n",
              "    <tr>\n",
              "      <th>1</th>\n",
              "      <td>2011-01-01 01:00:00</td>\n",
              "      <td>1</td>\n",
              "      <td>0</td>\n",
              "      <td>0</td>\n",
              "      <td>1</td>\n",
              "      <td>9.02</td>\n",
              "      <td>13.635</td>\n",
              "      <td>80</td>\n",
              "      <td>0.0</td>\n",
              "      <td>8</td>\n",
              "      <td>32</td>\n",
              "      <td>40</td>\n",
              "    </tr>\n",
              "    <tr>\n",
              "      <th>2</th>\n",
              "      <td>2011-01-01 02:00:00</td>\n",
              "      <td>1</td>\n",
              "      <td>0</td>\n",
              "      <td>0</td>\n",
              "      <td>1</td>\n",
              "      <td>9.02</td>\n",
              "      <td>13.635</td>\n",
              "      <td>80</td>\n",
              "      <td>0.0</td>\n",
              "      <td>5</td>\n",
              "      <td>27</td>\n",
              "      <td>32</td>\n",
              "    </tr>\n",
              "    <tr>\n",
              "      <th>3</th>\n",
              "      <td>2011-01-01 03:00:00</td>\n",
              "      <td>1</td>\n",
              "      <td>0</td>\n",
              "      <td>0</td>\n",
              "      <td>1</td>\n",
              "      <td>9.84</td>\n",
              "      <td>14.395</td>\n",
              "      <td>75</td>\n",
              "      <td>0.0</td>\n",
              "      <td>3</td>\n",
              "      <td>10</td>\n",
              "      <td>13</td>\n",
              "    </tr>\n",
              "    <tr>\n",
              "      <th>4</th>\n",
              "      <td>2011-01-01 04:00:00</td>\n",
              "      <td>1</td>\n",
              "      <td>0</td>\n",
              "      <td>0</td>\n",
              "      <td>1</td>\n",
              "      <td>9.84</td>\n",
              "      <td>14.395</td>\n",
              "      <td>75</td>\n",
              "      <td>0.0</td>\n",
              "      <td>0</td>\n",
              "      <td>1</td>\n",
              "      <td>1</td>\n",
              "    </tr>\n",
              "  </tbody>\n",
              "</table>\n",
              "</div>"
            ],
            "text/plain": [
              "              datetime  season  holiday  ...  casual  registered  count\n",
              "0  2011-01-01 00:00:00       1        0  ...       3          13     16\n",
              "1  2011-01-01 01:00:00       1        0  ...       8          32     40\n",
              "2  2011-01-01 02:00:00       1        0  ...       5          27     32\n",
              "3  2011-01-01 03:00:00       1        0  ...       3          10     13\n",
              "4  2011-01-01 04:00:00       1        0  ...       0           1      1\n",
              "\n",
              "[5 rows x 12 columns]"
            ]
          },
          "metadata": {
            "tags": []
          },
          "execution_count": 6
        }
      ]
    },
    {
      "cell_type": "code",
      "metadata": {
        "colab": {
          "base_uri": "https://localhost:8080/"
        },
        "id": "C0z2A7lIQCtB",
        "outputId": "2b886e76-a9c6-4834-c8d9-755a7eed58f8"
      },
      "source": [
        "bike_df.info()"
      ],
      "execution_count": 7,
      "outputs": [
        {
          "output_type": "stream",
          "text": [
            "<class 'pandas.core.frame.DataFrame'>\n",
            "RangeIndex: 10886 entries, 0 to 10885\n",
            "Data columns (total 12 columns):\n",
            " #   Column      Non-Null Count  Dtype  \n",
            "---  ------      --------------  -----  \n",
            " 0   datetime    10886 non-null  object \n",
            " 1   season      10886 non-null  int64  \n",
            " 2   holiday     10886 non-null  int64  \n",
            " 3   workingday  10886 non-null  int64  \n",
            " 4   weather     10886 non-null  int64  \n",
            " 5   temp        10886 non-null  float64\n",
            " 6   atemp       10886 non-null  float64\n",
            " 7   humidity    10886 non-null  int64  \n",
            " 8   windspeed   10886 non-null  float64\n",
            " 9   casual      10886 non-null  int64  \n",
            " 10  registered  10886 non-null  int64  \n",
            " 11  count       10886 non-null  int64  \n",
            "dtypes: float64(3), int64(8), object(1)\n",
            "memory usage: 1020.7+ KB\n"
          ],
          "name": "stdout"
        }
      ]
    },
    {
      "cell_type": "markdown",
      "metadata": {
        "id": "bkiXawK7jJhb"
      },
      "source": [
        "- 데이터형을 살펴보면 'datatime' column만 object의 형태이다.\r\n",
        "- 이는 보면 '년 - 월 - 일 - 시:분:초'의 문자 형식으로 이루어져 있기 때문에 이에 대한 가공이 필요하다.\r\n",
        "- pandas에서는 datetime과 같은 문자열을 년도, 월, 일 시간, 분, 초로 편리하게 분리하기 위해서 문자열을 'datetime' 타입으로 변경해야 한다.\r\n",
        "  - 이를 위해 ```apply(pd.to_datetime)```메서드를 사용한다."
      ]
    },
    {
      "cell_type": "code",
      "metadata": {
        "colab": {
          "base_uri": "https://localhost:8080/",
          "height": 137
        },
        "id": "ClRlUXBRjy4j",
        "outputId": "4d01c89a-959b-4c2e-8e89-6b7b61b165b6"
      },
      "source": [
        "bike_df['datetime'] = bike_df.datetime.apply(pd.to_datetime)\r\n",
        "\r\n",
        "bike_df['year'] = bike_df.datetime.apply(lambda x: x.year)\r\n",
        "bike_df['month']  = bike_df.datetime.apply(lambda x: x.month)\r\n",
        "bike_df['day'] = bike_df.datetime.apply(lambda x: x.day)\r\n",
        "bike_df['hour'] = bike_df.datetime.apply(lambda x: x.hour)\r\n",
        "bike_df.head(3)"
      ],
      "execution_count": 8,
      "outputs": [
        {
          "output_type": "execute_result",
          "data": {
            "text/html": [
              "<div>\n",
              "<style scoped>\n",
              "    .dataframe tbody tr th:only-of-type {\n",
              "        vertical-align: middle;\n",
              "    }\n",
              "\n",
              "    .dataframe tbody tr th {\n",
              "        vertical-align: top;\n",
              "    }\n",
              "\n",
              "    .dataframe thead th {\n",
              "        text-align: right;\n",
              "    }\n",
              "</style>\n",
              "<table border=\"1\" class=\"dataframe\">\n",
              "  <thead>\n",
              "    <tr style=\"text-align: right;\">\n",
              "      <th></th>\n",
              "      <th>datetime</th>\n",
              "      <th>season</th>\n",
              "      <th>holiday</th>\n",
              "      <th>workingday</th>\n",
              "      <th>weather</th>\n",
              "      <th>temp</th>\n",
              "      <th>atemp</th>\n",
              "      <th>humidity</th>\n",
              "      <th>windspeed</th>\n",
              "      <th>casual</th>\n",
              "      <th>registered</th>\n",
              "      <th>count</th>\n",
              "      <th>year</th>\n",
              "      <th>month</th>\n",
              "      <th>day</th>\n",
              "      <th>hour</th>\n",
              "    </tr>\n",
              "  </thead>\n",
              "  <tbody>\n",
              "    <tr>\n",
              "      <th>0</th>\n",
              "      <td>2011-01-01 00:00:00</td>\n",
              "      <td>1</td>\n",
              "      <td>0</td>\n",
              "      <td>0</td>\n",
              "      <td>1</td>\n",
              "      <td>9.84</td>\n",
              "      <td>14.395</td>\n",
              "      <td>81</td>\n",
              "      <td>0.0</td>\n",
              "      <td>3</td>\n",
              "      <td>13</td>\n",
              "      <td>16</td>\n",
              "      <td>2011</td>\n",
              "      <td>1</td>\n",
              "      <td>1</td>\n",
              "      <td>0</td>\n",
              "    </tr>\n",
              "    <tr>\n",
              "      <th>1</th>\n",
              "      <td>2011-01-01 01:00:00</td>\n",
              "      <td>1</td>\n",
              "      <td>0</td>\n",
              "      <td>0</td>\n",
              "      <td>1</td>\n",
              "      <td>9.02</td>\n",
              "      <td>13.635</td>\n",
              "      <td>80</td>\n",
              "      <td>0.0</td>\n",
              "      <td>8</td>\n",
              "      <td>32</td>\n",
              "      <td>40</td>\n",
              "      <td>2011</td>\n",
              "      <td>1</td>\n",
              "      <td>1</td>\n",
              "      <td>1</td>\n",
              "    </tr>\n",
              "    <tr>\n",
              "      <th>2</th>\n",
              "      <td>2011-01-01 02:00:00</td>\n",
              "      <td>1</td>\n",
              "      <td>0</td>\n",
              "      <td>0</td>\n",
              "      <td>1</td>\n",
              "      <td>9.02</td>\n",
              "      <td>13.635</td>\n",
              "      <td>80</td>\n",
              "      <td>0.0</td>\n",
              "      <td>5</td>\n",
              "      <td>27</td>\n",
              "      <td>32</td>\n",
              "      <td>2011</td>\n",
              "      <td>1</td>\n",
              "      <td>1</td>\n",
              "      <td>2</td>\n",
              "    </tr>\n",
              "  </tbody>\n",
              "</table>\n",
              "</div>"
            ],
            "text/plain": [
              "             datetime  season  holiday  workingday  ...  year  month  day  hour\n",
              "0 2011-01-01 00:00:00       1        0           0  ...  2011      1    1     0\n",
              "1 2011-01-01 01:00:00       1        0           0  ...  2011      1    1     1\n",
              "2 2011-01-01 02:00:00       1        0           0  ...  2011      1    1     2\n",
              "\n",
              "[3 rows x 16 columns]"
            ]
          },
          "metadata": {
            "tags": []
          },
          "execution_count": 8
        }
      ]
    },
    {
      "cell_type": "code",
      "metadata": {
        "id": "ORarF9txkZX5"
      },
      "source": [
        "# bike_df['datetime'] column은 이제 불필요한 정보이기 때문에 없애준다\r\n",
        "drop_columns = ['datetime', 'casual', 'registered']\r\n",
        "# casual + registered = count인데 casual, registered 변수는 오히려 count와의 높은 상관도로 인해 예측을 저해할 우려가 존재한다. (공분산성의 문제 - 회귀문제에서 제일 심각한 문제이다.)\r\n",
        "# 따라서 해당 변수는 지워주는 것이 중요하다.\r\n",
        "bike_df.drop(drop_columns, axis = 1, inplace = True)"
      ],
      "execution_count": 9,
      "outputs": []
    },
    {
      "cell_type": "code",
      "metadata": {
        "id": "FYA8qC-flWYX"
      },
      "source": [
        "# Root Mean Squared Log Error인 RMSLE를 사용해서 오류값의 로그를 구한다. (물론 sklearn에서 지원하는 기능은 따로 없다.)\r\n",
        "from sklearn.metrics import mean_squared_error, mean_absolute_error\r\n",
        "# loss값에 NAN이 있을 것을 대비해서 log()가 아니라 log1p() 함수를 사용하는데, 이는 1 + log()의 값을 반환하기 때문에 underflow / overflow와 같은 문제를 해결해 준다.\r\n",
        "def rmsle(y_pred, y):\r\n",
        "  log_y = np.log1p(y_pred)\r\n",
        "  log_pred = np.log1p(y)\r\n",
        "  squared_error = (log_y - log_pred)**2\r\n",
        "  rmsle = np.sqrt(np.mean(squared_error))\r\n",
        "  return rmsle\r\n",
        "\r\n",
        "def rmse(y_pred, y):\r\n",
        "  return np.sqrt(mean_squared_error(y, y_pred))\r\n",
        "\r\n",
        "def evaluate_regr(y_pred, y):\r\n",
        "  val_rmsle = rmsle(y_pred, y)\r\n",
        "  val_rmse = rmse(y_pred, y)\r\n",
        "  val_mae = mean_absolute_error(y, y_pred)\r\n",
        "  print('RMSLE : {0:.3f}, RMSE : {1:.3F}, MAE : {2:.3F}'.format(val_rmsle, val_rmse, val_mae))\r\n"
      ],
      "execution_count": 10,
      "outputs": []
    },
    {
      "cell_type": "code",
      "metadata": {
        "colab": {
          "base_uri": "https://localhost:8080/"
        },
        "id": "nMg-o2bH-aQR",
        "outputId": "429e4366-8c28-484c-bcc5-158cd5fb259b"
      },
      "source": [
        "from sklearn.model_selection import train_test_split, GridSearchCV\r\n",
        "# 순서대로 단순 선형 회귀, L1 규제를 이용한 Lasso 회귀, L2 규제를 이용한 Ridge 회귀이다.\r\n",
        "from sklearn.linear_model import LinearRegression, Lasso, Ridge\r\n",
        "\r\n",
        "y_target = bike_df['count']\r\n",
        "x_features = bike_df.drop(['count'], axis = 1, inplace = False)\r\n",
        "\r\n",
        "x_train, x_test, y_train, y_test = train_test_split(x_features, y_target, test_size = 0.3, random_state = 0)\r\n",
        "\r\n",
        "Lin_reg = LinearRegression()\r\n",
        "Lin_reg.fit(x_train, y_train)\r\n",
        "prediction = Lin_reg.predict(x_test)\r\n",
        "\r\n",
        "evaluate_regr(prediction, y_test)\r\n",
        "\r\n",
        "\r\n"
      ],
      "execution_count": 11,
      "outputs": [
        {
          "output_type": "stream",
          "text": [
            "RMSLE : 1.165, RMSE : 140.900, MAE : 105.924\n"
          ],
          "name": "stdout"
        },
        {
          "output_type": "stream",
          "text": [
            "/usr/local/lib/python3.6/dist-packages/ipykernel_launcher.py:5: RuntimeWarning: invalid value encountered in log1p\n",
            "  \"\"\"\n"
          ],
          "name": "stderr"
        }
      ]
    },
    {
      "cell_type": "code",
      "metadata": {
        "colab": {
          "base_uri": "https://localhost:8080/"
        },
        "id": "1Xa-hCm3CYkv",
        "outputId": "9b5bd6f7-660a-4b3f-d243-1b295762b79c"
      },
      "source": [
        "# 실제 값과 예측값의 차이를 알아보기 위해서 DataFrame의 칼럼으로 만들어서 오류 값이 가장 큰 순으로 5개만 확인해 보고자 한다\r\n",
        "def get_top_error_data(prediction, y_test, n_tops = 5):\r\n",
        "  result_df = pd.DataFrame(y_test.values, columns = ['real count'])\r\n",
        "  result_df['predicted count'] = np.round(prediction)\r\n",
        "  # 실제 값과 예측값의 잔차를 구해서 diff 칼럼으로 저장\r\n",
        "  result_df['diff'] = np.abs(result_df['real count'] - result_df['predicted count'])\r\n",
        "  # 내림차순으로 diff 칼럼을 정렬\r\n",
        "  print(result_df.sort_values('diff', ascending=False)[:n_tops])\r\n",
        "\r\n",
        "get_top_error_data(prediction, y_test, n_tops = 5)\r\n"
      ],
      "execution_count": 12,
      "outputs": [
        {
          "output_type": "stream",
          "text": [
            "      real count  predicted count   diff\n",
            "1618         890            322.0  568.0\n",
            "3151         798            241.0  557.0\n",
            "966          884            327.0  557.0\n",
            "412          745            194.0  551.0\n",
            "2817         856            310.0  546.0\n"
          ],
          "name": "stdout"
        }
      ]
    },
    {
      "cell_type": "markdown",
      "metadata": {
        "id": "ls81l9UCJjY7"
      },
      "source": [
        "**Regression분석에서 이렇게 큰 예측 오류가 발생하는 경우에는 가장 먼저 살펴볼 것은 Target값의 분포가 왜곡된 형태를 이루고 있는지 아닌지이다. Target값의 분포는 정규 분포의 형태가 제일 좋다. 그렇지 않고서는 회귀 예측의 성능이 저하되는 경우가 발생하기 쉽기 때문이다.**"
      ]
    },
    {
      "cell_type": "code",
      "metadata": {
        "colab": {
          "base_uri": "https://localhost:8080/",
          "height": 282
        },
        "id": "LYHuCaRtJ8hm",
        "outputId": "323b129a-0b82-485d-964c-9eff6c6b6ecd"
      },
      "source": [
        "# log 변환을 적용한 target\r\n",
        "y_log_trans = np.log1p(y_target)\r\n",
        "y_log_trans.hist()"
      ],
      "execution_count": 13,
      "outputs": [
        {
          "output_type": "execute_result",
          "data": {
            "text/plain": [
              "<matplotlib.axes._subplots.AxesSubplot at 0x7f896897ee48>"
            ]
          },
          "metadata": {
            "tags": []
          },
          "execution_count": 13
        },
        {
          "output_type": "display_data",
          "data": {
            "image/png": "[encoded data removed]",
            "text/plain": [
              "<Figure size 432x288 with 1 Axes>"
            ]
          },
          "metadata": {
            "tags": [],
            "needs_background": "light"
          }
        }
      ]
    },
    {
      "cell_type": "code",
      "metadata": {
        "colab": {
          "base_uri": "https://localhost:8080/"
        },
        "id": "txMM4SwBNQBx",
        "outputId": "0127dc0b-d56b-4100-8a4a-e9ee8bfab72e"
      },
      "source": [
        "y_target_log = np.log1p(y_target)\r\n",
        "x_train, x_test, y_train, y_test = train_test_split(x_features, y_target_log, test_size = 0.3, random_state = 0)\r\n",
        "Lin_reg = LinearRegression()\r\n",
        "Lin_reg.fit(x_train, y_train)\r\n",
        "prediction = Lin_reg.predict(x_test)\r\n",
        "y_test_exp = np.expm1(y_test)\r\n",
        "prediction_exp = np.expm1(prediction)\r\n",
        "evaluate_regr(prediction_exp, y_test_exp)\r\n",
        "\r\n"
      ],
      "execution_count": 14,
      "outputs": [
        {
          "output_type": "stream",
          "text": [
            "RMSLE : 1.017, RMSE : 162.594, MAE : 109.286\n"
          ],
          "name": "stdout"
        }
      ]
    },
    {
      "cell_type": "markdown",
      "metadata": {
        "id": "QXa0eSUaOhxV"
      },
      "source": [
        "1. RMSLE = ((log(y)-log(y_pred))^2)의 평균의 루트 씌운 값\r\n",
        "2. RMSE = (y - y_pred)^2의 평균에 루트 씌운 값   \r\n",
        "이러한데 target에 log를 붙여서 정규화한 이후에 RMSLE는 감소한 반면 RMSE는 증가한 경향을 확인할 수 있다.\r\n",
        "- 이러한 상황이 발생한 이유를 **각 feature의 회귀 계수 값**을 시각화해 봄으로서 알아보자"
      ]
    },
    {
      "cell_type": "code",
      "metadata": {
        "colab": {
          "base_uri": "https://localhost:8080/",
          "height": 282
        },
        "id": "tZWOoOgkOARL",
        "outputId": "2fb53845-4590-498e-9be2-db0131c8dd75"
      },
      "source": [
        "import seaborn as sns\r\n",
        "coef = pd.Series(Lin_reg.coef_, index = x_features.columns)\r\n",
        "coef_sort = coef.sort_values(ascending= False)\r\n",
        "sns.barplot(x = coef_sort, y=coef_sort.index)"
      ],
      "execution_count": 15,
      "outputs": [
        {
          "output_type": "execute_result",
          "data": {
            "text/plain": [
              "<matplotlib.axes._subplots.AxesSubplot at 0x7f8967c3fdd8>"
            ]
          },
          "metadata": {
            "tags": []
          },
          "execution_count": 15
        },
        {
          "output_type": "display_data",
          "data": {
            "image/png": "[encoded data removed]",
            "text/plain": [
              "<Figure size 432x288 with 1 Axes>"
            ]
          },
          "metadata": {
            "tags": [],
            "needs_background": "light"
          }
        }
      ]
    },
    {
      "cell_type": "markdown",
      "metadata": {
        "id": "rWuLir-MPjYy"
      },
      "source": [
        "- 살펴보니 'year'의 데이터를 담는 column의 회귀계수 값이 너무 크다. 원래 해당 데이터는 object의 형태였는데 수치형 데이터로 바꾸어 준 것이기 때문에 이 숫자값에 크게 영향을 받는 경우가 나타날 수있다.(sklearn의 경우에는 수치형 데이터만 적용이 가능)\r\n",
        "- 따라서 이러한 feature에는 one-hot encoding을 적용해 주어야 한다.\r\n",
        "- pandas의 get_dummies()를 이용해서 모든 column을 one-hot encoding을 적용해보자."
      ]
    },
    {
      "cell_type": "code",
      "metadata": {
        "colab": {
          "base_uri": "https://localhost:8080/"
        },
        "id": "UbjRQDrDOW3F",
        "outputId": "54c1d5e2-ed6d-4150-8efb-b43382af792d"
      },
      "source": [
        "x_train, x_test, y_train, y_test = train_test_split(pd.get_dummies(x_features, columns = ['year', 'month', 'day', 'hour', 'holiday',\r\n",
        "                                                                                          'workingday', 'season', 'weather']), y_target_log, test_size = 0.3, random_state = 0)\r\n",
        "x_features_onehot = pd.get_dummies(x_features, columns = ['year', 'month', 'day', 'hour', 'holiday','workingday', 'season', 'weather'])\r\n",
        "def get_model_predict(model, x_train, x_test, y_train, y_test, is_expm1 = False):\r\n",
        "  model.fit(x_train, y_train)\r\n",
        "  prediction = model.predict(x_test)\r\n",
        "  if is_expm1:\r\n",
        "    y_test = np.expm1(y_test)\r\n",
        "    prediction = np.expm1(prediction)\r\n",
        "  print('\\n###', model.__class__.__name__,'###')\r\n",
        "  evaluate_regr(y_test, prediction)\r\n",
        "\r\n",
        "Lin_reg = LinearRegression()\r\n",
        "Lasso_reg = Lasso(alpha = 0.01)\r\n",
        "Ridge_reg = Ridge(alpha = 10)\r\n",
        "\r\n",
        "for model in [Lin_reg, Lasso_reg, Ridge_reg]:\r\n",
        "  get_model_predict(model, x_train, x_test, y_train, y_test, is_expm1 = True)\r\n",
        "\r\n"
      ],
      "execution_count": 16,
      "outputs": [
        {
          "output_type": "stream",
          "text": [
            "\n",
            "### LinearRegression ###\n",
            "RMSLE : 0.590, RMSE : 97.688, MAE : 63.382\n",
            "\n",
            "### Lasso ###\n",
            "RMSLE : 0.635, RMSE : 113.219, MAE : 72.803\n",
            "\n",
            "### Ridge ###\n",
            "RMSLE : 0.590, RMSE : 98.529, MAE : 63.893\n"
          ],
          "name": "stdout"
        }
      ]
    },
    {
      "cell_type": "code",
      "metadata": {
        "colab": {
          "base_uri": "https://localhost:8080/",
          "height": 296
        },
        "id": "-j7B_us3xUS0",
        "outputId": "682015a0-f07e-437f-c960-60e4bb69cfeb"
      },
      "source": [
        "coef = pd.Series(Lin_reg.coef_, index = x_features_onehot.columns)\r\n",
        "coef_sort = coef.sort_values(ascending = False)[:20]\r\n",
        "sns.barplot(x = coef_sort.values, y = coef_sort.index)"
      ],
      "execution_count": 17,
      "outputs": [
        {
          "output_type": "execute_result",
          "data": {
            "text/plain": [
              "<matplotlib.axes._subplots.AxesSubplot at 0x7f8967b8bb70>"
            ]
          },
          "metadata": {
            "tags": []
          },
          "execution_count": 17
        },
        {
          "output_type": "display_data",
          "data": {
            "image/png": "[encoded data removed]",
            "text/plain": [
              "<Figure size 432x288 with 1 Axes>"
            ]
          },
          "metadata": {
            "tags": [],
            "needs_background": "light"
          }
        }
      ]
    },
    {
      "cell_type": "markdown",
      "metadata": {
        "id": "FQUPEuqjy7DQ"
      },
      "source": [
        "\r\n",
        "\r\n",
        "```\r\n",
        "def __init__(boosting_type='gbdt', num_leaves=31, max_depth=-1, learning_rate=0.1,  \r\n",
        "  n_estimators=100, subsample_for_bin=200000, objective=None,    \r\n",
        "  class_weight=None, min_split_gain=0.0, min_child_weight=0.001, \r\n",
        "  min_child_samples=20, subsample=1.0, subsample_freq=0, colsample_bytree=1.0, \r\n",
        "  reg_alpha=0.0, reg_lambda=0.0, random_state=None, n_jobs=-1, silent=True, \r\n",
        "  importance_type='split', **kwargs)\r\n",
        "```\r\n",
        "- 아래 사용한 Regressor들을 살펴보면 모두 **회귀 트리**이다.\r\n",
        "1. Random Forest Regressor\r\n",
        "  - 계속해서 root node로부터 각각의 feature에 맞게 자식 노드를 생성해 가며 계속해서 분류를 해 나간다.\r\n",
        "\r\n",
        "2. Gradient Boost Regressor\r\n",
        "  - 여러개의 약한 학습기를 순차적으로 학습-예측하며 잘못 예측한 데이터에 가중치를 부여해 오류를 개선해 나가며 학습하는 방식\r\n",
        "  - Ada Boost 처럼 **오류데이터에 가중치를 부여**하지만 가중치를 업데이트 할 때에 경사 하강법을 사용한다.\r\n",
        "  - 경사하강법을 사용한다는 것은 각각의 (실제-예측)을 계산한 오류식을 최소화하는 방향성을 가지고 지속적으로 가중치 값을 업데이트 하는 것이다.\r\n",
        "\r\n",
        "3. XGB Regressor\r\n",
        "  - Gradient Boost Regressor이 시간이 너무 오래 걸린다는 문제와 Regression을 적용할 수 없다는 것에 있어서 차이점이 존재 (성능 UP)\r\n",
        "  - 마찬가지로 트리 기반의 앙상블\r\n",
        "\r\n",
        "4. LGBM Regressor\r\n",
        "  - XGB Regressor도 여전히 시간이 오래 걸리는데, 이 문제를 해결하기 위해 균형 트리 분할이 아닌 리프 중심 트리 분할을 사용해서 이를 개선한다.(그래서 Light라는 수식어가 앞에 붙음)\r\n",
        "  - 트리의 균형을 맞추는 데에 집중을 하기 보다는 최소손실값을 가지는 leaf node만을 지속적으로 분할한다.\r\n",
        "\r\n",
        "\r\n",
        "\r\n"
      ]
    },
    {
      "cell_type": "code",
      "metadata": {
        "colab": {
          "base_uri": "https://localhost:8080/"
        },
        "id": "fL9wivC0xtw8",
        "outputId": "b17b24f8-b1d0-4a66-c3c8-1537c02ed980"
      },
      "source": [
        "from sklearn.ensemble import RandomForestRegressor, GradientBoostingRegressor\r\n",
        "from xgboost import XGBRegressor\r\n",
        "from lightgbm import LGBMRegressor\r\n",
        "\r\n",
        "RF_reg = RandomForestRegressor(n_estimators = 500)\r\n",
        "GB_reg = GradientBoostingRegressor(n_estimators = 500)\r\n",
        "XGB_reg = XGBRegressor(n_estimators = 500)\r\n",
        "LGBM_reg = LGBMRegressor(n_estimators = 500)\r\n",
        "\r\n",
        "for model in [RF_reg, GB_reg, XGB_reg, LGBM_reg]:\r\n",
        "  # XGBoost의 경우에는 DataFrame의 형태로 입력이 될 경우에 오류가 발생할 수 있으니 .values 모듈을 이용해서 ndarray의 형태로 바꾸어 입력하는 것이 안전하다.\r\n",
        "  get_model_predict(model, x_train.values, x_test.values, y_train.values, y_test.values, is_expm1 = True)\r\n"
      ],
      "execution_count": 18,
      "outputs": [
        {
          "output_type": "stream",
          "text": [
            "\n",
            "### RandomForestRegressor ###\n",
            "RMSLE : 0.354, RMSE : 50.305, MAE : 31.161\n",
            "\n",
            "### GradientBoostingRegressor ###\n",
            "RMSLE : 0.330, RMSE : 53.349, MAE : 32.748\n",
            "[01:33:15] WARNING: /workspace/src/objective/regression_obj.cu:152: reg:linear is now deprecated in favor of reg:squarederror.\n",
            "\n",
            "### XGBRegressor ###\n",
            "RMSLE : 0.345, RMSE : 58.245, MAE : 35.768\n",
            "\n",
            "### LGBMRegressor ###\n",
            "RMSLE : 0.319, RMSE : 47.215, MAE : 29.029\n"
          ],
          "name": "stdout"
        }
      ]
    },
    {
      "cell_type": "code",
      "metadata": {
        "colab": {
          "base_uri": "https://localhost:8080/"
        },
        "id": "tMm9-CNI31be",
        "outputId": "58108ff6-deb9-463f-883b-a7bfad469b00"
      },
      "source": [
        "!kaggle competitions download -c house-prices-advanced-regression-techniques"
      ],
      "execution_count": 7,
      "outputs": [
        {
          "output_type": "stream",
          "text": [
            "Warning: Looks like you're using an outdated API Version, please consider updating (server 1.5.10 / client 1.5.4)\n",
            "data_description.txt: Skipping, found more recently modified local copy (use --force to force download)\n",
            "Downloading test.csv to /content\n",
            "  0% 0.00/441k [00:00<?, ?B/s]\n",
            "100% 441k/441k [00:00<00:00, 60.6MB/s]\n",
            "Downloading sample_submission.csv to /content\n",
            "  0% 0.00/31.2k [00:00<?, ?B/s]\n",
            "100% 31.2k/31.2k [00:00<00:00, 31.2MB/s]\n",
            "Downloading train.csv to /content\n",
            "  0% 0.00/450k [00:00<?, ?B/s]\n",
            "100% 450k/450k [00:00<00:00, 83.6MB/s]\n"
          ],
          "name": "stdout"
        }
      ]
    },
    {
      "cell_type": "markdown",
      "metadata": {
        "id": "Hu5_z1KK482W"
      },
      "source": [
        "### House Price Kaggle High Level Analysis"
      ]
    },
    {
      "cell_type": "code",
      "metadata": {
        "id": "KxnoqX6o5COx"
      },
      "source": [
        "import pandas as pd\r\n",
        "import numpy as np\r\n",
        "import seaborn as sns\r\n",
        "import matplotlib.pyplot as plt\r\n",
        "\r\n",
        "%matplotlib inline"
      ],
      "execution_count": 8,
      "outputs": []
    },
    {
      "cell_type": "code",
      "metadata": {
        "colab": {
          "base_uri": "https://localhost:8080/",
          "height": 186
        },
        "id": "i8NAmCRW3-hK",
        "outputId": "c8a59c51-e3b6-46e3-e6d0-7b280d5ea15f"
      },
      "source": [
        "house_df = pd.read_csv('/content/train.csv')\r\n",
        "house_df.head(3)"
      ],
      "execution_count": 9,
      "outputs": [
        {
          "output_type": "execute_result",
          "data": {
            "text/html": [
              "<div>\n",
              "<style scoped>\n",
              "    .dataframe tbody tr th:only-of-type {\n",
              "        vertical-align: middle;\n",
              "    }\n",
              "\n",
              "    .dataframe tbody tr th {\n",
              "        vertical-align: top;\n",
              "    }\n",
              "\n",
              "    .dataframe thead th {\n",
              "        text-align: right;\n",
              "    }\n",
              "</style>\n",
              "<table border=\"1\" class=\"dataframe\">\n",
              "  <thead>\n",
              "    <tr style=\"text-align: right;\">\n",
              "      <th></th>\n",
              "      <th>Id</th>\n",
              "      <th>MSSubClass</th>\n",
              "      <th>MSZoning</th>\n",
              "      <th>LotFrontage</th>\n",
              "      <th>LotArea</th>\n",
              "      <th>Street</th>\n",
              "      <th>Alley</th>\n",
              "      <th>LotShape</th>\n",
              "      <th>LandContour</th>\n",
              "      <th>Utilities</th>\n",
              "      <th>LotConfig</th>\n",
              "      <th>LandSlope</th>\n",
              "      <th>Neighborhood</th>\n",
              "      <th>Condition1</th>\n",
              "      <th>Condition2</th>\n",
              "      <th>BldgType</th>\n",
              "      <th>HouseStyle</th>\n",
              "      <th>OverallQual</th>\n",
              "      <th>OverallCond</th>\n",
              "      <th>YearBuilt</th>\n",
              "      <th>YearRemodAdd</th>\n",
              "      <th>RoofStyle</th>\n",
              "      <th>RoofMatl</th>\n",
              "      <th>Exterior1st</th>\n",
              "      <th>Exterior2nd</th>\n",
              "      <th>MasVnrType</th>\n",
              "      <th>MasVnrArea</th>\n",
              "      <th>ExterQual</th>\n",
              "      <th>ExterCond</th>\n",
              "      <th>Foundation</th>\n",
              "      <th>BsmtQual</th>\n",
              "      <th>BsmtCond</th>\n",
              "      <th>BsmtExposure</th>\n",
              "      <th>BsmtFinType1</th>\n",
              "      <th>BsmtFinSF1</th>\n",
              "      <th>BsmtFinType2</th>\n",
              "      <th>BsmtFinSF2</th>\n",
              "      <th>BsmtUnfSF</th>\n",
              "      <th>TotalBsmtSF</th>\n",
              "      <th>Heating</th>\n",
              "      <th>...</th>\n",
              "      <th>CentralAir</th>\n",
              "      <th>Electrical</th>\n",
              "      <th>1stFlrSF</th>\n",
              "      <th>2ndFlrSF</th>\n",
              "      <th>LowQualFinSF</th>\n",
              "      <th>GrLivArea</th>\n",
              "      <th>BsmtFullBath</th>\n",
              "      <th>BsmtHalfBath</th>\n",
              "      <th>FullBath</th>\n",
              "      <th>HalfBath</th>\n",
              "      <th>BedroomAbvGr</th>\n",
              "      <th>KitchenAbvGr</th>\n",
              "      <th>KitchenQual</th>\n",
              "      <th>TotRmsAbvGrd</th>\n",
              "      <th>Functional</th>\n",
              "      <th>Fireplaces</th>\n",
              "      <th>FireplaceQu</th>\n",
              "      <th>GarageType</th>\n",
              "      <th>GarageYrBlt</th>\n",
              "      <th>GarageFinish</th>\n",
              "      <th>GarageCars</th>\n",
              "      <th>GarageArea</th>\n",
              "      <th>GarageQual</th>\n",
              "      <th>GarageCond</th>\n",
              "      <th>PavedDrive</th>\n",
              "      <th>WoodDeckSF</th>\n",
              "      <th>OpenPorchSF</th>\n",
              "      <th>EnclosedPorch</th>\n",
              "      <th>3SsnPorch</th>\n",
              "      <th>ScreenPorch</th>\n",
              "      <th>PoolArea</th>\n",
              "      <th>PoolQC</th>\n",
              "      <th>Fence</th>\n",
              "      <th>MiscFeature</th>\n",
              "      <th>MiscVal</th>\n",
              "      <th>MoSold</th>\n",
              "      <th>YrSold</th>\n",
              "      <th>SaleType</th>\n",
              "      <th>SaleCondition</th>\n",
              "      <th>SalePrice</th>\n",
              "    </tr>\n",
              "  </thead>\n",
              "  <tbody>\n",
              "    <tr>\n",
              "      <th>0</th>\n",
              "      <td>1</td>\n",
              "      <td>60</td>\n",
              "      <td>RL</td>\n",
              "      <td>65.0</td>\n",
              "      <td>8450</td>\n",
              "      <td>Pave</td>\n",
              "      <td>NaN</td>\n",
              "      <td>Reg</td>\n",
              "      <td>Lvl</td>\n",
              "      <td>AllPub</td>\n",
              "      <td>Inside</td>\n",
              "      <td>Gtl</td>\n",
              "      <td>CollgCr</td>\n",
              "      <td>Norm</td>\n",
              "      <td>Norm</td>\n",
              "      <td>1Fam</td>\n",
              "      <td>2Story</td>\n",
              "      <td>7</td>\n",
              "      <td>5</td>\n",
              "      <td>2003</td>\n",
              "      <td>2003</td>\n",
              "      <td>Gable</td>\n",
              "      <td>CompShg</td>\n",
              "      <td>VinylSd</td>\n",
              "      <td>VinylSd</td>\n",
              "      <td>BrkFace</td>\n",
              "      <td>196.0</td>\n",
              "      <td>Gd</td>\n",
              "      <td>TA</td>\n",
              "      <td>PConc</td>\n",
              "      <td>Gd</td>\n",
              "      <td>TA</td>\n",
              "      <td>No</td>\n",
              "      <td>GLQ</td>\n",
              "      <td>706</td>\n",
              "      <td>Unf</td>\n",
              "      <td>0</td>\n",
              "      <td>150</td>\n",
              "      <td>856</td>\n",
              "      <td>GasA</td>\n",
              "      <td>...</td>\n",
              "      <td>Y</td>\n",
              "      <td>SBrkr</td>\n",
              "      <td>856</td>\n",
              "      <td>854</td>\n",
              "      <td>0</td>\n",
              "      <td>1710</td>\n",
              "      <td>1</td>\n",
              "      <td>0</td>\n",
              "      <td>2</td>\n",
              "      <td>1</td>\n",
              "      <td>3</td>\n",
              "      <td>1</td>\n",
              "      <td>Gd</td>\n",
              "      <td>8</td>\n",
              "      <td>Typ</td>\n",
              "      <td>0</td>\n",
              "      <td>NaN</td>\n",
              "      <td>Attchd</td>\n",
              "      <td>2003.0</td>\n",
              "      <td>RFn</td>\n",
              "      <td>2</td>\n",
              "      <td>548</td>\n",
              "      <td>TA</td>\n",
              "      <td>TA</td>\n",
              "      <td>Y</td>\n",
              "      <td>0</td>\n",
              "      <td>61</td>\n",
              "      <td>0</td>\n",
              "      <td>0</td>\n",
              "      <td>0</td>\n",
              "      <td>0</td>\n",
              "      <td>NaN</td>\n",
              "      <td>NaN</td>\n",
              "      <td>NaN</td>\n",
              "      <td>0</td>\n",
              "      <td>2</td>\n",
              "      <td>2008</td>\n",
              "      <td>WD</td>\n",
              "      <td>Normal</td>\n",
              "      <td>208500</td>\n",
              "    </tr>\n",
              "    <tr>\n",
              "      <th>1</th>\n",
              "      <td>2</td>\n",
              "      <td>20</td>\n",
              "      <td>RL</td>\n",
              "      <td>80.0</td>\n",
              "      <td>9600</td>\n",
              "      <td>Pave</td>\n",
              "      <td>NaN</td>\n",
              "      <td>Reg</td>\n",
              "      <td>Lvl</td>\n",
              "      <td>AllPub</td>\n",
              "      <td>FR2</td>\n",
              "      <td>Gtl</td>\n",
              "      <td>Veenker</td>\n",
              "      <td>Feedr</td>\n",
              "      <td>Norm</td>\n",
              "      <td>1Fam</td>\n",
              "      <td>1Story</td>\n",
              "      <td>6</td>\n",
              "      <td>8</td>\n",
              "      <td>1976</td>\n",
              "      <td>1976</td>\n",
              "      <td>Gable</td>\n",
              "      <td>CompShg</td>\n",
              "      <td>MetalSd</td>\n",
              "      <td>MetalSd</td>\n",
              "      <td>None</td>\n",
              "      <td>0.0</td>\n",
              "      <td>TA</td>\n",
              "      <td>TA</td>\n",
              "      <td>CBlock</td>\n",
              "      <td>Gd</td>\n",
              "      <td>TA</td>\n",
              "      <td>Gd</td>\n",
              "      <td>ALQ</td>\n",
              "      <td>978</td>\n",
              "      <td>Unf</td>\n",
              "      <td>0</td>\n",
              "      <td>284</td>\n",
              "      <td>1262</td>\n",
              "      <td>GasA</td>\n",
              "      <td>...</td>\n",
              "      <td>Y</td>\n",
              "      <td>SBrkr</td>\n",
              "      <td>1262</td>\n",
              "      <td>0</td>\n",
              "      <td>0</td>\n",
              "      <td>1262</td>\n",
              "      <td>0</td>\n",
              "      <td>1</td>\n",
              "      <td>2</td>\n",
              "      <td>0</td>\n",
              "      <td>3</td>\n",
              "      <td>1</td>\n",
              "      <td>TA</td>\n",
              "      <td>6</td>\n",
              "      <td>Typ</td>\n",
              "      <td>1</td>\n",
              "      <td>TA</td>\n",
              "      <td>Attchd</td>\n",
              "      <td>1976.0</td>\n",
              "      <td>RFn</td>\n",
              "      <td>2</td>\n",
              "      <td>460</td>\n",
              "      <td>TA</td>\n",
              "      <td>TA</td>\n",
              "      <td>Y</td>\n",
              "      <td>298</td>\n",
              "      <td>0</td>\n",
              "      <td>0</td>\n",
              "      <td>0</td>\n",
              "      <td>0</td>\n",
              "      <td>0</td>\n",
              "      <td>NaN</td>\n",
              "      <td>NaN</td>\n",
              "      <td>NaN</td>\n",
              "      <td>0</td>\n",
              "      <td>5</td>\n",
              "      <td>2007</td>\n",
              "      <td>WD</td>\n",
              "      <td>Normal</td>\n",
              "      <td>181500</td>\n",
              "    </tr>\n",
              "    <tr>\n",
              "      <th>2</th>\n",
              "      <td>3</td>\n",
              "      <td>60</td>\n",
              "      <td>RL</td>\n",
              "      <td>68.0</td>\n",
              "      <td>11250</td>\n",
              "      <td>Pave</td>\n",
              "      <td>NaN</td>\n",
              "      <td>IR1</td>\n",
              "      <td>Lvl</td>\n",
              "      <td>AllPub</td>\n",
              "      <td>Inside</td>\n",
              "      <td>Gtl</td>\n",
              "      <td>CollgCr</td>\n",
              "      <td>Norm</td>\n",
              "      <td>Norm</td>\n",
              "      <td>1Fam</td>\n",
              "      <td>2Story</td>\n",
              "      <td>7</td>\n",
              "      <td>5</td>\n",
              "      <td>2001</td>\n",
              "      <td>2002</td>\n",
              "      <td>Gable</td>\n",
              "      <td>CompShg</td>\n",
              "      <td>VinylSd</td>\n",
              "      <td>VinylSd</td>\n",
              "      <td>BrkFace</td>\n",
              "      <td>162.0</td>\n",
              "      <td>Gd</td>\n",
              "      <td>TA</td>\n",
              "      <td>PConc</td>\n",
              "      <td>Gd</td>\n",
              "      <td>TA</td>\n",
              "      <td>Mn</td>\n",
              "      <td>GLQ</td>\n",
              "      <td>486</td>\n",
              "      <td>Unf</td>\n",
              "      <td>0</td>\n",
              "      <td>434</td>\n",
              "      <td>920</td>\n",
              "      <td>GasA</td>\n",
              "      <td>...</td>\n",
              "      <td>Y</td>\n",
              "      <td>SBrkr</td>\n",
              "      <td>920</td>\n",
              "      <td>866</td>\n",
              "      <td>0</td>\n",
              "      <td>1786</td>\n",
              "      <td>1</td>\n",
              "      <td>0</td>\n",
              "      <td>2</td>\n",
              "      <td>1</td>\n",
              "      <td>3</td>\n",
              "      <td>1</td>\n",
              "      <td>Gd</td>\n",
              "      <td>6</td>\n",
              "      <td>Typ</td>\n",
              "      <td>1</td>\n",
              "      <td>TA</td>\n",
              "      <td>Attchd</td>\n",
              "      <td>2001.0</td>\n",
              "      <td>RFn</td>\n",
              "      <td>2</td>\n",
              "      <td>608</td>\n",
              "      <td>TA</td>\n",
              "      <td>TA</td>\n",
              "      <td>Y</td>\n",
              "      <td>0</td>\n",
              "      <td>42</td>\n",
              "      <td>0</td>\n",
              "      <td>0</td>\n",
              "      <td>0</td>\n",
              "      <td>0</td>\n",
              "      <td>NaN</td>\n",
              "      <td>NaN</td>\n",
              "      <td>NaN</td>\n",
              "      <td>0</td>\n",
              "      <td>9</td>\n",
              "      <td>2008</td>\n",
              "      <td>WD</td>\n",
              "      <td>Normal</td>\n",
              "      <td>223500</td>\n",
              "    </tr>\n",
              "  </tbody>\n",
              "</table>\n",
              "<p>3 rows × 81 columns</p>\n",
              "</div>"
            ],
            "text/plain": [
              "   Id  MSSubClass MSZoning  ...  SaleType  SaleCondition SalePrice\n",
              "0   1          60       RL  ...        WD         Normal    208500\n",
              "1   2          20       RL  ...        WD         Normal    181500\n",
              "2   3          60       RL  ...        WD         Normal    223500\n",
              "\n",
              "[3 rows x 81 columns]"
            ]
          },
          "metadata": {
            "tags": []
          },
          "execution_count": 9
        }
      ]
    },
    {
      "cell_type": "markdown",
      "metadata": {
        "id": "w9Za0KYvIsg9"
      },
      "source": [
        "**회귀 모델을 적용하기 전에 확인해 주어야 하는 요인들**  \r\n",
        "1. 데이터의 자료형의 종류와 그 개수\r\n",
        "2. 데이터에 NULL값이 존재하는지, 존재한다면 각 feature별로 몇개가 존재하는지\r\n",
        "  - 이는 drop할 column을 선택하기 위함이다.\r\n",
        "3. target값의 분포도가 정규분포인지 확인"
      ]
    },
    {
      "cell_type": "code",
      "metadata": {
        "colab": {
          "base_uri": "https://localhost:8080/"
        },
        "id": "5UZbPhva5ODE",
        "outputId": "d2de0397-f402-4cdb-c1fb-b353ffb53b36"
      },
      "source": [
        "#`1. \r\n",
        "print('Shape: ', house_df.shape)\r\n",
        "print('\\n')\r\n",
        "print('Feature Type:\\n ', house_df.dtypes.value_counts())\r\n",
        "print('\\n')\r\n",
        "# 2.\r\n",
        "isnull_series = house_df.isnull().sum()\r\n",
        "print('Null Columns:\\n',(isnull_series[isnull_series > 0]).sort_values(ascending = False))"
      ],
      "execution_count": 10,
      "outputs": [
        {
          "output_type": "stream",
          "text": [
            "Shape:  (1460, 81)\n",
            "\n",
            "\n",
            "Feature Type:\n",
            "  object     43\n",
            "int64      35\n",
            "float64     3\n",
            "dtype: int64\n",
            "\n",
            "\n",
            "Null Columns:\n",
            " PoolQC          1453\n",
            "MiscFeature     1406\n",
            "Alley           1369\n",
            "Fence           1179\n",
            "FireplaceQu      690\n",
            "LotFrontage      259\n",
            "GarageYrBlt       81\n",
            "GarageType        81\n",
            "GarageFinish      81\n",
            "GarageQual        81\n",
            "GarageCond        81\n",
            "BsmtFinType2      38\n",
            "BsmtExposure      38\n",
            "BsmtFinType1      37\n",
            "BsmtCond          37\n",
            "BsmtQual          37\n",
            "MasVnrArea         8\n",
            "MasVnrType         8\n",
            "Electrical         1\n",
            "dtype: int64\n"
          ],
          "name": "stdout"
        }
      ]
    },
    {
      "cell_type": "code",
      "metadata": {
        "colab": {
          "base_uri": "https://localhost:8080/",
          "height": 364
        },
        "id": "LZ7cXVum5P9v",
        "outputId": "986605a2-6dd5-432a-c601-8586a4ad509a"
      },
      "source": [
        "sns.distplot(house_df['SalePrice'])"
      ],
      "execution_count": 11,
      "outputs": [
        {
          "output_type": "stream",
          "text": [
            "/usr/local/lib/python3.6/dist-packages/seaborn/distributions.py:2557: FutureWarning: `distplot` is a deprecated function and will be removed in a future version. Please adapt your code to use either `displot` (a figure-level function with similar flexibility) or `histplot` (an axes-level function for histograms).\n",
            "  warnings.warn(msg, FutureWarning)\n"
          ],
          "name": "stderr"
        },
        {
          "output_type": "execute_result",
          "data": {
            "text/plain": [
              "<matplotlib.axes._subplots.AxesSubplot at 0x7f0bde8e5a58>"
            ]
          },
          "metadata": {
            "tags": []
          },
          "execution_count": 11
        },
        {
          "output_type": "display_data",
          "data": {
            "image/png": "[encoded data removed]",
            "text/plain": [
              "<Figure size 432x288 with 1 Axes>"
            ]
          },
          "metadata": {
            "tags": [],
            "needs_background": "light"
          }
        }
      ]
    },
    {
      "cell_type": "code",
      "metadata": {
        "colab": {
          "base_uri": "https://localhost:8080/",
          "height": 353
        },
        "id": "dAuAo3CWKRlc",
        "outputId": "c463fd54-d827-48eb-e977-9b928c49fa69"
      },
      "source": [
        "# 데이터의 형태가 왼쪽으로 치우쳐진, 즉 데이터 값의 분포가 중심에서 왼쪽으로 치우친 정규 분포에서 벗어나 있는 형태이기 때문에 Log Transformation을 통해서 정규 분포의 형태로 변환해 줄 수 있다.\r\n",
        "log_saleprice = np.log1p(house_df['SalePrice'])\r\n",
        "sns.distplot(log_saleprice)                  "
      ],
      "execution_count": 12,
      "outputs": [
        {
          "output_type": "stream",
          "text": [
            "/usr/local/lib/python3.6/dist-packages/seaborn/distributions.py:2557: FutureWarning: `distplot` is a deprecated function and will be removed in a future version. Please adapt your code to use either `displot` (a figure-level function with similar flexibility) or `histplot` (an axes-level function for histograms).\n",
            "  warnings.warn(msg, FutureWarning)\n"
          ],
          "name": "stderr"
        },
        {
          "output_type": "execute_result",
          "data": {
            "text/plain": [
              "<matplotlib.axes._subplots.AxesSubplot at 0x7f0bddf1ea90>"
            ]
          },
          "metadata": {
            "tags": []
          },
          "execution_count": 12
        },
        {
          "output_type": "display_data",
          "data": {
            "image/png": "[encoded data removed]",
            "text/plain": [
              "<Figure size 432x288 with 1 Axes>"
            ]
          },
          "metadata": {
            "tags": [],
            "needs_background": "light"
          }
        }
      ]
    },
    {
      "cell_type": "code",
      "metadata": {
        "id": "kXZdLQlmLEL4"
      },
      "source": [
        "original_Saleprice = house_df['SalePrice']\r\n",
        "log_Saleprice = np.log1p(original_Saleprice)\r\n",
        "house_df['SalePrice'] = log_Saleprice\r\n",
        "\r\n",
        "house_df.drop(['Id', 'PoolQC', 'MiscFeature', 'Alley', 'Fence', 'FireplaceQu'], axis = 1, inplace = True)\r\n",
        "house_df.fillna(house_df.mean(), inplace = True)"
      ],
      "execution_count": 13,
      "outputs": []
    },
    {
      "cell_type": "code",
      "metadata": {
        "colab": {
          "base_uri": "https://localhost:8080/",
          "height": 157
        },
        "id": "xiIwEbopRz5T",
        "outputId": "28ceb4d9-4f38-42ec-d51d-11340d68a335"
      },
      "source": [
        "house_df.head(3)"
      ],
      "execution_count": 14,
      "outputs": [
        {
          "output_type": "execute_result",
          "data": {
            "text/html": [
              "<div>\n",
              "<style scoped>\n",
              "    .dataframe tbody tr th:only-of-type {\n",
              "        vertical-align: middle;\n",
              "    }\n",
              "\n",
              "    .dataframe tbody tr th {\n",
              "        vertical-align: top;\n",
              "    }\n",
              "\n",
              "    .dataframe thead th {\n",
              "        text-align: right;\n",
              "    }\n",
              "</style>\n",
              "<table border=\"1\" class=\"dataframe\">\n",
              "  <thead>\n",
              "    <tr style=\"text-align: right;\">\n",
              "      <th></th>\n",
              "      <th>MSSubClass</th>\n",
              "      <th>MSZoning</th>\n",
              "      <th>LotFrontage</th>\n",
              "      <th>LotArea</th>\n",
              "      <th>Street</th>\n",
              "      <th>LotShape</th>\n",
              "      <th>LandContour</th>\n",
              "      <th>Utilities</th>\n",
              "      <th>LotConfig</th>\n",
              "      <th>LandSlope</th>\n",
              "      <th>Neighborhood</th>\n",
              "      <th>Condition1</th>\n",
              "      <th>Condition2</th>\n",
              "      <th>BldgType</th>\n",
              "      <th>HouseStyle</th>\n",
              "      <th>OverallQual</th>\n",
              "      <th>OverallCond</th>\n",
              "      <th>YearBuilt</th>\n",
              "      <th>YearRemodAdd</th>\n",
              "      <th>RoofStyle</th>\n",
              "      <th>RoofMatl</th>\n",
              "      <th>Exterior1st</th>\n",
              "      <th>Exterior2nd</th>\n",
              "      <th>MasVnrType</th>\n",
              "      <th>MasVnrArea</th>\n",
              "      <th>ExterQual</th>\n",
              "      <th>ExterCond</th>\n",
              "      <th>Foundation</th>\n",
              "      <th>BsmtQual</th>\n",
              "      <th>BsmtCond</th>\n",
              "      <th>BsmtExposure</th>\n",
              "      <th>BsmtFinType1</th>\n",
              "      <th>BsmtFinSF1</th>\n",
              "      <th>BsmtFinType2</th>\n",
              "      <th>BsmtFinSF2</th>\n",
              "      <th>BsmtUnfSF</th>\n",
              "      <th>TotalBsmtSF</th>\n",
              "      <th>Heating</th>\n",
              "      <th>HeatingQC</th>\n",
              "      <th>CentralAir</th>\n",
              "      <th>Electrical</th>\n",
              "      <th>1stFlrSF</th>\n",
              "      <th>2ndFlrSF</th>\n",
              "      <th>LowQualFinSF</th>\n",
              "      <th>GrLivArea</th>\n",
              "      <th>BsmtFullBath</th>\n",
              "      <th>BsmtHalfBath</th>\n",
              "      <th>FullBath</th>\n",
              "      <th>HalfBath</th>\n",
              "      <th>BedroomAbvGr</th>\n",
              "      <th>KitchenAbvGr</th>\n",
              "      <th>KitchenQual</th>\n",
              "      <th>TotRmsAbvGrd</th>\n",
              "      <th>Functional</th>\n",
              "      <th>Fireplaces</th>\n",
              "      <th>GarageType</th>\n",
              "      <th>GarageYrBlt</th>\n",
              "      <th>GarageFinish</th>\n",
              "      <th>GarageCars</th>\n",
              "      <th>GarageArea</th>\n",
              "      <th>GarageQual</th>\n",
              "      <th>GarageCond</th>\n",
              "      <th>PavedDrive</th>\n",
              "      <th>WoodDeckSF</th>\n",
              "      <th>OpenPorchSF</th>\n",
              "      <th>EnclosedPorch</th>\n",
              "      <th>3SsnPorch</th>\n",
              "      <th>ScreenPorch</th>\n",
              "      <th>PoolArea</th>\n",
              "      <th>MiscVal</th>\n",
              "      <th>MoSold</th>\n",
              "      <th>YrSold</th>\n",
              "      <th>SaleType</th>\n",
              "      <th>SaleCondition</th>\n",
              "      <th>SalePrice</th>\n",
              "    </tr>\n",
              "  </thead>\n",
              "  <tbody>\n",
              "    <tr>\n",
              "      <th>0</th>\n",
              "      <td>60</td>\n",
              "      <td>RL</td>\n",
              "      <td>65.0</td>\n",
              "      <td>8450</td>\n",
              "      <td>Pave</td>\n",
              "      <td>Reg</td>\n",
              "      <td>Lvl</td>\n",
              "      <td>AllPub</td>\n",
              "      <td>Inside</td>\n",
              "      <td>Gtl</td>\n",
              "      <td>CollgCr</td>\n",
              "      <td>Norm</td>\n",
              "      <td>Norm</td>\n",
              "      <td>1Fam</td>\n",
              "      <td>2Story</td>\n",
              "      <td>7</td>\n",
              "      <td>5</td>\n",
              "      <td>2003</td>\n",
              "      <td>2003</td>\n",
              "      <td>Gable</td>\n",
              "      <td>CompShg</td>\n",
              "      <td>VinylSd</td>\n",
              "      <td>VinylSd</td>\n",
              "      <td>BrkFace</td>\n",
              "      <td>196.0</td>\n",
              "      <td>Gd</td>\n",
              "      <td>TA</td>\n",
              "      <td>PConc</td>\n",
              "      <td>Gd</td>\n",
              "      <td>TA</td>\n",
              "      <td>No</td>\n",
              "      <td>GLQ</td>\n",
              "      <td>706</td>\n",
              "      <td>Unf</td>\n",
              "      <td>0</td>\n",
              "      <td>150</td>\n",
              "      <td>856</td>\n",
              "      <td>GasA</td>\n",
              "      <td>Ex</td>\n",
              "      <td>Y</td>\n",
              "      <td>SBrkr</td>\n",
              "      <td>856</td>\n",
              "      <td>854</td>\n",
              "      <td>0</td>\n",
              "      <td>1710</td>\n",
              "      <td>1</td>\n",
              "      <td>0</td>\n",
              "      <td>2</td>\n",
              "      <td>1</td>\n",
              "      <td>3</td>\n",
              "      <td>1</td>\n",
              "      <td>Gd</td>\n",
              "      <td>8</td>\n",
              "      <td>Typ</td>\n",
              "      <td>0</td>\n",
              "      <td>Attchd</td>\n",
              "      <td>2003.0</td>\n",
              "      <td>RFn</td>\n",
              "      <td>2</td>\n",
              "      <td>548</td>\n",
              "      <td>TA</td>\n",
              "      <td>TA</td>\n",
              "      <td>Y</td>\n",
              "      <td>0</td>\n",
              "      <td>61</td>\n",
              "      <td>0</td>\n",
              "      <td>0</td>\n",
              "      <td>0</td>\n",
              "      <td>0</td>\n",
              "      <td>0</td>\n",
              "      <td>2</td>\n",
              "      <td>2008</td>\n",
              "      <td>WD</td>\n",
              "      <td>Normal</td>\n",
              "      <td>12.247699</td>\n",
              "    </tr>\n",
              "    <tr>\n",
              "      <th>1</th>\n",
              "      <td>20</td>\n",
              "      <td>RL</td>\n",
              "      <td>80.0</td>\n",
              "      <td>9600</td>\n",
              "      <td>Pave</td>\n",
              "      <td>Reg</td>\n",
              "      <td>Lvl</td>\n",
              "      <td>AllPub</td>\n",
              "      <td>FR2</td>\n",
              "      <td>Gtl</td>\n",
              "      <td>Veenker</td>\n",
              "      <td>Feedr</td>\n",
              "      <td>Norm</td>\n",
              "      <td>1Fam</td>\n",
              "      <td>1Story</td>\n",
              "      <td>6</td>\n",
              "      <td>8</td>\n",
              "      <td>1976</td>\n",
              "      <td>1976</td>\n",
              "      <td>Gable</td>\n",
              "      <td>CompShg</td>\n",
              "      <td>MetalSd</td>\n",
              "      <td>MetalSd</td>\n",
              "      <td>None</td>\n",
              "      <td>0.0</td>\n",
              "      <td>TA</td>\n",
              "      <td>TA</td>\n",
              "      <td>CBlock</td>\n",
              "      <td>Gd</td>\n",
              "      <td>TA</td>\n",
              "      <td>Gd</td>\n",
              "      <td>ALQ</td>\n",
              "      <td>978</td>\n",
              "      <td>Unf</td>\n",
              "      <td>0</td>\n",
              "      <td>284</td>\n",
              "      <td>1262</td>\n",
              "      <td>GasA</td>\n",
              "      <td>Ex</td>\n",
              "      <td>Y</td>\n",
              "      <td>SBrkr</td>\n",
              "      <td>1262</td>\n",
              "      <td>0</td>\n",
              "      <td>0</td>\n",
              "      <td>1262</td>\n",
              "      <td>0</td>\n",
              "      <td>1</td>\n",
              "      <td>2</td>\n",
              "      <td>0</td>\n",
              "      <td>3</td>\n",
              "      <td>1</td>\n",
              "      <td>TA</td>\n",
              "      <td>6</td>\n",
              "      <td>Typ</td>\n",
              "      <td>1</td>\n",
              "      <td>Attchd</td>\n",
              "      <td>1976.0</td>\n",
              "      <td>RFn</td>\n",
              "      <td>2</td>\n",
              "      <td>460</td>\n",
              "      <td>TA</td>\n",
              "      <td>TA</td>\n",
              "      <td>Y</td>\n",
              "      <td>298</td>\n",
              "      <td>0</td>\n",
              "      <td>0</td>\n",
              "      <td>0</td>\n",
              "      <td>0</td>\n",
              "      <td>0</td>\n",
              "      <td>0</td>\n",
              "      <td>5</td>\n",
              "      <td>2007</td>\n",
              "      <td>WD</td>\n",
              "      <td>Normal</td>\n",
              "      <td>12.109016</td>\n",
              "    </tr>\n",
              "    <tr>\n",
              "      <th>2</th>\n",
              "      <td>60</td>\n",
              "      <td>RL</td>\n",
              "      <td>68.0</td>\n",
              "      <td>11250</td>\n",
              "      <td>Pave</td>\n",
              "      <td>IR1</td>\n",
              "      <td>Lvl</td>\n",
              "      <td>AllPub</td>\n",
              "      <td>Inside</td>\n",
              "      <td>Gtl</td>\n",
              "      <td>CollgCr</td>\n",
              "      <td>Norm</td>\n",
              "      <td>Norm</td>\n",
              "      <td>1Fam</td>\n",
              "      <td>2Story</td>\n",
              "      <td>7</td>\n",
              "      <td>5</td>\n",
              "      <td>2001</td>\n",
              "      <td>2002</td>\n",
              "      <td>Gable</td>\n",
              "      <td>CompShg</td>\n",
              "      <td>VinylSd</td>\n",
              "      <td>VinylSd</td>\n",
              "      <td>BrkFace</td>\n",
              "      <td>162.0</td>\n",
              "      <td>Gd</td>\n",
              "      <td>TA</td>\n",
              "      <td>PConc</td>\n",
              "      <td>Gd</td>\n",
              "      <td>TA</td>\n",
              "      <td>Mn</td>\n",
              "      <td>GLQ</td>\n",
              "      <td>486</td>\n",
              "      <td>Unf</td>\n",
              "      <td>0</td>\n",
              "      <td>434</td>\n",
              "      <td>920</td>\n",
              "      <td>GasA</td>\n",
              "      <td>Ex</td>\n",
              "      <td>Y</td>\n",
              "      <td>SBrkr</td>\n",
              "      <td>920</td>\n",
              "      <td>866</td>\n",
              "      <td>0</td>\n",
              "      <td>1786</td>\n",
              "      <td>1</td>\n",
              "      <td>0</td>\n",
              "      <td>2</td>\n",
              "      <td>1</td>\n",
              "      <td>3</td>\n",
              "      <td>1</td>\n",
              "      <td>Gd</td>\n",
              "      <td>6</td>\n",
              "      <td>Typ</td>\n",
              "      <td>1</td>\n",
              "      <td>Attchd</td>\n",
              "      <td>2001.0</td>\n",
              "      <td>RFn</td>\n",
              "      <td>2</td>\n",
              "      <td>608</td>\n",
              "      <td>TA</td>\n",
              "      <td>TA</td>\n",
              "      <td>Y</td>\n",
              "      <td>0</td>\n",
              "      <td>42</td>\n",
              "      <td>0</td>\n",
              "      <td>0</td>\n",
              "      <td>0</td>\n",
              "      <td>0</td>\n",
              "      <td>0</td>\n",
              "      <td>9</td>\n",
              "      <td>2008</td>\n",
              "      <td>WD</td>\n",
              "      <td>Normal</td>\n",
              "      <td>12.317171</td>\n",
              "    </tr>\n",
              "  </tbody>\n",
              "</table>\n",
              "</div>"
            ],
            "text/plain": [
              "   MSSubClass MSZoning  LotFrontage  ...  SaleType SaleCondition  SalePrice\n",
              "0          60       RL         65.0  ...        WD        Normal  12.247699\n",
              "1          20       RL         80.0  ...        WD        Normal  12.109016\n",
              "2          60       RL         68.0  ...        WD        Normal  12.317171\n",
              "\n",
              "[3 rows x 75 columns]"
            ]
          },
          "metadata": {
            "tags": []
          },
          "execution_count": 14
        }
      ]
    },
    {
      "cell_type": "code",
      "metadata": {
        "colab": {
          "base_uri": "https://localhost:8080/"
        },
        "id": "sApcIUATR18k",
        "outputId": "78d33bbf-dd33-42dc-c68b-e355a8c88904"
      },
      "source": [
        "null_column_count = house_df.isnull().sum()[house_df.isnull().sum() > 0]\r\n",
        "print('Feature : \\n', house_df.dtypes[null_column_count.index])\r\n"
      ],
      "execution_count": 15,
      "outputs": [
        {
          "output_type": "stream",
          "text": [
            "Feature : \n",
            " MasVnrType      object\n",
            "BsmtQual        object\n",
            "BsmtCond        object\n",
            "BsmtExposure    object\n",
            "BsmtFinType1    object\n",
            "BsmtFinType2    object\n",
            "Electrical      object\n",
            "GarageType      object\n",
            "GarageFinish    object\n",
            "GarageQual      object\n",
            "GarageCond      object\n",
            "dtype: object\n"
          ],
          "name": "stdout"
        }
      ]
    },
    {
      "cell_type": "code",
      "metadata": {
        "id": "ZchL1CQtTnhp"
      },
      "source": [
        "# Null 값이 존재하는 데이터는 모두 object의 형태이기 때문에 이를 pd.get_dummies()를 이용해서 one-hot encoding을 진행해서 수치형 데이터로 바꾸어 준다.\r\n",
        "# 이를 이용할 때에 Null 값은 None으로 바꾸어 주기 때문에 결과적으로 Null값은 존재하지 않게 될 것이다.\r\n",
        "\r\n",
        "house_df_onehot = pd.get_dummies(house_df)"
      ],
      "execution_count": 16,
      "outputs": []
    },
    {
      "cell_type": "code",
      "metadata": {
        "id": "QI50Fea5UJ9G"
      },
      "source": [
        "def get_rmse(model):\r\n",
        "  prediction = model.predict(x_test)\r\n",
        "  mse = mean_squared_error(y_test, prediction)\r\n",
        "  rmse = np.sqrt(mse)\r\n",
        "  return rmse\r\n",
        "\r\n",
        "def get_rmses(models):\r\n",
        "  rmses = []\r\n",
        "  for model in models:\r\n",
        "    rmses.append(get_rmse(model))\r\n",
        "  return rmses"
      ],
      "execution_count": 17,
      "outputs": []
    },
    {
      "cell_type": "code",
      "metadata": {
        "id": "-2YyG5V7ZhCL"
      },
      "source": [
        "from sklearn.linear_model import LinearRegression, Ridge, Lasso\r\n",
        "from sklearn.model_selection import train_test_split\r\n",
        "from sklearn.metrics import mean_squared_error\r\n",
        "\r\n",
        "y_target = house_df_onehot['SalePrice']\r\n",
        "x_features = house_df_onehot.drop('SalePrice', axis = 1, inplace = False)\r\n",
        "x_train, x_test, y_train, y_test = train_test_split(x_features, y_target, test_size = 0.2, random_state = 156)\r\n"
      ],
      "execution_count": 18,
      "outputs": []
    },
    {
      "cell_type": "code",
      "metadata": {
        "colab": {
          "base_uri": "https://localhost:8080/"
        },
        "id": "NqK7x53LajHP",
        "outputId": "108a4da9-f70b-4600-d7c9-b55f732739a3"
      },
      "source": [
        "LR_reg = LinearRegression()\r\n",
        "LR_reg.fit(x_train, y_train)\r\n",
        "Ridge_reg = Ridge(alpha = 10)\r\n",
        "Ridge_reg.fit(x_train, y_train)\r\n",
        "Lasso_reg = Lasso(alpha = 0.1)\r\n",
        "Lasso_reg.fit(x_train, y_train)\r\n",
        "\r\n",
        "models = [LR_reg, Ridge_reg, Lasso_reg]\r\n",
        "get_rmses(models)"
      ],
      "execution_count": 19,
      "outputs": [
        {
          "output_type": "execute_result",
          "data": {
            "text/plain": [
              "[0.15969071978602625, 0.13604293638244602, 0.1882954266466139]"
            ]
          },
          "metadata": {
            "tags": []
          },
          "execution_count": 19
        }
      ]
    },
    {
      "cell_type": "markdown",
      "metadata": {
        "id": "LulSPyl2dWeg"
      },
      "source": [
        "**대체 random_state가 어떤 의미이길래 설정 값에 따라서 달라지는 것일까????**  \r\n",
        "ANSWER : "
      ]
    },
    {
      "cell_type": "markdown",
      "metadata": {
        "id": "9zKNKS0beMht"
      },
      "source": [
        "- 우리가 회귀 분석을 한다는 것은 결국에는 여러개의 feature들에 해당하는 정보를 바탕으로 하나의 target을 예측하는 것인데, 이런 의미로 볼 때 target과 각각의 feature data들의 상관계수가 유의미 해야 예측의 정확도가 올라가는 것이다.\r\n",
        "- 그렇기 때문에 학습한 이후에 model의 coef_ 속성을 이용해서 각각의 target과 입력 데이터의 상관계수를 파악을 해 준다.\r\n"
      ]
    },
    {
      "cell_type": "code",
      "metadata": {
        "colab": {
          "base_uri": "https://localhost:8080/"
        },
        "id": "8LIX7YWUbhO-",
        "outputId": "16ebe358-4aa1-453a-888d-76e0d2b54133"
      },
      "source": [
        "from sklearn.model_selection import GridSearchCV\r\n",
        "\r\n",
        "def print_best_params(models, params):\r\n",
        "  grid_model = GridSearchCV(models, param_grid = params, scoring = 'neg_mean_squared_error', cv = 5)\r\n",
        "  grid_model.fit(x_features, y_target)\r\n",
        "  rmse = np.sqrt(-1*grid_model.best_score_)\r\n",
        "  print('{0} RMSE : {1} 최적 alpha : {2}'.format(models.__class__.__name__,\r\n",
        "                                               np.round(rmse, 4), grid_model.best_params_))\r\n",
        "\r\n",
        "ridge_params = {'alpha' : [0.05, 0.1, 1, 5, 8, 10, 12, 15, 20]}\r\n",
        "lasso_params = {'alpha' : [0.001, 0.005, 0.008, 0.05, 0.03, 0.1, 0.5, 1, 5, 10]}\r\n",
        "\r\n",
        "print_best_params(Ridge_reg, ridge_params)\r\n",
        "print_best_params(Lasso_reg, lasso_params)"
      ],
      "execution_count": 20,
      "outputs": [
        {
          "output_type": "stream",
          "text": [
            "Ridge RMSE : 0.1418 최적 alpha : {'alpha': 12}\n",
            "Lasso RMSE : 0.142 최적 alpha : {'alpha': 0.001}\n"
          ],
          "name": "stdout"
        }
      ]
    },
    {
      "cell_type": "code",
      "metadata": {
        "colab": {
          "base_uri": "https://localhost:8080/"
        },
        "id": "JcQRW501i64X",
        "outputId": "5bc19e5d-9cd9-4b09-9aac-fe6ec3dcf150"
      },
      "source": [
        "from scipy.stats import skew\r\n",
        "\r\n",
        "#object가 아닌 숫자형 feature의 column index를 추출한다.\r\n",
        "features_index = house_df.dtypes[house_df.dtypes != 'object'].index\r\n",
        "#house_df에 column index를 []로 입력하면 해당하는 column 데이터를 돌려준다.\r\n",
        "skew_features = house_df[features_index].apply(lambda x: skew(x))\r\n",
        "#skew, 즉 왜곡의 정도가 1이상인 column이 결국에는 왜곡 정도가 높다고 판단하는 일반적인 기준치이기 떄문에 1이상인 column만을 추출하도록 한다.\r\n",
        "skew_features_top = skew_features[skew_features > 1]\r\n",
        "print(skew_features_top.sort_values(ascending = False))"
      ],
      "execution_count": 21,
      "outputs": [
        {
          "output_type": "stream",
          "text": [
            "MiscVal          24.451640\n",
            "PoolArea         14.813135\n",
            "LotArea          12.195142\n",
            "3SsnPorch        10.293752\n",
            "LowQualFinSF      9.002080\n",
            "KitchenAbvGr      4.483784\n",
            "BsmtFinSF2        4.250888\n",
            "ScreenPorch       4.117977\n",
            "BsmtHalfBath      4.099186\n",
            "EnclosedPorch     3.086696\n",
            "MasVnrArea        2.673661\n",
            "LotFrontage       2.382499\n",
            "OpenPorchSF       2.361912\n",
            "BsmtFinSF1        1.683771\n",
            "WoodDeckSF        1.539792\n",
            "TotalBsmtSF       1.522688\n",
            "MSSubClass        1.406210\n",
            "1stFlrSF          1.375342\n",
            "GrLivArea         1.365156\n",
            "dtype: float64\n"
          ],
          "name": "stdout"
        }
      ]
    },
    {
      "cell_type": "code",
      "metadata": {
        "id": "2Z6dTCltCCB-"
      },
      "source": [
        "house_df[skew_features_top.index] = np.log1p(house_df[skew_features_top.index])"
      ],
      "execution_count": 22,
      "outputs": []
    },
    {
      "cell_type": "markdown",
      "metadata": {
        "id": "UxrDizs66reF"
      },
      "source": [
        "- skew_features, 즉 왜곡의 정도가 높은 데이터에 대해서 Log Differentiation을 적용해서 학습을 시킨 결과 우리가 일반적으로 예측하는 대로 방의 크기가 회귀 계수가 높은 feature로 결과가 도출되었다.\r\n",
        "- 그렇다면 이제 회귀의 결과에 영향을 많이 미치는 skew데이터중 상관 계수가 높은 데이터에 대해서 이상치 제한을 하고자 한다."
      ]
    },
    {
      "cell_type": "code",
      "metadata": {
        "id": "G8duZ8kCC4HL"
      },
      "source": [
        "# 우리가 이상치일 것이라고 판단한 데이터에 해당하는 조건을 설정해 인덱스를 추출하고 여기서 해당 데이터를 제거해 준다.\r\n",
        "# 또한 우리는 전체 데이터를 전처리 할 때에 log변환을 해 주었기 떄문에 이상치 index를 찾는 상황에서도 log변환을 한 조건을 이용해야 한다.\r\n",
        "# 예측에 중요한 영향을 미치는 상관계수가 높은 데이터일수록 이상치 탐색을 제대로 해 주어야 한다."
      ],
      "execution_count": 23,
      "outputs": []
    },
    {
      "cell_type": "markdown",
      "metadata": {
        "id": "3IZQ1UkGIFvH"
      },
      "source": [
        "**바람직한 머신러닝 모델 생성 과정이 바로 대략의 데이터 가공과 모델 최적화를 수행한 뒤에 다시 이에 기반한 여러가지 기법의 데이터 가공과 hyperparameter기반의 모델 최적화를 반복적으로 수행하는 것이다.**\r\n",
        "\r\n",
        "1. 우리는 회귀 모델의 예측 결과 혼합을 통해서 최종 예측을 할 수도 있다.\r\n",
        "- A, B 두 모델이 있다고 할 때에 A모델의 예측값에 특정 비율 a, B 모델의 예측값에 특정 비율 b를 적용해서 최종 회귀 값으로 예측하는 것이다.\r\n",
        "\r\n",
        "2. 이외에도 Stacking Ensenble Model을 통해서 회귀 예측이 가능하다.\r\n",
        "  1. 여러개의 개별 모델의 예측 데이터를 각각 stacking의 형태로 결합해서 최종 메타 모델의 학습용 dataset과 테스트용 dataset을 만드는 것이다.\r\n",
        "  2. 개별적 기반 모델"
      ]
    },
    {
      "cell_type": "code",
      "metadata": {
        "colab": {
          "base_uri": "https://localhost:8080/"
        },
        "id": "6lxCTLUDIEaJ",
        "outputId": "8270b77f-6bdf-4fad-e6a8-e98716944e74"
      },
      "source": [
        "from sklearn.model_selection import KFold\r\n",
        "from sklearn.metrics import mean_absolute_error\r\n",
        "\r\n",
        "# 지금 만들고자 하는 함수는 개별 기반 모델에서 최종 메타 모델이 사용할 학습 및 테스트 데이터를 생성하기 위한 함수이다.\r\n",
        "def make_dataset(model, x_train_n, y_train_n, x_test_n, n_stacked):\r\n",
        "  kf = KFold(n_splits = n_stacked, shuffle = False, random_state = 0)\r\n",
        "  train_fold_prediction = np.zeros((x_train_n.shape[0], 1))\r\n",
        "  test_prediction = np.zeros((x_test_n.shape[0], n_stacked))\r\n",
        "  print(model.__class__.__name__, 'Model Start')\r\n",
        "\r\n",
        "  for folder_counter, (train_index, valid_index) in enumerate(kf.split(x_train_n)):\r\n",
        "    x_tr = x_train_n[train_index]\r\n",
        "    y_tr = y_train_n[train_index]\r\n",
        "    x_te = x_train_n[valid_index]\r\n",
        "\r\n",
        "    model.fit(x_tr, y_tr)\r\n",
        "    train_fold_prediction[valid_index, :] = model.predict(x_te).reshape(-1, 1)\r\n",
        "    test_prediction[:, folder_counter] = model.predict(x_test_n)\r\n",
        "\r\n",
        "  test_prediction_mean = np.mean(test_prediction, axis = 1).reshape(-1, 1)\r\n",
        "\r\n",
        "  return train_fold_prediction, test_prediction_mean\r\n",
        "\r\n",
        "x_train_n = x_train.values\r\n",
        "x_test_n = x_test.values\r\n",
        "y_train_n = y_train.values\r\n",
        "\r\n",
        "from sklearn.linear_model import Ridge, Lasso\r\n",
        "from xgboost import XGBRegressor\r\n",
        "from lightgbm import LGBMRegressor\r\n",
        "\r\n",
        "XGB_reg = XGBRegressor(n_estimators = 1000, learning_rate = 0.05,\r\n",
        "                       colsample_bytree = 0.5, subsample = 0.8)\r\n",
        "LGBM_reg = LGBMRegressor(n_estimators = 1000, learning_rate = 0.05, num_leaves = 4, \r\n",
        "                         subsample = 0.6, colsamploe_bytree = 0.4, reg_lambda = 10, n_jobs = -1)\r\n",
        "\r\n",
        "ridge_train, ridge_test = make_dataset(Ridge_reg, x_train_n, y_train_n, x_test_n, 5)\r\n",
        "lasso_train, lasso_test = make_dataset(Lasso_reg, x_train_n, y_train_n, x_test_n, 5)\r\n",
        "xgb_train, xgb_test = make_dataset(XGB_reg, x_train_n, y_train_n, x_test_n, 5)\r\n",
        "lgbm_train, lgbm_test = make_dataset(LGBM_reg, x_train_n, y_train_n, x_test_n, 5)\r\n",
        "\r\n",
        "stack_final_x_train = np.concatenate((ridge_train, lasso_train, xgb_train, lgbm_train), axis = 1)\r\n",
        "stack_final_x_test = np.concatenate((ridge_test, lasso_test, xgb_test, lgbm_test), axis = 1)\r\n",
        "\r\n",
        "meta_model_lasso = Lasso(alpha = 0.0005)\r\n",
        "\r\n",
        "meta_model_lasso.fit(stack_final_x_train, y_train)\r\n",
        "final = meta_model_lasso.predict(stack_final_x_test)\r\n",
        "mse = mean_squared_error(y_test, final)\r\n",
        "rmse = np.sqrt(mse)\r\n",
        "print('RMSE Of The Stacking Model : {}'.format(rmse))\r\n",
        "\r\n",
        "\r\n",
        "\r\n",
        "\r\n",
        "\r\n",
        "\r\n",
        "\r\n"
      ],
      "execution_count": 32,
      "outputs": [
        {
          "output_type": "stream",
          "text": [
            "/usr/local/lib/python3.6/dist-packages/sklearn/model_selection/_split.py:296: FutureWarning: Setting a random_state has no effect since shuffle is False. This will raise an error in 0.24. You should leave random_state to its default (None), or set shuffle=True.\n",
            "  FutureWarning\n",
            "/usr/local/lib/python3.6/dist-packages/sklearn/model_selection/_split.py:296: FutureWarning: Setting a random_state has no effect since shuffle is False. This will raise an error in 0.24. You should leave random_state to its default (None), or set shuffle=True.\n",
            "  FutureWarning\n"
          ],
          "name": "stderr"
        },
        {
          "output_type": "stream",
          "text": [
            "Ridge Model Start\n",
            "Lasso Model Start\n"
          ],
          "name": "stdout"
        },
        {
          "output_type": "stream",
          "text": [
            "/usr/local/lib/python3.6/dist-packages/sklearn/model_selection/_split.py:296: FutureWarning: Setting a random_state has no effect since shuffle is False. This will raise an error in 0.24. You should leave random_state to its default (None), or set shuffle=True.\n",
            "  FutureWarning\n"
          ],
          "name": "stderr"
        },
        {
          "output_type": "stream",
          "text": [
            "XGBRegressor Model Start\n",
            "[01:50:50] WARNING: /workspace/src/objective/regression_obj.cu:152: reg:linear is now deprecated in favor of reg:squarederror.\n",
            "[01:50:54] WARNING: /workspace/src/objective/regression_obj.cu:152: reg:linear is now deprecated in favor of reg:squarederror.\n",
            "[01:50:58] WARNING: /workspace/src/objective/regression_obj.cu:152: reg:linear is now deprecated in favor of reg:squarederror.\n",
            "[01:51:02] WARNING: /workspace/src/objective/regression_obj.cu:152: reg:linear is now deprecated in favor of reg:squarederror.\n",
            "[01:51:06] WARNING: /workspace/src/objective/regression_obj.cu:152: reg:linear is now deprecated in favor of reg:squarederror.\n",
            "LGBMRegressor Model Start\n",
            "RMSE Of The Stacking Model : 0.1255258091419017\n"
          ],
          "name": "stdout"
        }
      ]
    },
    {
      "cell_type": "code",
      "metadata": {
        "id": "WYu9rpyySu6_"
      },
      "source": [
        ""
      ],
      "execution_count": null,
      "outputs": []
    }
  ]
}
