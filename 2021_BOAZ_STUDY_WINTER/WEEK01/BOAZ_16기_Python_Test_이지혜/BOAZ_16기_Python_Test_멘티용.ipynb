{
  "nbformat": 4,
  "nbformat_minor": 0,
  "metadata": {
    "kernelspec": {
      "display_name": "Python 3",
      "language": "python",
      "name": "python3"
    },
    "language_info": {
      "codemirror_mode": {
        "name": "ipython",
        "version": 3
      },
      "file_extension": ".py",
      "mimetype": "text/x-python",
      "name": "python",
      "nbconvert_exporter": "python",
      "pygments_lexer": "ipython3",
      "version": "3.7.9-final"
    },
    "colab": {
      "name": "BOAZ_15기_Python_Test_멘티용.ipynb",
      "provenance": [],
      "collapsed_sections": []
    }
  },
  "cells": [
    {
      "cell_type": "markdown",
      "metadata": {
        "id": "G1RHvxVVCtXG"
      },
      "source": [
        "## BOAZ 16기 분석 Python Quiz"
      ]
    },
    {
      "cell_type": "markdown",
      "metadata": {
        "id": "udMp1bH0CtXM"
      },
      "source": [
        "안녕하세요. BOAZ 15기 남상대입니다.\n",
        "\n",
        "BOAZ 16기 분석으로 들어오시게 되신 분들 모두모두 반갑습니다!!\n",
        "\n",
        "동아리에 들어오자마자 과제를 드리는 점 너무 죄송합니다.  \n",
        "앞으로 멘토/멘티 스터디에서 Python 중 어느 부분에 집중하여 진행할 지 구체화하기 위해 퀴즈를 보게되었습니다.\n",
        "\n",
        "단지, 스터디 방향을 잡기 위함이니 부담 갖지 마시고 편안하게 풀어주셨으면 합니다.  "
      ]
    },
    {
      "cell_type": "code",
      "execution_count": 39,
      "metadata": {},
      "outputs": [
        {
          "output_type": "error",
          "ename": "RuntimeError",
          "evalue": "Device placement logging must be set at program startup",
          "traceback": [
            "\u001b[1;31m---------------------------------------------------------------------------\u001b[0m",
            "\u001b[1;31mRuntimeError\u001b[0m                              Traceback (most recent call last)",
            "\u001b[1;32m<ipython-input-39-3027a415a665>\u001b[0m in \u001b[0;36m<module>\u001b[1;34m\u001b[0m\n\u001b[0;32m      1\u001b[0m \u001b[0mtf\u001b[0m\u001b[1;33m.\u001b[0m\u001b[0mtest\u001b[0m\u001b[1;33m.\u001b[0m\u001b[0mis_gpu_available\u001b[0m\u001b[1;33m(\u001b[0m\u001b[1;33m)\u001b[0m\u001b[1;33m\u001b[0m\u001b[1;33m\u001b[0m\u001b[0m\n\u001b[1;32m----> 2\u001b[1;33m \u001b[0mtf\u001b[0m\u001b[1;33m.\u001b[0m\u001b[0mdebugging\u001b[0m\u001b[1;33m.\u001b[0m\u001b[0mset_log_device_placement\u001b[0m\u001b[1;33m(\u001b[0m\u001b[1;32mTrue\u001b[0m\u001b[1;33m)\u001b[0m\u001b[1;33m\u001b[0m\u001b[1;33m\u001b[0m\u001b[0m\n\u001b[0m",
            "\u001b[1;32mC:\\CONDA\\envs\\final\\lib\\site-packages\\tensorflow_core\\python\\eager\\context.py\u001b[0m in \u001b[0;36mset_log_device_placement\u001b[1;34m(enabled)\u001b[0m\n\u001b[0;32m   1853\u001b[0m     \u001b[0menabled\u001b[0m\u001b[1;33m:\u001b[0m \u001b[0mWhether\u001b[0m \u001b[0mto\u001b[0m \u001b[0menabled\u001b[0m \u001b[0mdevice\u001b[0m \u001b[0mplacement\u001b[0m \u001b[0mlogging\u001b[0m\u001b[1;33m.\u001b[0m\u001b[1;33m\u001b[0m\u001b[1;33m\u001b[0m\u001b[0m\n\u001b[0;32m   1854\u001b[0m   \"\"\"\n\u001b[1;32m-> 1855\u001b[1;33m   \u001b[0mcontext\u001b[0m\u001b[1;33m(\u001b[0m\u001b[1;33m)\u001b[0m\u001b[1;33m.\u001b[0m\u001b[0mlog_device_placement\u001b[0m \u001b[1;33m=\u001b[0m \u001b[0menabled\u001b[0m\u001b[1;33m\u001b[0m\u001b[1;33m\u001b[0m\u001b[0m\n\u001b[0m\u001b[0;32m   1856\u001b[0m \u001b[1;33m\u001b[0m\u001b[0m\n\u001b[0;32m   1857\u001b[0m \u001b[1;33m\u001b[0m\u001b[0m\n",
            "\u001b[1;32mC:\\CONDA\\envs\\final\\lib\\site-packages\\tensorflow_core\\python\\eager\\context.py\u001b[0m in \u001b[0;36mlog_device_placement\u001b[1;34m(self, enabled)\u001b[0m\n\u001b[0;32m   1403\u001b[0m     \u001b[1;32mif\u001b[0m \u001b[0mself\u001b[0m\u001b[1;33m.\u001b[0m\u001b[0m_context_handle\u001b[0m \u001b[1;32mis\u001b[0m \u001b[1;32mnot\u001b[0m \u001b[1;32mNone\u001b[0m\u001b[1;33m:\u001b[0m\u001b[1;33m\u001b[0m\u001b[1;33m\u001b[0m\u001b[0m\n\u001b[0;32m   1404\u001b[0m       raise RuntimeError(\n\u001b[1;32m-> 1405\u001b[1;33m           \"Device placement logging must be set at program startup\")\n\u001b[0m\u001b[0;32m   1406\u001b[0m \u001b[1;33m\u001b[0m\u001b[0m\n\u001b[0;32m   1407\u001b[0m     \u001b[0mself\u001b[0m\u001b[1;33m.\u001b[0m\u001b[0m_log_device_placement\u001b[0m \u001b[1;33m=\u001b[0m \u001b[0menabled\u001b[0m\u001b[1;33m\u001b[0m\u001b[1;33m\u001b[0m\u001b[0m\n",
            "\u001b[1;31mRuntimeError\u001b[0m: Device placement logging must be set at program startup"
          ]
        }
      ],
      "source": [
        "tf.test.is_gpu_available()\n",
        "tf.debugging.set_log_device_placement(True)"
      ]
    },
    {
      "cell_type": "markdown",
      "metadata": {
        "id": "gGI2fYE8CtXN"
      },
      "source": [
        "### 문제 1\n",
        "#### 다음의 생년월일에서 달만 출력해 주세요."
      ]
    },
    {
      "cell_type": "code",
      "metadata": {
        "id": "dM1bB9ahCtXO"
      },
      "source": [
        "Birth = '1996-10-03'"
      ],
      "execution_count": 1,
      "outputs": []
    },
    {
      "cell_type": "code",
      "metadata": {
        "id": "Up5xFAD_CtXP",
        "outputId": "b5da0ed7-4ba1-4353-c71e-c691d36b6d15"
      },
      "source": [
        "print(Birth.split('-')[1])"
      ],
      "execution_count": 2,
      "outputs": [
        {
          "output_type": "stream",
          "name": "stdout",
          "text": [
            "10\n"
          ]
        }
      ]
    },
    {
      "cell_type": "markdown",
      "metadata": {
        "id": "if88unKiCtXQ"
      },
      "source": [
        "### 문제 2\n",
        "#### 주어진 리스트에 대해 내림차순을 진행해 주세요."
      ]
    },
    {
      "cell_type": "code",
      "metadata": {
        "id": "T3gHKXrQCtXQ"
      },
      "source": [
        "a = [1,3,5,4,2]"
      ],
      "execution_count": 3,
      "outputs": []
    },
    {
      "cell_type": "code",
      "execution_count": 4,
      "metadata": {},
      "outputs": [],
      "source": [
        "a.sort(reverse = True)"
      ]
    },
    {
      "cell_type": "code",
      "metadata": {
        "id": "Au-m4Rt6CtXR",
        "outputId": "336aac4b-8560-4563-8598-b2b13b8b4e84"
      },
      "source": [
        "a"
      ],
      "execution_count": 5,
      "outputs": [
        {
          "output_type": "execute_result",
          "data": {
            "text/plain": [
              "[5, 4, 3, 2, 1]"
            ]
          },
          "metadata": {},
          "execution_count": 5
        }
      ]
    },
    {
      "cell_type": "markdown",
      "metadata": {
        "id": "bywV_6NNCtXR"
      },
      "source": [
        "### 문제 3\n",
        "#### 반복문을 이용하여 1부터 10까지 합을 출력해 주세요."
      ]
    },
    {
      "cell_type": "code",
      "metadata": {
        "id": "TtbbgVBhDLTs"
      },
      "source": [
        "total = 0\n",
        "for i in range(10):\n",
        "    total += (i+1)"
      ],
      "execution_count": 6,
      "outputs": []
    },
    {
      "cell_type": "code",
      "metadata": {
        "id": "KBiIqBmeCtXR",
        "outputId": "fafb775d-e8fa-4a3b-9120-e0a44153b57e"
      },
      "source": [
        "total"
      ],
      "execution_count": 7,
      "outputs": [
        {
          "output_type": "execute_result",
          "data": {
            "text/plain": [
              "55"
            ]
          },
          "metadata": {},
          "execution_count": 7
        }
      ]
    },
    {
      "cell_type": "markdown",
      "metadata": {
        "id": "XnUmocDyCtXS"
      },
      "source": [
        "### 문제 4\n",
        "#### 두 개의 숫자를 입력하면 합을 출력하는 함수(def 활용)를 만들어 주세요. "
      ]
    },
    {
      "cell_type": "code",
      "metadata": {
        "id": "6TNF9TqMCtXS"
      },
      "source": [
        "def AplusB(a,b):\n",
        "    print(a+b)"
      ],
      "execution_count": 8,
      "outputs": []
    },
    {
      "cell_type": "code",
      "metadata": {
        "id": "7KZ-J8cbCtXS",
        "outputId": "3d8e49e5-6f91-4c44-d1f1-78078a2a41b4"
      },
      "source": [
        "AplusB(1,3)"
      ],
      "execution_count": 9,
      "outputs": [
        {
          "output_type": "stream",
          "name": "stdout",
          "text": [
            "4\n"
          ]
        }
      ]
    },
    {
      "cell_type": "markdown",
      "metadata": {
        "id": "jiHRGcYHCtXS"
      },
      "source": [
        "### 문제 5 - 1 \n",
        "#### 아래 리스트를 이용하여 다음과 같은 데이터 프레임을 만들어 주세요."
      ]
    },
    {
      "cell_type": "code",
      "metadata": {
        "id": "jOu_c9r6CtXT"
      },
      "source": [
        "import pandas as pd\n"
      ],
      "execution_count": 10,
      "outputs": []
    },
    {
      "cell_type": "code",
      "metadata": {
        "id": "6Zj3fc51CtXT"
      },
      "source": [
        "df = pd.DataFrame({'id':[0,1,2,3,4,5,6], 'keyword':['BOAZ', '시각화', '14/15기', '정규세션', '멘토멘티', '스터디', 'Quiz좋아']})\n"
      ],
      "execution_count": 11,
      "outputs": []
    },
    {
      "cell_type": "code",
      "metadata": {
        "id": "pYGwQIeqCtXT",
        "outputId": "809a63ed-5a87-4979-c8e5-b8ead0498dd6"
      },
      "source": [
        "df"
      ],
      "execution_count": 12,
      "outputs": [
        {
          "output_type": "execute_result",
          "data": {
            "text/plain": [
              "   id keyword\n",
              "0   0    BOAZ\n",
              "1   1     시각화\n",
              "2   2  14/15기\n",
              "3   3    정규세션\n",
              "4   4    멘토멘티\n",
              "5   5     스터디\n",
              "6   6  Quiz좋아"
            ],
            "text/html": "<div>\n<style scoped>\n    .dataframe tbody tr th:only-of-type {\n        vertical-align: middle;\n    }\n\n    .dataframe tbody tr th {\n        vertical-align: top;\n    }\n\n    .dataframe thead th {\n        text-align: right;\n    }\n</style>\n<table border=\"1\" class=\"dataframe\">\n  <thead>\n    <tr style=\"text-align: right;\">\n      <th></th>\n      <th>id</th>\n      <th>keyword</th>\n    </tr>\n  </thead>\n  <tbody>\n    <tr>\n      <th>0</th>\n      <td>0</td>\n      <td>BOAZ</td>\n    </tr>\n    <tr>\n      <th>1</th>\n      <td>1</td>\n      <td>시각화</td>\n    </tr>\n    <tr>\n      <th>2</th>\n      <td>2</td>\n      <td>14/15기</td>\n    </tr>\n    <tr>\n      <th>3</th>\n      <td>3</td>\n      <td>정규세션</td>\n    </tr>\n    <tr>\n      <th>4</th>\n      <td>4</td>\n      <td>멘토멘티</td>\n    </tr>\n    <tr>\n      <th>5</th>\n      <td>5</td>\n      <td>스터디</td>\n    </tr>\n    <tr>\n      <th>6</th>\n      <td>6</td>\n      <td>Quiz좋아</td>\n    </tr>\n  </tbody>\n</table>\n</div>"
          },
          "metadata": {},
          "execution_count": 12
        }
      ]
    },
    {
      "cell_type": "markdown",
      "metadata": {
        "id": "VPGuk2aNCtXT"
      },
      "source": [
        "### 문제 5 - 2\n",
        "#### Quiz는 싫으니 Quiz가 있는 행을 제거 해주세요."
      ]
    },
    {
      "cell_type": "code",
      "metadata": {
        "id": "aiWh_T-RDgmP"
      },
      "source": [
        "df = df.drop(index = 6)"
      ],
      "execution_count": 13,
      "outputs": []
    },
    {
      "cell_type": "code",
      "metadata": {
        "id": "aFnnpNQbCtXT",
        "outputId": "f0071512-0166-4017-977e-9f5e60e34c06"
      },
      "source": [
        "df"
      ],
      "execution_count": 14,
      "outputs": [
        {
          "output_type": "execute_result",
          "data": {
            "text/plain": [
              "   id keyword\n",
              "0   0    BOAZ\n",
              "1   1     시각화\n",
              "2   2  14/15기\n",
              "3   3    정규세션\n",
              "4   4    멘토멘티\n",
              "5   5     스터디"
            ],
            "text/html": "<div>\n<style scoped>\n    .dataframe tbody tr th:only-of-type {\n        vertical-align: middle;\n    }\n\n    .dataframe tbody tr th {\n        vertical-align: top;\n    }\n\n    .dataframe thead th {\n        text-align: right;\n    }\n</style>\n<table border=\"1\" class=\"dataframe\">\n  <thead>\n    <tr style=\"text-align: right;\">\n      <th></th>\n      <th>id</th>\n      <th>keyword</th>\n    </tr>\n  </thead>\n  <tbody>\n    <tr>\n      <th>0</th>\n      <td>0</td>\n      <td>BOAZ</td>\n    </tr>\n    <tr>\n      <th>1</th>\n      <td>1</td>\n      <td>시각화</td>\n    </tr>\n    <tr>\n      <th>2</th>\n      <td>2</td>\n      <td>14/15기</td>\n    </tr>\n    <tr>\n      <th>3</th>\n      <td>3</td>\n      <td>정규세션</td>\n    </tr>\n    <tr>\n      <th>4</th>\n      <td>4</td>\n      <td>멘토멘티</td>\n    </tr>\n    <tr>\n      <th>5</th>\n      <td>5</td>\n      <td>스터디</td>\n    </tr>\n  </tbody>\n</table>\n</div>"
          },
          "metadata": {},
          "execution_count": 14
        }
      ]
    },
    {
      "cell_type": "markdown",
      "metadata": {
        "id": "FNHw1gMnCtXV"
      },
      "source": [
        "### 문제 6\n",
        "#### 다음의 데이터 셋을 통해 각 문제를 해결 해주세요."
      ]
    },
    {
      "cell_type": "code",
      "metadata": {
        "id": "ZiBQZlxxCtXW"
      },
      "source": [
        "import numpy as np\n",
        "df = pd.DataFrame({\n",
        "    'user_id': [1,1,2,3,3,3,4,4,5,6],\n",
        "    'coupon_id': [np.nan, 1, 2, np.nan, 3, 4, 5, np.nan, 6, np.nan],\n",
        "    'date': ['2020-07-07',np.nan,'2020-07-08','2020-07-09','2020-07-10',np.nan,'2020-07-11','2020-07-12','2020-07-13','2020-07-14'],\n",
        "    'price': [11000, 20000, 5000, 27000, 15000, 21000, 23000, 25000, 17000, 10000]\n",
        "})"
      ],
      "execution_count": 15,
      "outputs": []
    },
    {
      "cell_type": "code",
      "metadata": {
        "id": "vJquKOaxCtXW",
        "outputId": "589af581-0079-458c-bd73-5be711c72d78"
      },
      "source": [
        "df"
      ],
      "execution_count": 16,
      "outputs": [
        {
          "output_type": "execute_result",
          "data": {
            "text/plain": [
              "   user_id  coupon_id        date  price\n",
              "0        1        NaN  2020-07-07  11000\n",
              "1        1        1.0         NaN  20000\n",
              "2        2        2.0  2020-07-08   5000\n",
              "3        3        NaN  2020-07-09  27000\n",
              "4        3        3.0  2020-07-10  15000\n",
              "5        3        4.0         NaN  21000\n",
              "6        4        5.0  2020-07-11  23000\n",
              "7        4        NaN  2020-07-12  25000\n",
              "8        5        6.0  2020-07-13  17000\n",
              "9        6        NaN  2020-07-14  10000"
            ],
            "text/html": "<div>\n<style scoped>\n    .dataframe tbody tr th:only-of-type {\n        vertical-align: middle;\n    }\n\n    .dataframe tbody tr th {\n        vertical-align: top;\n    }\n\n    .dataframe thead th {\n        text-align: right;\n    }\n</style>\n<table border=\"1\" class=\"dataframe\">\n  <thead>\n    <tr style=\"text-align: right;\">\n      <th></th>\n      <th>user_id</th>\n      <th>coupon_id</th>\n      <th>date</th>\n      <th>price</th>\n    </tr>\n  </thead>\n  <tbody>\n    <tr>\n      <th>0</th>\n      <td>1</td>\n      <td>NaN</td>\n      <td>2020-07-07</td>\n      <td>11000</td>\n    </tr>\n    <tr>\n      <th>1</th>\n      <td>1</td>\n      <td>1.0</td>\n      <td>NaN</td>\n      <td>20000</td>\n    </tr>\n    <tr>\n      <th>2</th>\n      <td>2</td>\n      <td>2.0</td>\n      <td>2020-07-08</td>\n      <td>5000</td>\n    </tr>\n    <tr>\n      <th>3</th>\n      <td>3</td>\n      <td>NaN</td>\n      <td>2020-07-09</td>\n      <td>27000</td>\n    </tr>\n    <tr>\n      <th>4</th>\n      <td>3</td>\n      <td>3.0</td>\n      <td>2020-07-10</td>\n      <td>15000</td>\n    </tr>\n    <tr>\n      <th>5</th>\n      <td>3</td>\n      <td>4.0</td>\n      <td>NaN</td>\n      <td>21000</td>\n    </tr>\n    <tr>\n      <th>6</th>\n      <td>4</td>\n      <td>5.0</td>\n      <td>2020-07-11</td>\n      <td>23000</td>\n    </tr>\n    <tr>\n      <th>7</th>\n      <td>4</td>\n      <td>NaN</td>\n      <td>2020-07-12</td>\n      <td>25000</td>\n    </tr>\n    <tr>\n      <th>8</th>\n      <td>5</td>\n      <td>6.0</td>\n      <td>2020-07-13</td>\n      <td>17000</td>\n    </tr>\n    <tr>\n      <th>9</th>\n      <td>6</td>\n      <td>NaN</td>\n      <td>2020-07-14</td>\n      <td>10000</td>\n    </tr>\n  </tbody>\n</table>\n</div>"
          },
          "metadata": {},
          "execution_count": 16
        }
      ]
    },
    {
      "cell_type": "markdown",
      "metadata": {
        "id": "OTNMDRrMCtXW"
      },
      "source": [
        "#### 6-1. user_id별 평균 price를 계산하고 평균 price를 기준으로 내림차순 정렬 해주세요."
      ]
    },
    {
      "cell_type": "code",
      "execution_count": 17,
      "metadata": {},
      "outputs": [],
      "source": [
        "mean_price = df.groupby([\"user_id\"])['price'].mean()"
      ]
    },
    {
      "cell_type": "code",
      "execution_count": 18,
      "metadata": {},
      "outputs": [
        {
          "output_type": "execute_result",
          "data": {
            "text/plain": [
              "user_id\n",
              "1    15500\n",
              "2     5000\n",
              "3    21000\n",
              "4    24000\n",
              "5    17000\n",
              "6    10000\n",
              "Name: price, dtype: int64"
            ]
          },
          "metadata": {},
          "execution_count": 18
        }
      ],
      "source": [
        "mean_price"
      ]
    },
    {
      "cell_type": "code",
      "execution_count": 19,
      "metadata": {},
      "outputs": [
        {
          "output_type": "execute_result",
          "data": {
            "text/plain": [
              "   user_id   mean\n",
              "3        4  24000\n",
              "2        3  21000\n",
              "4        5  17000\n",
              "0        1  15500\n",
              "5        6  10000\n",
              "1        2   5000"
            ],
            "text/html": "<div>\n<style scoped>\n    .dataframe tbody tr th:only-of-type {\n        vertical-align: middle;\n    }\n\n    .dataframe tbody tr th {\n        vertical-align: top;\n    }\n\n    .dataframe thead th {\n        text-align: right;\n    }\n</style>\n<table border=\"1\" class=\"dataframe\">\n  <thead>\n    <tr style=\"text-align: right;\">\n      <th></th>\n      <th>user_id</th>\n      <th>mean</th>\n    </tr>\n  </thead>\n  <tbody>\n    <tr>\n      <th>3</th>\n      <td>4</td>\n      <td>24000</td>\n    </tr>\n    <tr>\n      <th>2</th>\n      <td>3</td>\n      <td>21000</td>\n    </tr>\n    <tr>\n      <th>4</th>\n      <td>5</td>\n      <td>17000</td>\n    </tr>\n    <tr>\n      <th>0</th>\n      <td>1</td>\n      <td>15500</td>\n    </tr>\n    <tr>\n      <th>5</th>\n      <td>6</td>\n      <td>10000</td>\n    </tr>\n    <tr>\n      <th>1</th>\n      <td>2</td>\n      <td>5000</td>\n    </tr>\n  </tbody>\n</table>\n</div>"
          },
          "metadata": {},
          "execution_count": 19
        }
      ],
      "source": [
        "new = (df[['user_id', 'price']])\n",
        "new = new.groupby([\"user_id\"])[\"price\"].mean()\n",
        "new = new.reset_index()\n",
        "new = new.rename(columns = {'price':'mean'})\n",
        "new.sort_values('mean',ascending = False)\n"
      ]
    },
    {
      "cell_type": "code",
      "metadata": {
        "id": "0XC_LxJFCtXX",
        "outputId": "3df54ed5-3da9-4354-b42b-0367d813c481"
      },
      "source": [],
      "execution_count": null,
      "outputs": [
        {
          "output_type": "execute_result",
          "data": {
            "text/html": [
              "<div>\n",
              "<style scoped>\n",
              "    .dataframe tbody tr th:only-of-type {\n",
              "        vertical-align: middle;\n",
              "    }\n",
              "\n",
              "    .dataframe tbody tr th {\n",
              "        vertical-align: top;\n",
              "    }\n",
              "\n",
              "    .dataframe thead th {\n",
              "        text-align: right;\n",
              "    }\n",
              "</style>\n",
              "<table border=\"1\" class=\"dataframe\">\n",
              "  <thead>\n",
              "    <tr style=\"text-align: right;\">\n",
              "      <th></th>\n",
              "      <th>user_id</th>\n",
              "      <th>mean</th>\n",
              "    </tr>\n",
              "  </thead>\n",
              "  <tbody>\n",
              "    <tr>\n",
              "      <td>3</td>\n",
              "      <td>4</td>\n",
              "      <td>24000</td>\n",
              "    </tr>\n",
              "    <tr>\n",
              "      <td>2</td>\n",
              "      <td>3</td>\n",
              "      <td>21000</td>\n",
              "    </tr>\n",
              "    <tr>\n",
              "      <td>4</td>\n",
              "      <td>5</td>\n",
              "      <td>17000</td>\n",
              "    </tr>\n",
              "    <tr>\n",
              "      <td>0</td>\n",
              "      <td>1</td>\n",
              "      <td>15500</td>\n",
              "    </tr>\n",
              "    <tr>\n",
              "      <td>5</td>\n",
              "      <td>6</td>\n",
              "      <td>10000</td>\n",
              "    </tr>\n",
              "    <tr>\n",
              "      <td>1</td>\n",
              "      <td>2</td>\n",
              "      <td>5000</td>\n",
              "    </tr>\n",
              "  </tbody>\n",
              "</table>\n",
              "</div>"
            ],
            "text/plain": [
              "   user_id   mean\n",
              "3        4  24000\n",
              "2        3  21000\n",
              "4        5  17000\n",
              "0        1  15500\n",
              "5        6  10000\n",
              "1        2   5000"
            ]
          },
          "metadata": {
            "tags": []
          },
          "execution_count": 16
        }
      ]
    },
    {
      "cell_type": "markdown",
      "metadata": {
        "id": "MlOzxwm4CtXX"
      },
      "source": [
        "#### 6-2. coupon_id과 date가 모두 결측치가 아닐때만 쿠폰을 사용한 것입니다. 사용유무를 Y/N로 하여 새로운 열을 만들어 주세요."
      ]
    },
    {
      "cell_type": "code",
      "execution_count": 20,
      "metadata": {},
      "outputs": [
        {
          "output_type": "execute_result",
          "data": {
            "text/plain": [
              "10"
            ]
          },
          "metadata": {},
          "execution_count": 20
        }
      ],
      "source": [
        "len(df)"
      ]
    },
    {
      "cell_type": "code",
      "execution_count": 21,
      "metadata": {},
      "outputs": [],
      "source": [
        "bools = pd.isna(df[['coupon_id', 'date']])\n",
        "coupon_used = []\n",
        "for i in range(len(bools)):\n",
        "    if bools['coupon_id'][i] == bools['date'][i] == False:\n",
        "        coupon_used.append('Y')\n",
        "    else:coupon_used.append('N')\n",
        "df['coupon_used'] = coupon_used"
      ]
    },
    {
      "cell_type": "code",
      "metadata": {
        "id": "QQ6wRMaeCtXX",
        "outputId": "5b9fa090-47f2-4a17-e871-7f15eef37a82"
      },
      "source": [
        "df"
      ],
      "execution_count": 22,
      "outputs": [
        {
          "output_type": "execute_result",
          "data": {
            "text/plain": [
              "   user_id  coupon_id        date  price coupon_used\n",
              "0        1        NaN  2020-07-07  11000           N\n",
              "1        1        1.0         NaN  20000           N\n",
              "2        2        2.0  2020-07-08   5000           Y\n",
              "3        3        NaN  2020-07-09  27000           N\n",
              "4        3        3.0  2020-07-10  15000           Y\n",
              "5        3        4.0         NaN  21000           N\n",
              "6        4        5.0  2020-07-11  23000           Y\n",
              "7        4        NaN  2020-07-12  25000           N\n",
              "8        5        6.0  2020-07-13  17000           Y\n",
              "9        6        NaN  2020-07-14  10000           N"
            ],
            "text/html": "<div>\n<style scoped>\n    .dataframe tbody tr th:only-of-type {\n        vertical-align: middle;\n    }\n\n    .dataframe tbody tr th {\n        vertical-align: top;\n    }\n\n    .dataframe thead th {\n        text-align: right;\n    }\n</style>\n<table border=\"1\" class=\"dataframe\">\n  <thead>\n    <tr style=\"text-align: right;\">\n      <th></th>\n      <th>user_id</th>\n      <th>coupon_id</th>\n      <th>date</th>\n      <th>price</th>\n      <th>coupon_used</th>\n    </tr>\n  </thead>\n  <tbody>\n    <tr>\n      <th>0</th>\n      <td>1</td>\n      <td>NaN</td>\n      <td>2020-07-07</td>\n      <td>11000</td>\n      <td>N</td>\n    </tr>\n    <tr>\n      <th>1</th>\n      <td>1</td>\n      <td>1.0</td>\n      <td>NaN</td>\n      <td>20000</td>\n      <td>N</td>\n    </tr>\n    <tr>\n      <th>2</th>\n      <td>2</td>\n      <td>2.0</td>\n      <td>2020-07-08</td>\n      <td>5000</td>\n      <td>Y</td>\n    </tr>\n    <tr>\n      <th>3</th>\n      <td>3</td>\n      <td>NaN</td>\n      <td>2020-07-09</td>\n      <td>27000</td>\n      <td>N</td>\n    </tr>\n    <tr>\n      <th>4</th>\n      <td>3</td>\n      <td>3.0</td>\n      <td>2020-07-10</td>\n      <td>15000</td>\n      <td>Y</td>\n    </tr>\n    <tr>\n      <th>5</th>\n      <td>3</td>\n      <td>4.0</td>\n      <td>NaN</td>\n      <td>21000</td>\n      <td>N</td>\n    </tr>\n    <tr>\n      <th>6</th>\n      <td>4</td>\n      <td>5.0</td>\n      <td>2020-07-11</td>\n      <td>23000</td>\n      <td>Y</td>\n    </tr>\n    <tr>\n      <th>7</th>\n      <td>4</td>\n      <td>NaN</td>\n      <td>2020-07-12</td>\n      <td>25000</td>\n      <td>N</td>\n    </tr>\n    <tr>\n      <th>8</th>\n      <td>5</td>\n      <td>6.0</td>\n      <td>2020-07-13</td>\n      <td>17000</td>\n      <td>Y</td>\n    </tr>\n    <tr>\n      <th>9</th>\n      <td>6</td>\n      <td>NaN</td>\n      <td>2020-07-14</td>\n      <td>10000</td>\n      <td>N</td>\n    </tr>\n  </tbody>\n</table>\n</div>"
          },
          "metadata": {},
          "execution_count": 22
        }
      ]
    },
    {
      "cell_type": "markdown",
      "metadata": {
        "id": "dgSmDEFlCtXZ"
      },
      "source": [
        "### 문제 7\n",
        "#### 원하시는 머신러닝 모델 1개, 딥러닝 모델 1개를 활용하여 학습을 진행해주시고 Score를 확인해 주세요.\n",
        "Score의 정도는 전혀 상관없습니다!"
      ]
    },
    {
      "cell_type": "code",
      "metadata": {
        "id": "AuxRhsfZCtXZ"
      },
      "source": [
        "from sklearn import datasets\n",
        "\n",
        "iris = datasets.load_iris()"
      ],
      "execution_count": 23,
      "outputs": []
    },
    {
      "cell_type": "code",
      "metadata": {
        "id": "yZbnZefXCtXa"
      },
      "source": [
        "X = iris.data\n",
        "y = iris.target"
      ],
      "execution_count": 24,
      "outputs": []
    },
    {
      "cell_type": "code",
      "metadata": {
        "id": "8pCUAvzgCtXa"
      },
      "source": [
        "from sklearn.model_selection import train_test_split\n",
        "X_train, X_test, y_train, y_test = train_test_split(iris.data, iris.target)"
      ],
      "execution_count": 25,
      "outputs": []
    },
    {
      "cell_type": "code",
      "execution_count": 26,
      "metadata": {},
      "outputs": [
        {
          "output_type": "execute_result",
          "data": {
            "text/plain": [
              "(112, 4)"
            ]
          },
          "metadata": {},
          "execution_count": 26
        }
      ],
      "source": [
        "X_train.shape"
      ]
    },
    {
      "cell_type": "code",
      "execution_count": 27,
      "metadata": {},
      "outputs": [
        {
          "output_type": "execute_result",
          "data": {
            "text/plain": [
              "(array([6.1, 2.8, 4. , 1.3]), 1)"
            ]
          },
          "metadata": {},
          "execution_count": 27
        }
      ],
      "source": [
        "X_train[0], y_train[0]"
      ]
    },
    {
      "cell_type": "code",
      "execution_count": 28,
      "metadata": {},
      "outputs": [
        {
          "output_type": "execute_result",
          "data": {
            "text/plain": [
              "(0, 2)"
            ]
          },
          "metadata": {},
          "execution_count": 28
        }
      ],
      "source": [
        "(min(y_train), max(y_train))\n",
        "#class 3개"
      ]
    },
    {
      "source": [
        "### 머신러닝 모델(SVM 사용)"
      ],
      "cell_type": "markdown",
      "metadata": {}
    },
    {
      "cell_type": "code",
      "execution_count": 29,
      "metadata": {},
      "outputs": [
        {
          "output_type": "execute_result",
          "data": {
            "text/plain": [
              "Pipeline(steps=[('scaler', StandardScaler()),\n",
              "                ('linear_svc', LinearSVC(C=2, loss='hinge', max_iter=10000))])"
            ]
          },
          "metadata": {},
          "execution_count": 29
        }
      ],
      "source": [
        "import sklearn\n",
        "from sklearn.pipeline import Pipeline\n",
        "from sklearn.svm import LinearSVC\n",
        "\n",
        "svm_iris = Pipeline([\n",
        "    (\"scaler\", sklearn.preprocessing.StandardScaler()),\n",
        "    (\"linear_svc\", LinearSVC(penalty = 'l2', C = 2, loss = \"hinge\", max_iter = 10000))\n",
        "])\n",
        "\n",
        "svm_iris.fit(X_train, y_train)"
      ]
    },
    {
      "cell_type": "code",
      "execution_count": 30,
      "metadata": {},
      "outputs": [
        {
          "output_type": "execute_result",
          "data": {
            "text/plain": [
              "0.9473684210526315"
            ]
          },
          "metadata": {},
          "execution_count": 30
        }
      ],
      "source": [
        "svm_iris.score(X_test, y_test)"
      ]
    },
    {
      "source": [
        "**Score = 0.92105**"
      ],
      "cell_type": "markdown",
      "metadata": {}
    },
    {
      "source": [
        "### 딥러닝 모델(Tensorflow를 이용한 Dense Layer을 사용해서 만듬)"
      ],
      "cell_type": "markdown",
      "metadata": {}
    },
    {
      "cell_type": "code",
      "execution_count": 31,
      "metadata": {},
      "outputs": [
        {
          "output_type": "stream",
          "name": "stdout",
          "text": [
            "Model: \"sequential\"\n_________________________________________________________________\nLayer (type)                 Output Shape              Param #   \n=================================================================\ndense (Dense)                (None, 64)                320       \n_________________________________________________________________\nbatch_normalization (BatchNo (None, 64)                256       \n_________________________________________________________________\ndense_1 (Dense)              (None, 32)                2080      \n_________________________________________________________________\ndropout (Dropout)            (None, 32)                0         \n_________________________________________________________________\nbatch_normalization_1 (Batch (None, 32)                128       \n_________________________________________________________________\ndense_2 (Dense)              (None, 3)                 99        \n=================================================================\nTotal params: 2,883\nTrainable params: 2,691\nNon-trainable params: 192\n_________________________________________________________________\n"
          ]
        }
      ],
      "source": [
        "import tensorflow as tf\n",
        "model2 = tf.keras.Sequential()\n",
        "#과대적합을 막기 위해서 배치 정규화 적용\n",
        "#원래는 마지막 출력층의 활성화 함수 없이 출력 차원을 1로 했었는데 그렇게 한 결과 정확도가 67%에서 발전이 없어서 바꾸어줌\n",
        "model2.add(tf.keras.layers.Dense(input_shape = [4,], units = 64, activation = 'relu'))\n",
        "model2.add(tf.keras.layers.BatchNormalization())\n",
        "model2.add(tf.keras.layers.Dense(32, activation = 'relu'))\n",
        "model2.add(tf.keras.layers.Dropout(0.2))\n",
        "model2.add(tf.keras.layers.BatchNormalization())\n",
        "#label의 class의 종류가 3개이기 때문에 마지막 출력층의 차원을 3으로 설정하고 활성화 함수는 각 class별 확률값을 출력하는 softmax 함수로 사용\n",
        "model2.add(tf.keras.layers.Dense(units = 3, activation = 'softmax'))\n",
        "model2.summary()"
      ]
    },
    {
      "cell_type": "code",
      "execution_count": 32,
      "metadata": {},
      "outputs": [],
      "source": [
        "#만약에 one-hot encoding을 y데이터에 적용했다면 그냥 CategoricalCrossentropy를 사용해야 했을 것임\n",
        "#sgd는 기본 확률적 경사 하강법을 사용하여 모델을 훈련하기 때문에 역전파 알고리즘을 수행하게 된다.\n",
        "model2.compile(loss = tf.keras.losses.SparseCategoricalCrossentropy(), metrics = ['accuracy'], optimizer = 'sgd')\n",
        "history = model2.fit(X_train, y_train, validation_split = 0.25, epochs = 1000, verbose = 0)"
      ]
    },
    {
      "cell_type": "code",
      "execution_count": 33,
      "metadata": {},
      "outputs": [
        {
          "output_type": "execute_result",
          "data": {
            "text/plain": [
              "<matplotlib.legend.Legend at 0x288aa74c0c8>"
            ]
          },
          "metadata": {},
          "execution_count": 33
        },
        {
          "output_type": "display_data",
          "data": {
            "text/plain": "<Figure size 432x288 with 1 Axes>",
            "image/svg+xml": "<?xml version=\"1.0\" encoding=\"utf-8\" standalone=\"no\"?>\r\n<!DOCTYPE svg PUBLIC \"-//W3C//DTD SVG 1.1//EN\"\r\n  \"http://www.w3.org/Graphics/SVG/1.1/DTD/svg11.dtd\">\r\n<!-- Created with matplotlib (https://matplotlib.org/) -->\r\n<svg height=\"248.518125pt\" version=\"1.1\" viewBox=\"0 0 372.103125 248.518125\" width=\"372.103125pt\" xmlns=\"http://www.w3.org/2000/svg\" xmlns:xlink=\"http://www.w3.org/1999/xlink\">\r\n <metadata>\r\n  <rdf:RDF xmlns:cc=\"http://creativecommons.org/ns#\" xmlns:dc=\"http://purl.org/dc/elements/1.1/\" xmlns:rdf=\"http://www.w3.org/1999/02/22-rdf-syntax-ns#\">\r\n   <cc:Work>\r\n    <dc:type rdf:resource=\"http://purl.org/dc/dcmitype/StillImage\"/>\r\n    <dc:date>2021-01-16T07:54:31.776820</dc:date>\r\n    <dc:format>image/svg+xml</dc:format>\r\n    <dc:creator>\r\n     <cc:Agent>\r\n      <dc:title>Matplotlib v3.3.2, https://matplotlib.org/</dc:title>\r\n     </cc:Agent>\r\n    </dc:creator>\r\n   </cc:Work>\r\n  </rdf:RDF>\r\n </metadata>\r\n <defs>\r\n  <style type=\"text/css\">*{stroke-linecap:butt;stroke-linejoin:round;}</style>\r\n </defs>\r\n <g id=\"figure_1\">\r\n  <g id=\"patch_1\">\r\n   <path d=\"M 0 248.518125 \r\nL 372.103125 248.518125 \r\nL 372.103125 0 \r\nL 0 0 \r\nz\r\n\" style=\"fill:none;\"/>\r\n  </g>\r\n  <g id=\"axes_1\">\r\n   <g id=\"patch_2\">\r\n    <path d=\"M 30.103125 224.64 \r\nL 364.903125 224.64 \r\nL 364.903125 7.2 \r\nL 30.103125 7.2 \r\nz\r\n\" style=\"fill:#ffffff;\"/>\r\n   </g>\r\n   <g id=\"matplotlib.axis_1\">\r\n    <g id=\"xtick_1\">\r\n     <g id=\"line2d_1\">\r\n      <defs>\r\n       <path d=\"M 0 0 \r\nL 0 3.5 \r\n\" id=\"m7f5173e1ff\" style=\"stroke:#000000;stroke-width:0.8;\"/>\r\n      </defs>\r\n      <g>\r\n       <use style=\"stroke:#000000;stroke-width:0.8;\" x=\"45.321307\" xlink:href=\"#m7f5173e1ff\" y=\"224.64\"/>\r\n      </g>\r\n     </g>\r\n     <g id=\"text_1\">\r\n      <!-- 0 -->\r\n      <g transform=\"translate(42.140057 239.238437)scale(0.1 -0.1)\">\r\n       <defs>\r\n        <path d=\"M 31.78125 66.40625 \r\nQ 24.171875 66.40625 20.328125 58.90625 \r\nQ 16.5 51.421875 16.5 36.375 \r\nQ 16.5 21.390625 20.328125 13.890625 \r\nQ 24.171875 6.390625 31.78125 6.390625 \r\nQ 39.453125 6.390625 43.28125 13.890625 \r\nQ 47.125 21.390625 47.125 36.375 \r\nQ 47.125 51.421875 43.28125 58.90625 \r\nQ 39.453125 66.40625 31.78125 66.40625 \r\nz\r\nM 31.78125 74.21875 \r\nQ 44.046875 74.21875 50.515625 64.515625 \r\nQ 56.984375 54.828125 56.984375 36.375 \r\nQ 56.984375 17.96875 50.515625 8.265625 \r\nQ 44.046875 -1.421875 31.78125 -1.421875 \r\nQ 19.53125 -1.421875 13.0625 8.265625 \r\nQ 6.59375 17.96875 6.59375 36.375 \r\nQ 6.59375 54.828125 13.0625 64.515625 \r\nQ 19.53125 74.21875 31.78125 74.21875 \r\nz\r\n\" id=\"DejaVuSans-48\"/>\r\n       </defs>\r\n       <use xlink:href=\"#DejaVuSans-48\"/>\r\n      </g>\r\n     </g>\r\n    </g>\r\n    <g id=\"xtick_2\">\r\n     <g id=\"line2d_2\">\r\n      <g>\r\n       <use style=\"stroke:#000000;stroke-width:0.8;\" x=\"106.254968\" xlink:href=\"#m7f5173e1ff\" y=\"224.64\"/>\r\n      </g>\r\n     </g>\r\n     <g id=\"text_2\">\r\n      <!-- 200 -->\r\n      <g transform=\"translate(96.711218 239.238437)scale(0.1 -0.1)\">\r\n       <defs>\r\n        <path d=\"M 19.1875 8.296875 \r\nL 53.609375 8.296875 \r\nL 53.609375 0 \r\nL 7.328125 0 \r\nL 7.328125 8.296875 \r\nQ 12.9375 14.109375 22.625 23.890625 \r\nQ 32.328125 33.6875 34.8125 36.53125 \r\nQ 39.546875 41.84375 41.421875 45.53125 \r\nQ 43.3125 49.21875 43.3125 52.78125 \r\nQ 43.3125 58.59375 39.234375 62.25 \r\nQ 35.15625 65.921875 28.609375 65.921875 \r\nQ 23.96875 65.921875 18.8125 64.3125 \r\nQ 13.671875 62.703125 7.8125 59.421875 \r\nL 7.8125 69.390625 \r\nQ 13.765625 71.78125 18.9375 73 \r\nQ 24.125 74.21875 28.421875 74.21875 \r\nQ 39.75 74.21875 46.484375 68.546875 \r\nQ 53.21875 62.890625 53.21875 53.421875 \r\nQ 53.21875 48.921875 51.53125 44.890625 \r\nQ 49.859375 40.875 45.40625 35.40625 \r\nQ 44.1875 33.984375 37.640625 27.21875 \r\nQ 31.109375 20.453125 19.1875 8.296875 \r\nz\r\n\" id=\"DejaVuSans-50\"/>\r\n       </defs>\r\n       <use xlink:href=\"#DejaVuSans-50\"/>\r\n       <use x=\"63.623047\" xlink:href=\"#DejaVuSans-48\"/>\r\n       <use x=\"127.246094\" xlink:href=\"#DejaVuSans-48\"/>\r\n      </g>\r\n     </g>\r\n    </g>\r\n    <g id=\"xtick_3\">\r\n     <g id=\"line2d_3\">\r\n      <g>\r\n       <use style=\"stroke:#000000;stroke-width:0.8;\" x=\"167.188629\" xlink:href=\"#m7f5173e1ff\" y=\"224.64\"/>\r\n      </g>\r\n     </g>\r\n     <g id=\"text_3\">\r\n      <!-- 400 -->\r\n      <g transform=\"translate(157.644879 239.238437)scale(0.1 -0.1)\">\r\n       <defs>\r\n        <path d=\"M 37.796875 64.3125 \r\nL 12.890625 25.390625 \r\nL 37.796875 25.390625 \r\nz\r\nM 35.203125 72.90625 \r\nL 47.609375 72.90625 \r\nL 47.609375 25.390625 \r\nL 58.015625 25.390625 \r\nL 58.015625 17.1875 \r\nL 47.609375 17.1875 \r\nL 47.609375 0 \r\nL 37.796875 0 \r\nL 37.796875 17.1875 \r\nL 4.890625 17.1875 \r\nL 4.890625 26.703125 \r\nz\r\n\" id=\"DejaVuSans-52\"/>\r\n       </defs>\r\n       <use xlink:href=\"#DejaVuSans-52\"/>\r\n       <use x=\"63.623047\" xlink:href=\"#DejaVuSans-48\"/>\r\n       <use x=\"127.246094\" xlink:href=\"#DejaVuSans-48\"/>\r\n      </g>\r\n     </g>\r\n    </g>\r\n    <g id=\"xtick_4\">\r\n     <g id=\"line2d_4\">\r\n      <g>\r\n       <use style=\"stroke:#000000;stroke-width:0.8;\" x=\"228.12229\" xlink:href=\"#m7f5173e1ff\" y=\"224.64\"/>\r\n      </g>\r\n     </g>\r\n     <g id=\"text_4\">\r\n      <!-- 600 -->\r\n      <g transform=\"translate(218.57854 239.238437)scale(0.1 -0.1)\">\r\n       <defs>\r\n        <path d=\"M 33.015625 40.375 \r\nQ 26.375 40.375 22.484375 35.828125 \r\nQ 18.609375 31.296875 18.609375 23.390625 \r\nQ 18.609375 15.53125 22.484375 10.953125 \r\nQ 26.375 6.390625 33.015625 6.390625 \r\nQ 39.65625 6.390625 43.53125 10.953125 \r\nQ 47.40625 15.53125 47.40625 23.390625 \r\nQ 47.40625 31.296875 43.53125 35.828125 \r\nQ 39.65625 40.375 33.015625 40.375 \r\nz\r\nM 52.59375 71.296875 \r\nL 52.59375 62.3125 \r\nQ 48.875 64.0625 45.09375 64.984375 \r\nQ 41.3125 65.921875 37.59375 65.921875 \r\nQ 27.828125 65.921875 22.671875 59.328125 \r\nQ 17.53125 52.734375 16.796875 39.40625 \r\nQ 19.671875 43.65625 24.015625 45.921875 \r\nQ 28.375 48.1875 33.59375 48.1875 \r\nQ 44.578125 48.1875 50.953125 41.515625 \r\nQ 57.328125 34.859375 57.328125 23.390625 \r\nQ 57.328125 12.15625 50.6875 5.359375 \r\nQ 44.046875 -1.421875 33.015625 -1.421875 \r\nQ 20.359375 -1.421875 13.671875 8.265625 \r\nQ 6.984375 17.96875 6.984375 36.375 \r\nQ 6.984375 53.65625 15.1875 63.9375 \r\nQ 23.390625 74.21875 37.203125 74.21875 \r\nQ 40.921875 74.21875 44.703125 73.484375 \r\nQ 48.484375 72.75 52.59375 71.296875 \r\nz\r\n\" id=\"DejaVuSans-54\"/>\r\n       </defs>\r\n       <use xlink:href=\"#DejaVuSans-54\"/>\r\n       <use x=\"63.623047\" xlink:href=\"#DejaVuSans-48\"/>\r\n       <use x=\"127.246094\" xlink:href=\"#DejaVuSans-48\"/>\r\n      </g>\r\n     </g>\r\n    </g>\r\n    <g id=\"xtick_5\">\r\n     <g id=\"line2d_5\">\r\n      <g>\r\n       <use style=\"stroke:#000000;stroke-width:0.8;\" x=\"289.055951\" xlink:href=\"#m7f5173e1ff\" y=\"224.64\"/>\r\n      </g>\r\n     </g>\r\n     <g id=\"text_5\">\r\n      <!-- 800 -->\r\n      <g transform=\"translate(279.512201 239.238437)scale(0.1 -0.1)\">\r\n       <defs>\r\n        <path d=\"M 31.78125 34.625 \r\nQ 24.75 34.625 20.71875 30.859375 \r\nQ 16.703125 27.09375 16.703125 20.515625 \r\nQ 16.703125 13.921875 20.71875 10.15625 \r\nQ 24.75 6.390625 31.78125 6.390625 \r\nQ 38.8125 6.390625 42.859375 10.171875 \r\nQ 46.921875 13.96875 46.921875 20.515625 \r\nQ 46.921875 27.09375 42.890625 30.859375 \r\nQ 38.875 34.625 31.78125 34.625 \r\nz\r\nM 21.921875 38.8125 \r\nQ 15.578125 40.375 12.03125 44.71875 \r\nQ 8.5 49.078125 8.5 55.328125 \r\nQ 8.5 64.0625 14.71875 69.140625 \r\nQ 20.953125 74.21875 31.78125 74.21875 \r\nQ 42.671875 74.21875 48.875 69.140625 \r\nQ 55.078125 64.0625 55.078125 55.328125 \r\nQ 55.078125 49.078125 51.53125 44.71875 \r\nQ 48 40.375 41.703125 38.8125 \r\nQ 48.828125 37.15625 52.796875 32.3125 \r\nQ 56.78125 27.484375 56.78125 20.515625 \r\nQ 56.78125 9.90625 50.3125 4.234375 \r\nQ 43.84375 -1.421875 31.78125 -1.421875 \r\nQ 19.734375 -1.421875 13.25 4.234375 \r\nQ 6.78125 9.90625 6.78125 20.515625 \r\nQ 6.78125 27.484375 10.78125 32.3125 \r\nQ 14.796875 37.15625 21.921875 38.8125 \r\nz\r\nM 18.3125 54.390625 \r\nQ 18.3125 48.734375 21.84375 45.5625 \r\nQ 25.390625 42.390625 31.78125 42.390625 \r\nQ 38.140625 42.390625 41.71875 45.5625 \r\nQ 45.3125 48.734375 45.3125 54.390625 \r\nQ 45.3125 60.0625 41.71875 63.234375 \r\nQ 38.140625 66.40625 31.78125 66.40625 \r\nQ 25.390625 66.40625 21.84375 63.234375 \r\nQ 18.3125 60.0625 18.3125 54.390625 \r\nz\r\n\" id=\"DejaVuSans-56\"/>\r\n       </defs>\r\n       <use xlink:href=\"#DejaVuSans-56\"/>\r\n       <use x=\"63.623047\" xlink:href=\"#DejaVuSans-48\"/>\r\n       <use x=\"127.246094\" xlink:href=\"#DejaVuSans-48\"/>\r\n      </g>\r\n     </g>\r\n    </g>\r\n    <g id=\"xtick_6\">\r\n     <g id=\"line2d_6\">\r\n      <g>\r\n       <use style=\"stroke:#000000;stroke-width:0.8;\" x=\"349.989611\" xlink:href=\"#m7f5173e1ff\" y=\"224.64\"/>\r\n      </g>\r\n     </g>\r\n     <g id=\"text_6\">\r\n      <!-- 1000 -->\r\n      <g transform=\"translate(337.264611 239.238437)scale(0.1 -0.1)\">\r\n       <defs>\r\n        <path d=\"M 12.40625 8.296875 \r\nL 28.515625 8.296875 \r\nL 28.515625 63.921875 \r\nL 10.984375 60.40625 \r\nL 10.984375 69.390625 \r\nL 28.421875 72.90625 \r\nL 38.28125 72.90625 \r\nL 38.28125 8.296875 \r\nL 54.390625 8.296875 \r\nL 54.390625 0 \r\nL 12.40625 0 \r\nz\r\n\" id=\"DejaVuSans-49\"/>\r\n       </defs>\r\n       <use xlink:href=\"#DejaVuSans-49\"/>\r\n       <use x=\"63.623047\" xlink:href=\"#DejaVuSans-48\"/>\r\n       <use x=\"127.246094\" xlink:href=\"#DejaVuSans-48\"/>\r\n       <use x=\"190.869141\" xlink:href=\"#DejaVuSans-48\"/>\r\n      </g>\r\n     </g>\r\n    </g>\r\n   </g>\r\n   <g id=\"matplotlib.axis_2\">\r\n    <g id=\"ytick_1\">\r\n     <g id=\"line2d_7\">\r\n      <defs>\r\n       <path d=\"M 0 0 \r\nL -3.5 0 \r\n\" id=\"ma49179f2a7\" style=\"stroke:#000000;stroke-width:0.8;\"/>\r\n      </defs>\r\n      <g>\r\n       <use style=\"stroke:#000000;stroke-width:0.8;\" x=\"30.103125\" xlink:href=\"#ma49179f2a7\" y=\"215.570788\"/>\r\n      </g>\r\n     </g>\r\n     <g id=\"text_7\">\r\n      <!-- 0.0 -->\r\n      <g transform=\"translate(7.2 219.370007)scale(0.1 -0.1)\">\r\n       <defs>\r\n        <path d=\"M 10.6875 12.40625 \r\nL 21 12.40625 \r\nL 21 0 \r\nL 10.6875 0 \r\nz\r\n\" id=\"DejaVuSans-46\"/>\r\n       </defs>\r\n       <use xlink:href=\"#DejaVuSans-48\"/>\r\n       <use x=\"63.623047\" xlink:href=\"#DejaVuSans-46\"/>\r\n       <use x=\"95.410156\" xlink:href=\"#DejaVuSans-48\"/>\r\n      </g>\r\n     </g>\r\n    </g>\r\n    <g id=\"ytick_2\">\r\n     <g id=\"line2d_8\">\r\n      <g>\r\n       <use style=\"stroke:#000000;stroke-width:0.8;\" x=\"30.103125\" xlink:href=\"#ma49179f2a7\" y=\"187.960209\"/>\r\n      </g>\r\n     </g>\r\n     <g id=\"text_8\">\r\n      <!-- 0.2 -->\r\n      <g transform=\"translate(7.2 191.759428)scale(0.1 -0.1)\">\r\n       <use xlink:href=\"#DejaVuSans-48\"/>\r\n       <use x=\"63.623047\" xlink:href=\"#DejaVuSans-46\"/>\r\n       <use x=\"95.410156\" xlink:href=\"#DejaVuSans-50\"/>\r\n      </g>\r\n     </g>\r\n    </g>\r\n    <g id=\"ytick_3\">\r\n     <g id=\"line2d_9\">\r\n      <g>\r\n       <use style=\"stroke:#000000;stroke-width:0.8;\" x=\"30.103125\" xlink:href=\"#ma49179f2a7\" y=\"160.34963\"/>\r\n      </g>\r\n     </g>\r\n     <g id=\"text_9\">\r\n      <!-- 0.4 -->\r\n      <g transform=\"translate(7.2 164.148849)scale(0.1 -0.1)\">\r\n       <use xlink:href=\"#DejaVuSans-48\"/>\r\n       <use x=\"63.623047\" xlink:href=\"#DejaVuSans-46\"/>\r\n       <use x=\"95.410156\" xlink:href=\"#DejaVuSans-52\"/>\r\n      </g>\r\n     </g>\r\n    </g>\r\n    <g id=\"ytick_4\">\r\n     <g id=\"line2d_10\">\r\n      <g>\r\n       <use style=\"stroke:#000000;stroke-width:0.8;\" x=\"30.103125\" xlink:href=\"#ma49179f2a7\" y=\"132.739051\"/>\r\n      </g>\r\n     </g>\r\n     <g id=\"text_10\">\r\n      <!-- 0.6 -->\r\n      <g transform=\"translate(7.2 136.53827)scale(0.1 -0.1)\">\r\n       <use xlink:href=\"#DejaVuSans-48\"/>\r\n       <use x=\"63.623047\" xlink:href=\"#DejaVuSans-46\"/>\r\n       <use x=\"95.410156\" xlink:href=\"#DejaVuSans-54\"/>\r\n      </g>\r\n     </g>\r\n    </g>\r\n    <g id=\"ytick_5\">\r\n     <g id=\"line2d_11\">\r\n      <g>\r\n       <use style=\"stroke:#000000;stroke-width:0.8;\" x=\"30.103125\" xlink:href=\"#ma49179f2a7\" y=\"105.128472\"/>\r\n      </g>\r\n     </g>\r\n     <g id=\"text_11\">\r\n      <!-- 0.8 -->\r\n      <g transform=\"translate(7.2 108.92769)scale(0.1 -0.1)\">\r\n       <use xlink:href=\"#DejaVuSans-48\"/>\r\n       <use x=\"63.623047\" xlink:href=\"#DejaVuSans-46\"/>\r\n       <use x=\"95.410156\" xlink:href=\"#DejaVuSans-56\"/>\r\n      </g>\r\n     </g>\r\n    </g>\r\n    <g id=\"ytick_6\">\r\n     <g id=\"line2d_12\">\r\n      <g>\r\n       <use style=\"stroke:#000000;stroke-width:0.8;\" x=\"30.103125\" xlink:href=\"#ma49179f2a7\" y=\"77.517892\"/>\r\n      </g>\r\n     </g>\r\n     <g id=\"text_12\">\r\n      <!-- 1.0 -->\r\n      <g transform=\"translate(7.2 81.317111)scale(0.1 -0.1)\">\r\n       <use xlink:href=\"#DejaVuSans-49\"/>\r\n       <use x=\"63.623047\" xlink:href=\"#DejaVuSans-46\"/>\r\n       <use x=\"95.410156\" xlink:href=\"#DejaVuSans-48\"/>\r\n      </g>\r\n     </g>\r\n    </g>\r\n    <g id=\"ytick_7\">\r\n     <g id=\"line2d_13\">\r\n      <g>\r\n       <use style=\"stroke:#000000;stroke-width:0.8;\" x=\"30.103125\" xlink:href=\"#ma49179f2a7\" y=\"49.907313\"/>\r\n      </g>\r\n     </g>\r\n     <g id=\"text_13\">\r\n      <!-- 1.2 -->\r\n      <g transform=\"translate(7.2 53.706532)scale(0.1 -0.1)\">\r\n       <use xlink:href=\"#DejaVuSans-49\"/>\r\n       <use x=\"63.623047\" xlink:href=\"#DejaVuSans-46\"/>\r\n       <use x=\"95.410156\" xlink:href=\"#DejaVuSans-50\"/>\r\n      </g>\r\n     </g>\r\n    </g>\r\n    <g id=\"ytick_8\">\r\n     <g id=\"line2d_14\">\r\n      <g>\r\n       <use style=\"stroke:#000000;stroke-width:0.8;\" x=\"30.103125\" xlink:href=\"#ma49179f2a7\" y=\"22.296734\"/>\r\n      </g>\r\n     </g>\r\n     <g id=\"text_14\">\r\n      <!-- 1.4 -->\r\n      <g transform=\"translate(7.2 26.095953)scale(0.1 -0.1)\">\r\n       <use xlink:href=\"#DejaVuSans-49\"/>\r\n       <use x=\"63.623047\" xlink:href=\"#DejaVuSans-46\"/>\r\n       <use x=\"95.410156\" xlink:href=\"#DejaVuSans-52\"/>\r\n      </g>\r\n     </g>\r\n    </g>\r\n   </g>\r\n   <g id=\"line2d_15\">\r\n    <path clip-path=\"url(#p1a08e4e674)\" d=\"M 45.321307 169.553155 \r\nL 45.625975 112.031116 \r\nL 45.930643 116.961575 \r\nL 46.235312 105.457169 \r\nL 46.53998 102.170192 \r\nL 46.844648 105.457169 \r\nL 47.149317 92.309275 \r\nL 47.453985 95.596245 \r\nL 47.758653 82.448351 \r\nL 48.063322 90.665787 \r\nL 48.36799 92.309275 \r\nL 48.672658 85.735328 \r\nL 49.281995 89.022298 \r\nL 49.586663 82.448351 \r\nL 50.196 85.735328 \r\nL 50.500668 82.448351 \r\nL 50.805336 82.448351 \r\nL 51.110005 93.952764 \r\nL 51.414673 80.80487 \r\nL 51.719341 82.448351 \r\nL 52.02401 82.448351 \r\nL 52.328678 79.161381 \r\nL 52.633346 102.170192 \r\nL 52.938014 79.161381 \r\nL 53.242683 80.80487 \r\nL 53.547351 92.309275 \r\nL 53.852019 90.665787 \r\nL 54.156688 84.091839 \r\nL 54.461356 80.80487 \r\nL 54.766024 79.161381 \r\nL 55.070693 84.091839 \r\nL 55.375361 79.161381 \r\nL 55.680029 79.161381 \r\nL 55.984697 82.448351 \r\nL 56.289366 79.161381 \r\nL 56.594034 77.517892 \r\nL 56.898702 77.517892 \r\nL 57.203371 84.091839 \r\nL 57.508039 79.161381 \r\nL 58.117376 87.378817 \r\nL 58.422044 80.80487 \r\nL 58.726712 79.161381 \r\nL 59.031381 80.80487 \r\nL 59.336049 80.80487 \r\nL 59.640717 84.091839 \r\nL 59.945385 84.091839 \r\nL 60.250054 82.448351 \r\nL 60.554722 77.517892 \r\nL 60.85939 80.80487 \r\nL 61.164059 80.80487 \r\nL 61.468727 79.161381 \r\nL 61.773395 79.161381 \r\nL 62.078064 77.517892 \r\nL 62.382732 77.517892 \r\nL 62.992068 80.80487 \r\nL 63.906073 80.80487 \r\nL 64.210742 84.091839 \r\nL 64.51541 77.517892 \r\nL 64.820078 85.735328 \r\nL 65.429415 79.161381 \r\nL 65.734083 79.161381 \r\nL 66.038752 77.517892 \r\nL 66.34342 79.161381 \r\nL 66.648088 77.517892 \r\nL 67.562093 77.517892 \r\nL 67.866761 79.161381 \r\nL 68.17143 79.161381 \r\nL 68.476098 85.735328 \r\nL 68.780766 77.517892 \r\nL 69.694771 82.448351 \r\nL 69.999439 79.161381 \r\nL 70.913444 79.161381 \r\nL 71.218113 82.448351 \r\nL 71.522781 82.448351 \r\nL 71.827449 77.517892 \r\nL 72.132118 79.161381 \r\nL 72.436786 79.161381 \r\nL 72.741454 80.80487 \r\nL 73.046123 79.161381 \r\nL 73.350791 82.448351 \r\nL 73.655459 82.448351 \r\nL 73.960127 77.517892 \r\nL 74.264796 80.80487 \r\nL 74.569464 77.517892 \r\nL 74.874132 79.161381 \r\nL 75.483469 79.161381 \r\nL 75.788137 77.517892 \r\nL 76.092806 77.517892 \r\nL 76.397474 85.735328 \r\nL 76.702142 79.161381 \r\nL 77.006811 77.517892 \r\nL 77.311479 84.091839 \r\nL 77.616147 80.80487 \r\nL 78.225484 77.517892 \r\nL 79.444157 77.517892 \r\nL 79.748825 80.80487 \r\nL 80.053494 77.517892 \r\nL 80.358162 77.517892 \r\nL 80.66283 79.161381 \r\nL 80.967498 77.517892 \r\nL 81.576835 77.517892 \r\nL 81.881503 79.161381 \r\nL 82.186172 85.735328 \r\nL 82.49084 79.161381 \r\nL 82.795508 82.448351 \r\nL 83.100177 82.448351 \r\nL 83.404845 77.517892 \r\nL 83.709513 79.161381 \r\nL 84.014182 79.161381 \r\nL 84.31885 84.091839 \r\nL 84.623518 79.161381 \r\nL 85.232855 82.448351 \r\nL 85.537523 82.448351 \r\nL 85.842191 79.161381 \r\nL 86.14686 84.091839 \r\nL 86.756196 77.517892 \r\nL 87.670201 77.517892 \r\nL 87.974869 79.161381 \r\nL 88.279538 77.517892 \r\nL 88.584206 82.448351 \r\nL 88.888874 79.161381 \r\nL 89.193543 79.161381 \r\nL 89.498211 77.517892 \r\nL 90.107548 77.517892 \r\nL 90.412216 79.161381 \r\nL 90.716884 85.735328 \r\nL 91.021553 80.80487 \r\nL 91.326221 82.448351 \r\nL 91.630889 82.448351 \r\nL 91.935557 79.161381 \r\nL 92.240226 80.80487 \r\nL 92.544894 77.517892 \r\nL 92.849562 85.735328 \r\nL 93.154231 79.161381 \r\nL 93.763567 79.161381 \r\nL 94.068236 84.091839 \r\nL 94.372904 77.517892 \r\nL 94.677572 80.80487 \r\nL 94.98224 77.517892 \r\nL 95.286909 79.161381 \r\nL 95.896245 79.161381 \r\nL 96.200914 77.517892 \r\nL 96.505582 79.161381 \r\nL 96.81025 82.448351 \r\nL 97.114919 77.517892 \r\nL 97.419587 77.517892 \r\nL 97.724255 79.161381 \r\nL 98.028924 77.517892 \r\nL 98.333592 79.161381 \r\nL 98.63826 79.161381 \r\nL 98.942928 80.80487 \r\nL 99.247597 79.161381 \r\nL 99.552265 79.161381 \r\nL 99.856933 77.517892 \r\nL 100.770938 77.517892 \r\nL 101.075607 79.161381 \r\nL 101.380275 79.161381 \r\nL 101.684943 80.80487 \r\nL 101.989611 77.517892 \r\nL 102.29428 82.448351 \r\nL 102.598948 79.161381 \r\nL 102.903616 82.448351 \r\nL 103.512953 82.448351 \r\nL 103.817621 80.80487 \r\nL 104.12229 77.517892 \r\nL 104.426958 79.161381 \r\nL 104.731626 79.161381 \r\nL 105.036295 85.735328 \r\nL 105.340963 79.161381 \r\nL 105.645631 77.517892 \r\nL 105.950299 79.161381 \r\nL 106.254968 79.161381 \r\nL 106.559636 80.80487 \r\nL 106.864304 80.80487 \r\nL 107.168973 79.161381 \r\nL 107.473641 84.091839 \r\nL 107.778309 79.161381 \r\nL 108.082978 77.517892 \r\nL 108.387646 79.161381 \r\nL 108.692314 82.448351 \r\nL 108.996982 79.161381 \r\nL 109.301651 79.161381 \r\nL 109.606319 82.448351 \r\nL 109.910987 82.448351 \r\nL 110.215656 77.517892 \r\nL 110.520324 77.517892 \r\nL 110.824992 79.161381 \r\nL 111.129661 77.517892 \r\nL 111.434329 77.517892 \r\nL 111.738997 82.448351 \r\nL 112.043666 79.161381 \r\nL 112.348334 79.161381 \r\nL 112.653002 77.517892 \r\nL 112.95767 79.161381 \r\nL 113.567007 79.161381 \r\nL 113.871675 77.517892 \r\nL 114.176344 79.161381 \r\nL 114.481012 79.161381 \r\nL 114.78568 80.80487 \r\nL 115.090349 79.161381 \r\nL 115.395017 79.161381 \r\nL 115.699685 77.517892 \r\nL 116.004354 77.517892 \r\nL 116.309022 92.309275 \r\nL 116.61369 80.80487 \r\nL 116.918358 82.448351 \r\nL 117.223027 79.161381 \r\nL 117.527695 84.091839 \r\nL 117.832363 80.80487 \r\nL 118.137032 80.80487 \r\nL 118.4417 79.161381 \r\nL 118.746368 85.735328 \r\nL 119.051037 77.517892 \r\nL 119.660373 80.80487 \r\nL 119.965041 79.161381 \r\nL 120.26971 82.448351 \r\nL 120.574378 77.517892 \r\nL 120.879046 82.448351 \r\nL 121.183715 80.80487 \r\nL 121.488383 80.80487 \r\nL 121.793051 79.161381 \r\nL 122.09772 79.161381 \r\nL 122.402388 85.735328 \r\nL 122.707056 79.161381 \r\nL 123.011725 77.517892 \r\nL 123.621061 77.517892 \r\nL 123.925729 80.80487 \r\nL 124.230398 79.161381 \r\nL 124.535066 80.80487 \r\nL 124.839734 77.517892 \r\nL 125.144403 79.161381 \r\nL 125.449071 77.517892 \r\nL 125.753739 80.80487 \r\nL 126.058408 77.517892 \r\nL 126.363076 77.517892 \r\nL 126.667744 80.80487 \r\nL 127.277081 77.517892 \r\nL 127.886417 77.517892 \r\nL 128.191086 79.161381 \r\nL 128.495754 77.517892 \r\nL 128.800422 82.448351 \r\nL 129.105091 77.517892 \r\nL 129.409759 79.161381 \r\nL 129.714427 77.517892 \r\nL 130.323764 77.517892 \r\nL 130.628432 85.735328 \r\nL 130.9331 79.161381 \r\nL 131.237769 79.161381 \r\nL 131.542437 80.80487 \r\nL 131.847105 77.517892 \r\nL 132.151774 77.517892 \r\nL 132.456442 79.161381 \r\nL 132.76111 77.517892 \r\nL 133.065779 79.161381 \r\nL 133.370447 82.448351 \r\nL 133.675115 77.517892 \r\nL 133.979783 80.80487 \r\nL 134.284452 77.517892 \r\nL 135.198457 77.517892 \r\nL 135.503125 84.091839 \r\nL 135.807793 82.448351 \r\nL 136.112462 77.517892 \r\nL 136.41713 77.517892 \r\nL 136.721798 80.80487 \r\nL 137.026467 77.517892 \r\nL 138.854476 77.517892 \r\nL 139.159145 79.161381 \r\nL 139.463813 77.517892 \r\nL 139.768481 77.517892 \r\nL 140.07315 79.161381 \r\nL 140.377818 77.517892 \r\nL 140.682486 80.80487 \r\nL 140.987154 77.517892 \r\nL 141.291823 79.161381 \r\nL 141.596491 77.517892 \r\nL 141.901159 79.161381 \r\nL 142.205828 79.161381 \r\nL 142.510496 77.517892 \r\nL 142.815164 79.161381 \r\nL 143.119833 77.517892 \r\nL 143.729169 77.517892 \r\nL 144.033838 79.161381 \r\nL 144.643174 79.161381 \r\nL 144.947842 77.517892 \r\nL 145.252511 77.517892 \r\nL 145.557179 84.091839 \r\nL 145.861847 77.517892 \r\nL 146.166516 82.448351 \r\nL 146.471184 79.161381 \r\nL 146.775852 82.448351 \r\nL 147.080521 77.517892 \r\nL 147.994525 77.517892 \r\nL 148.299194 80.80487 \r\nL 148.90853 77.517892 \r\nL 149.213199 77.517892 \r\nL 149.517867 79.161381 \r\nL 149.822535 77.517892 \r\nL 150.127204 77.517892 \r\nL 150.73654 80.80487 \r\nL 151.041209 77.517892 \r\nL 151.345877 79.161381 \r\nL 151.650545 77.517892 \r\nL 152.259882 77.517892 \r\nL 152.56455 84.091839 \r\nL 152.869218 79.161381 \r\nL 153.173887 77.517892 \r\nL 153.783223 84.091839 \r\nL 154.087892 77.517892 \r\nL 154.697228 80.80487 \r\nL 155.001896 77.517892 \r\nL 155.306565 77.517892 \r\nL 155.611233 82.448351 \r\nL 155.915901 79.161381 \r\nL 156.22057 77.517892 \r\nL 157.743911 77.517892 \r\nL 158.04858 80.80487 \r\nL 158.353248 79.161381 \r\nL 158.657916 80.80487 \r\nL 159.267253 77.517892 \r\nL 159.571921 77.517892 \r\nL 159.876589 79.161381 \r\nL 160.181258 79.161381 \r\nL 160.485926 77.517892 \r\nL 160.790594 80.80487 \r\nL 161.095263 79.161381 \r\nL 161.399931 79.161381 \r\nL 161.704599 77.517892 \r\nL 162.313936 77.517892 \r\nL 162.618604 80.80487 \r\nL 162.923272 80.80487 \r\nL 163.227941 77.517892 \r\nL 163.837277 77.517892 \r\nL 164.141946 80.80487 \r\nL 164.446614 77.517892 \r\nL 164.751282 79.161381 \r\nL 165.665287 79.161381 \r\nL 165.969955 80.80487 \r\nL 166.579292 77.517892 \r\nL 167.188629 77.517892 \r\nL 167.493297 79.161381 \r\nL 167.797965 79.161381 \r\nL 168.102634 80.80487 \r\nL 168.407302 77.517892 \r\nL 168.71197 79.161381 \r\nL 169.016639 79.161381 \r\nL 169.321307 77.517892 \r\nL 169.930643 77.517892 \r\nL 170.235312 79.161381 \r\nL 170.53998 77.517892 \r\nL 172.063322 77.517892 \r\nL 172.36799 79.161381 \r\nL 172.672658 79.161381 \r\nL 172.977326 77.517892 \r\nL 173.281995 79.161381 \r\nL 173.586663 77.517892 \r\nL 173.891331 77.517892 \r\nL 174.196 80.80487 \r\nL 174.500668 79.161381 \r\nL 175.110005 82.448351 \r\nL 175.414673 77.517892 \r\nL 176.328678 77.517892 \r\nL 176.633346 79.161381 \r\nL 176.938014 77.517892 \r\nL 177.547351 77.517892 \r\nL 177.852019 79.161381 \r\nL 178.156688 77.517892 \r\nL 178.461356 79.161381 \r\nL 178.766024 77.517892 \r\nL 179.375361 77.517892 \r\nL 179.680029 79.161381 \r\nL 179.984697 77.517892 \r\nL 180.289366 77.517892 \r\nL 180.594034 79.161381 \r\nL 181.203371 79.161381 \r\nL 181.508039 77.517892 \r\nL 182.422044 77.517892 \r\nL 182.726712 79.161381 \r\nL 183.336049 79.161381 \r\nL 183.640717 77.517892 \r\nL 184.554722 77.517892 \r\nL 184.85939 82.448351 \r\nL 185.468727 79.161381 \r\nL 186.078064 79.161381 \r\nL 186.382732 77.517892 \r\nL 186.6874 79.161381 \r\nL 186.992068 79.161381 \r\nL 187.296737 77.517892 \r\nL 187.906073 77.517892 \r\nL 188.210742 80.80487 \r\nL 188.51541 77.517892 \r\nL 188.820078 80.80487 \r\nL 189.124747 77.517892 \r\nL 189.429415 79.161381 \r\nL 189.734083 77.517892 \r\nL 190.648088 77.517892 \r\nL 190.952756 80.80487 \r\nL 191.257425 79.161381 \r\nL 191.562093 79.161381 \r\nL 191.866761 84.091839 \r\nL 192.17143 77.517892 \r\nL 192.476098 79.161381 \r\nL 192.780766 77.517892 \r\nL 193.085435 77.517892 \r\nL 193.390103 79.161381 \r\nL 193.694771 77.517892 \r\nL 194.304108 77.517892 \r\nL 194.608776 79.161381 \r\nL 194.913444 79.161381 \r\nL 195.218113 77.517892 \r\nL 195.522781 82.448351 \r\nL 196.436786 77.517892 \r\nL 198.569464 77.517892 \r\nL 198.874132 82.448351 \r\nL 199.178801 82.448351 \r\nL 199.483469 77.517892 \r\nL 199.788137 79.161381 \r\nL 200.397474 79.161381 \r\nL 200.702142 77.517892 \r\nL 201.006811 85.735328 \r\nL 201.311479 79.161381 \r\nL 201.616147 77.517892 \r\nL 202.83482 77.517892 \r\nL 203.139489 85.735328 \r\nL 203.444157 79.161381 \r\nL 203.748825 77.517892 \r\nL 204.053494 79.161381 \r\nL 204.358162 77.517892 \r\nL 205.576835 77.517892 \r\nL 205.881503 79.161381 \r\nL 206.186172 77.517892 \r\nL 208.31885 77.517892 \r\nL 208.623518 79.161381 \r\nL 208.928186 77.517892 \r\nL 211.670201 77.517892 \r\nL 211.974869 79.161381 \r\nL 212.279538 77.517892 \r\nL 212.888874 77.517892 \r\nL 213.193543 79.161381 \r\nL 213.498211 79.161381 \r\nL 213.802879 77.517892 \r\nL 214.107548 79.161381 \r\nL 214.412216 79.161381 \r\nL 214.716884 77.517892 \r\nL 215.326221 77.517892 \r\nL 215.935557 80.80487 \r\nL 216.240226 77.517892 \r\nL 217.458899 77.517892 \r\nL 217.763567 79.161381 \r\nL 218.068236 77.517892 \r\nL 218.372904 77.517892 \r\nL 218.677572 79.161381 \r\nL 218.98224 77.517892 \r\nL 220.505582 77.517892 \r\nL 220.81025 82.448351 \r\nL 221.419587 79.161381 \r\nL 221.724255 84.091839 \r\nL 222.028924 77.517892 \r\nL 222.63826 77.517892 \r\nL 222.942928 79.161381 \r\nL 223.247597 77.517892 \r\nL 224.161602 77.517892 \r\nL 224.46627 79.161381 \r\nL 224.770938 79.161381 \r\nL 225.075607 77.517892 \r\nL 225.380275 77.517892 \r\nL 225.684943 80.80487 \r\nL 225.989611 82.448351 \r\nL 226.29428 79.161381 \r\nL 226.598948 77.517892 \r\nL 226.903616 79.161381 \r\nL 227.208285 77.517892 \r\nL 227.817621 77.517892 \r\nL 228.12229 79.161381 \r\nL 228.426958 77.517892 \r\nL 228.731626 77.517892 \r\nL 229.340963 80.80487 \r\nL 229.645631 80.80487 \r\nL 229.950299 77.517892 \r\nL 230.254968 79.161381 \r\nL 230.559636 77.517892 \r\nL 230.864304 79.161381 \r\nL 231.168973 77.517892 \r\nL 231.473641 77.517892 \r\nL 231.778309 79.161381 \r\nL 232.082978 79.161381 \r\nL 232.387646 77.517892 \r\nL 232.996982 77.517892 \r\nL 233.301651 79.161381 \r\nL 233.606319 77.517892 \r\nL 233.910987 79.161381 \r\nL 234.215656 77.517892 \r\nL 234.520324 77.517892 \r\nL 234.824992 79.161381 \r\nL 235.738997 79.161381 \r\nL 236.043666 80.80487 \r\nL 236.348334 80.80487 \r\nL 236.95767 77.517892 \r\nL 237.262339 77.517892 \r\nL 237.567007 79.161381 \r\nL 237.871675 77.517892 \r\nL 238.176344 79.161381 \r\nL 238.481012 77.517892 \r\nL 239.090349 77.517892 \r\nL 239.395017 84.091839 \r\nL 239.699685 77.517892 \r\nL 240.004354 79.161381 \r\nL 240.309022 77.517892 \r\nL 240.61369 80.80487 \r\nL 240.918358 77.517892 \r\nL 241.223027 82.448351 \r\nL 241.527695 77.517892 \r\nL 241.832363 79.161381 \r\nL 242.4417 79.161381 \r\nL 242.746368 77.517892 \r\nL 243.051037 77.517892 \r\nL 243.355705 82.448351 \r\nL 243.660373 82.448351 \r\nL 243.965041 80.80487 \r\nL 244.26971 77.517892 \r\nL 244.574378 77.517892 \r\nL 245.183715 80.80487 \r\nL 245.488383 80.80487 \r\nL 245.793051 77.517892 \r\nL 247.621061 77.517892 \r\nL 248.230398 80.80487 \r\nL 248.535066 77.517892 \r\nL 248.839734 79.161381 \r\nL 249.144403 79.161381 \r\nL 249.449071 77.517892 \r\nL 249.753739 79.161381 \r\nL 250.363076 79.161381 \r\nL 250.667744 77.517892 \r\nL 250.972412 79.161381 \r\nL 251.277081 77.517892 \r\nL 251.581749 79.161381 \r\nL 251.886417 77.517892 \r\nL 252.191086 77.517892 \r\nL 252.495754 79.161381 \r\nL 252.800422 79.161381 \r\nL 253.105091 77.517892 \r\nL 253.409759 80.80487 \r\nL 254.019096 77.517892 \r\nL 254.628432 77.517892 \r\nL 254.9331 79.161381 \r\nL 255.237769 77.517892 \r\nL 255.542437 79.161381 \r\nL 255.847105 77.517892 \r\nL 257.065779 77.517892 \r\nL 257.675115 80.80487 \r\nL 257.979783 77.517892 \r\nL 258.284452 82.448351 \r\nL 258.58912 77.517892 \r\nL 259.807793 77.517892 \r\nL 260.112462 79.161381 \r\nL 260.41713 77.517892 \r\nL 261.026467 77.517892 \r\nL 261.331135 89.022298 \r\nL 261.635803 79.161381 \r\nL 261.940471 80.80487 \r\nL 262.549808 77.517892 \r\nL 262.854476 80.80487 \r\nL 263.159145 77.517892 \r\nL 263.463813 77.517892 \r\nL 263.768481 80.80487 \r\nL 264.07315 79.161381 \r\nL 264.377818 79.161381 \r\nL 264.682486 77.517892 \r\nL 264.987154 77.517892 \r\nL 265.291823 79.161381 \r\nL 265.596491 77.517892 \r\nL 265.901159 79.161381 \r\nL 266.205828 77.517892 \r\nL 266.510496 79.161381 \r\nL 266.815164 82.448351 \r\nL 267.119833 77.517892 \r\nL 267.424501 79.161381 \r\nL 267.729169 90.665787 \r\nL 268.033838 82.448351 \r\nL 268.338506 77.517892 \r\nL 268.643174 79.161381 \r\nL 268.947842 79.161381 \r\nL 269.252511 77.517892 \r\nL 269.557179 79.161381 \r\nL 269.861847 77.517892 \r\nL 270.166516 79.161381 \r\nL 270.471184 77.517892 \r\nL 270.775852 80.80487 \r\nL 271.080521 87.378817 \r\nL 271.385189 77.517892 \r\nL 271.689857 77.517892 \r\nL 271.994525 79.161381 \r\nL 272.299194 77.517892 \r\nL 272.603862 77.517892 \r\nL 272.90853 82.448351 \r\nL 273.213199 77.517892 \r\nL 274.127204 77.517892 \r\nL 274.431872 79.161381 \r\nL 274.73654 77.517892 \r\nL 275.041209 82.448351 \r\nL 275.345877 79.161381 \r\nL 275.650545 77.517892 \r\nL 275.955213 82.448351 \r\nL 276.259882 77.517892 \r\nL 276.56455 85.735328 \r\nL 276.869218 79.161381 \r\nL 277.173887 77.517892 \r\nL 277.478555 77.517892 \r\nL 277.783223 84.091839 \r\nL 278.087892 77.517892 \r\nL 278.39256 77.517892 \r\nL 278.697228 79.161381 \r\nL 279.001896 84.091839 \r\nL 279.306565 79.161381 \r\nL 279.611233 79.161381 \r\nL 279.915901 84.091839 \r\nL 280.22057 77.517892 \r\nL 280.829906 77.517892 \r\nL 281.134575 79.161381 \r\nL 281.743911 79.161381 \r\nL 282.04858 77.517892 \r\nL 282.353248 77.517892 \r\nL 282.657916 82.448351 \r\nL 282.962584 77.517892 \r\nL 284.485926 77.517892 \r\nL 284.790594 79.161381 \r\nL 285.095263 77.517892 \r\nL 285.704599 77.517892 \r\nL 286.009268 82.448351 \r\nL 286.313936 77.517892 \r\nL 286.618604 77.517892 \r\nL 286.923272 79.161381 \r\nL 287.227941 77.517892 \r\nL 287.532609 79.161381 \r\nL 287.837277 77.517892 \r\nL 288.141946 80.80487 \r\nL 288.446614 77.517892 \r\nL 288.751282 77.517892 \r\nL 289.055951 82.448351 \r\nL 289.360619 77.517892 \r\nL 289.969955 84.091839 \r\nL 290.274624 77.517892 \r\nL 290.579292 77.517892 \r\nL 290.88396 79.161381 \r\nL 291.188629 85.735328 \r\nL 291.493297 77.517892 \r\nL 291.797965 77.517892 \r\nL 292.102634 82.448351 \r\nL 292.407302 77.517892 \r\nL 292.71197 77.517892 \r\nL 293.016639 79.161381 \r\nL 293.321307 79.161381 \r\nL 293.625975 82.448351 \r\nL 293.930643 79.161381 \r\nL 294.235312 77.517892 \r\nL 294.53998 79.161381 \r\nL 294.844648 82.448351 \r\nL 295.149317 77.517892 \r\nL 295.453985 79.161381 \r\nL 295.758653 77.517892 \r\nL 296.063322 82.448351 \r\nL 296.36799 77.517892 \r\nL 296.672658 77.517892 \r\nL 296.977326 79.161381 \r\nL 297.281995 77.517892 \r\nL 297.586663 79.161381 \r\nL 297.891331 77.517892 \r\nL 298.196 77.517892 \r\nL 298.805336 87.378817 \r\nL 299.110005 79.161381 \r\nL 299.414673 80.80487 \r\nL 299.719341 84.091839 \r\nL 300.02401 77.517892 \r\nL 300.328678 84.091839 \r\nL 300.633346 77.517892 \r\nL 300.938014 77.517892 \r\nL 301.242683 84.091839 \r\nL 301.547351 79.161381 \r\nL 301.852019 80.80487 \r\nL 302.156688 79.161381 \r\nL 302.766024 79.161381 \r\nL 303.070693 77.517892 \r\nL 303.375361 77.517892 \r\nL 303.984697 80.80487 \r\nL 304.289366 80.80487 \r\nL 304.594034 82.448351 \r\nL 304.898702 77.517892 \r\nL 305.203371 79.161381 \r\nL 306.117376 79.161381 \r\nL 306.422044 77.517892 \r\nL 306.726712 79.161381 \r\nL 307.031381 77.517892 \r\nL 307.640717 80.80487 \r\nL 307.945385 79.161381 \r\nL 308.250054 84.091839 \r\nL 308.554722 77.517892 \r\nL 308.85939 79.161381 \r\nL 309.164059 77.517892 \r\nL 309.468727 79.161381 \r\nL 309.773395 77.517892 \r\nL 310.078064 77.517892 \r\nL 310.382732 79.161381 \r\nL 310.6874 77.517892 \r\nL 310.992068 79.161381 \r\nL 311.296737 77.517892 \r\nL 311.906073 77.517892 \r\nL 312.210742 79.161381 \r\nL 312.51541 77.517892 \r\nL 313.124747 77.517892 \r\nL 313.429415 79.161381 \r\nL 313.734083 77.517892 \r\nL 315.866761 77.517892 \r\nL 316.476098 80.80487 \r\nL 316.780766 77.517892 \r\nL 317.085435 77.517892 \r\nL 317.390103 80.80487 \r\nL 317.694771 77.517892 \r\nL 317.999439 77.517892 \r\nL 318.304108 79.161381 \r\nL 319.522781 79.161381 \r\nL 319.827449 80.80487 \r\nL 320.132118 77.517892 \r\nL 320.436786 82.448351 \r\nL 320.741454 77.517892 \r\nL 321.046123 77.517892 \r\nL 321.350791 80.80487 \r\nL 321.655459 77.517892 \r\nL 321.960127 85.735328 \r\nL 322.264796 79.161381 \r\nL 322.569464 77.517892 \r\nL 322.874132 79.161381 \r\nL 323.178801 77.517892 \r\nL 323.483469 77.517892 \r\nL 323.788137 87.378817 \r\nL 324.092806 77.517892 \r\nL 324.397474 79.161381 \r\nL 324.702142 77.517892 \r\nL 325.006811 77.517892 \r\nL 325.311479 79.161381 \r\nL 325.616147 77.517892 \r\nL 325.920815 79.161381 \r\nL 326.225484 77.517892 \r\nL 326.530152 79.161381 \r\nL 326.83482 77.517892 \r\nL 327.748825 77.517892 \r\nL 328.053494 80.80487 \r\nL 328.358162 77.517892 \r\nL 328.66283 80.80487 \r\nL 328.967498 77.517892 \r\nL 330.795508 77.517892 \r\nL 331.100177 80.80487 \r\nL 331.709513 77.517892 \r\nL 332.31885 77.517892 \r\nL 332.623518 79.161381 \r\nL 332.928186 77.517892 \r\nL 333.537523 80.80487 \r\nL 333.842191 77.517892 \r\nL 334.14686 77.517892 \r\nL 334.451528 84.091839 \r\nL 334.756196 79.161381 \r\nL 335.060865 79.161381 \r\nL 335.365533 77.517892 \r\nL 335.670201 79.161381 \r\nL 335.974869 77.517892 \r\nL 338.412216 77.517892 \r\nL 338.716884 79.161381 \r\nL 339.021553 77.517892 \r\nL 339.326221 80.80487 \r\nL 339.630889 79.161381 \r\nL 339.935557 79.161381 \r\nL 340.240226 77.517892 \r\nL 340.544894 80.80487 \r\nL 340.849562 77.517892 \r\nL 341.154231 77.517892 \r\nL 341.458899 79.161381 \r\nL 342.068236 79.161381 \r\nL 342.372904 77.517892 \r\nL 342.98224 77.517892 \r\nL 343.286909 80.80487 \r\nL 343.591577 77.517892 \r\nL 344.505582 77.517892 \r\nL 344.81025 79.161381 \r\nL 345.114919 82.448351 \r\nL 345.419587 82.448351 \r\nL 345.724255 79.161381 \r\nL 346.028924 77.517892 \r\nL 346.63826 77.517892 \r\nL 346.942928 79.161381 \r\nL 347.247597 84.091839 \r\nL 347.552265 77.517892 \r\nL 347.856933 90.665787 \r\nL 348.161602 77.517892 \r\nL 348.46627 79.161381 \r\nL 348.770938 84.091839 \r\nL 349.075607 77.517892 \r\nL 349.684943 77.517892 \r\nL 349.684943 77.517892 \r\n\" style=\"fill:none;stroke:#1f77b4;stroke-linecap:square;stroke-width:1.5;\"/>\r\n   </g>\r\n   <g id=\"line2d_16\">\r\n    <path clip-path=\"url(#p1a08e4e674)\" d=\"M 45.321307 17.083636 \r\nL 45.625975 117.636755 \r\nL 45.930643 127.847863 \r\nL 46.53998 155.2707 \r\nL 46.844648 148.216646 \r\nL 47.149317 162.196197 \r\nL 47.453985 164.560706 \r\nL 47.758653 177.994857 \r\nL 48.063322 172.667319 \r\nL 48.36799 171.121248 \r\nL 48.672658 178.506003 \r\nL 48.977326 175.473185 \r\nL 49.281995 177.55588 \r\nL 49.586663 188.508657 \r\nL 49.891331 185.649881 \r\nL 50.196 180.862735 \r\nL 50.500668 188.251415 \r\nL 50.805336 187.465347 \r\nL 51.110005 172.804797 \r\nL 51.414673 183.265949 \r\nL 52.328678 192.067435 \r\nL 52.633346 167.114166 \r\nL 52.938014 193.257982 \r\nL 53.242683 191.823325 \r\nL 53.547351 183.477376 \r\nL 53.852019 183.420817 \r\nL 54.156688 191.403382 \r\nL 54.461356 194.82293 \r\nL 54.766024 194.592132 \r\nL 55.070693 187.847852 \r\nL 55.375361 192.336587 \r\nL 55.680029 199.590493 \r\nL 55.984697 196.591094 \r\nL 56.289366 199.423926 \r\nL 56.594034 198.247771 \r\nL 56.898702 198.805766 \r\nL 57.203371 193.592665 \r\nL 57.508039 196.631849 \r\nL 57.812707 194.755982 \r\nL 58.117376 191.336438 \r\nL 58.726712 200.182646 \r\nL 59.031381 194.868445 \r\nL 59.336049 199.865762 \r\nL 59.945385 188.716482 \r\nL 60.554722 203.480438 \r\nL 60.85939 198.953667 \r\nL 61.468727 203.07509 \r\nL 61.773395 201.056396 \r\nL 62.078064 201.27093 \r\nL 62.382732 203.192431 \r\nL 62.6874 201.782498 \r\nL 62.992068 199.116234 \r\nL 63.296737 203.298563 \r\nL 63.601405 203.131755 \r\nL 63.906073 202.649327 \r\nL 64.210742 199.842281 \r\nL 64.51541 201.816924 \r\nL 64.820078 192.008621 \r\nL 66.038752 207.714224 \r\nL 66.34342 202.769365 \r\nL 66.648088 205.1889 \r\nL 66.952756 204.823168 \r\nL 67.257425 205.069115 \r\nL 67.562093 207.313238 \r\nL 67.866761 205.200742 \r\nL 68.17143 204.583611 \r\nL 68.476098 195.92756 \r\nL 68.780766 206.050195 \r\nL 69.085435 205.026873 \r\nL 69.390103 200.486113 \r\nL 69.694771 205.543089 \r\nL 70.304108 204.065315 \r\nL 70.608776 204.935488 \r\nL 70.913444 203.608146 \r\nL 71.218113 200.253065 \r\nL 71.522781 199.908104 \r\nL 71.827449 204.951455 \r\nL 72.132118 205.112589 \r\nL 72.741454 204.259211 \r\nL 73.046123 207.844692 \r\nL 73.350791 200.938261 \r\nL 73.655459 202.635994 \r\nL 73.960127 208.131745 \r\nL 74.264796 205.323015 \r\nL 74.569464 206.228181 \r\nL 74.874132 201.959968 \r\nL 75.178801 203.465203 \r\nL 75.483469 203.784283 \r\nL 75.788137 205.298407 \r\nL 76.092806 209.612228 \r\nL 76.397474 199.615174 \r\nL 76.702142 205.190865 \r\nL 77.006811 208.15242 \r\nL 77.311479 200.624782 \r\nL 77.616147 205.796778 \r\nL 77.920815 204.539183 \r\nL 78.225484 208.310612 \r\nL 78.83482 207.421289 \r\nL 79.444157 209.013235 \r\nL 79.748825 198.794371 \r\nL 80.053494 208.006185 \r\nL 80.358162 207.122793 \r\nL 80.66283 206.823807 \r\nL 80.967498 207.083485 \r\nL 81.272167 206.65032 \r\nL 81.576835 207.292429 \r\nL 81.881503 208.38607 \r\nL 82.186172 198.784814 \r\nL 82.49084 205.77572 \r\nL 82.795508 201.790608 \r\nL 83.100177 200.576196 \r\nL 83.404845 208.776726 \r\nL 83.709513 202.986763 \r\nL 84.014182 206.240156 \r\nL 84.31885 203.838525 \r\nL 84.623518 206.67557 \r\nL 84.928186 206.968165 \r\nL 85.232855 200.906445 \r\nL 85.537523 201.485158 \r\nL 85.842191 207.827267 \r\nL 86.14686 197.557072 \r\nL 86.451528 206.981129 \r\nL 86.756196 210.879865 \r\nL 87.060865 207.356977 \r\nL 87.365533 209.684533 \r\nL 87.670201 210.69913 \r\nL 87.974869 206.125775 \r\nL 88.279538 208.371542 \r\nL 88.584206 204.345287 \r\nL 88.888874 209.218971 \r\nL 89.193543 205.706408 \r\nL 89.498211 210.390848 \r\nL 89.802879 211.139192 \r\nL 90.107548 209.340984 \r\nL 90.412216 208.920698 \r\nL 90.716884 191.704165 \r\nL 91.021553 205.85183 \r\nL 91.326221 202.455228 \r\nL 91.630889 201.766728 \r\nL 91.935557 207.718276 \r\nL 92.240226 206.779576 \r\nL 92.544894 210.024401 \r\nL 92.849562 201.405401 \r\nL 93.154231 207.920563 \r\nL 93.458899 207.867533 \r\nL 93.763567 210.537731 \r\nL 94.068236 193.504455 \r\nL 94.372904 208.167112 \r\nL 94.677572 206.753258 \r\nL 94.98224 209.914408 \r\nL 95.286909 208.573815 \r\nL 95.591577 210.333556 \r\nL 95.896245 207.562699 \r\nL 96.200914 211.234413 \r\nL 96.505582 209.428274 \r\nL 96.81025 198.258156 \r\nL 97.114919 209.443317 \r\nL 97.419587 209.953931 \r\nL 97.724255 208.643933 \r\nL 98.028924 211.693089 \r\nL 98.333592 208.582945 \r\nL 98.63826 210.162076 \r\nL 98.942928 204.240122 \r\nL 99.247597 207.234416 \r\nL 99.552265 204.924205 \r\nL 100.161602 210.6662 \r\nL 100.46627 211.123841 \r\nL 100.770938 208.517768 \r\nL 101.075607 209.55741 \r\nL 101.380275 211.258264 \r\nL 101.684943 204.211626 \r\nL 101.989611 211.005192 \r\nL 102.29428 200.88831 \r\nL 102.598948 210.018409 \r\nL 102.903616 204.737256 \r\nL 103.208285 205.081921 \r\nL 103.512953 204.269249 \r\nL 103.817621 205.028434 \r\nL 104.12229 210.885962 \r\nL 104.426958 206.674707 \r\nL 104.731626 206.225698 \r\nL 105.036295 199.074472 \r\nL 105.340963 202.817188 \r\nL 105.645631 209.371366 \r\nL 105.950299 208.641383 \r\nL 106.254968 206.120834 \r\nL 106.559636 207.226893 \r\nL 106.864304 205.693604 \r\nL 107.168973 209.567532 \r\nL 107.473641 201.041167 \r\nL 107.778309 204.642145 \r\nL 108.082978 209.953897 \r\nL 108.387646 209.226112 \r\nL 108.692314 197.758831 \r\nL 108.996982 207.131877 \r\nL 109.301651 207.884821 \r\nL 109.606319 201.927884 \r\nL 109.910987 205.764996 \r\nL 110.215656 212.137471 \r\nL 110.520324 211.31118 \r\nL 110.824992 208.842335 \r\nL 111.129661 210.178593 \r\nL 111.434329 209.984634 \r\nL 111.738997 199.690711 \r\nL 112.043666 208.448712 \r\nL 112.653002 211.513454 \r\nL 112.95767 206.160295 \r\nL 113.262339 208.92097 \r\nL 113.567007 208.124784 \r\nL 113.871675 211.031687 \r\nL 114.176344 211.01175 \r\nL 114.481012 210.584247 \r\nL 114.78568 204.584132 \r\nL 115.090349 209.739882 \r\nL 115.395017 210.401873 \r\nL 115.699685 210.160654 \r\nL 116.004354 212.113161 \r\nL 116.309022 168.734061 \r\nL 116.61369 203.279694 \r\nL 116.918358 198.594002 \r\nL 117.223027 207.885763 \r\nL 117.527695 201.185528 \r\nL 117.832363 203.113562 \r\nL 118.137032 202.204215 \r\nL 118.4417 207.237745 \r\nL 118.746368 196.570209 \r\nL 119.051037 208.166377 \r\nL 119.355705 207.583842 \r\nL 119.660373 207.927238 \r\nL 119.965041 206.105532 \r\nL 120.26971 202.061802 \r\nL 120.574378 208.437 \r\nL 120.879046 203.078217 \r\nL 121.183715 208.194061 \r\nL 121.488383 205.09636 \r\nL 121.793051 205.361809 \r\nL 122.09772 207.279908 \r\nL 122.402388 201.177044 \r\nL 122.707056 204.933307 \r\nL 123.011725 210.443148 \r\nL 123.316393 209.451208 \r\nL 123.621061 211.244237 \r\nL 123.925729 203.001052 \r\nL 124.535066 210.214369 \r\nL 124.839734 212.085028 \r\nL 125.144403 209.282193 \r\nL 125.449071 210.981418 \r\nL 125.753739 201.964067 \r\nL 126.058408 209.28778 \r\nL 126.363076 210.9702 \r\nL 126.667744 208.677273 \r\nL 126.972412 208.878095 \r\nL 127.277081 210.77527 \r\nL 127.581749 210.834707 \r\nL 127.886417 211.742129 \r\nL 128.191086 211.29178 \r\nL 128.495754 209.603711 \r\nL 128.800422 205.050302 \r\nL 129.105091 211.549658 \r\nL 129.409759 211.068642 \r\nL 129.714427 211.200736 \r\nL 130.019096 210.197192 \r\nL 130.323764 213.082866 \r\nL 130.628432 191.377784 \r\nL 130.9331 208.416781 \r\nL 131.237769 207.57576 \r\nL 131.542437 205.121577 \r\nL 131.847105 211.378854 \r\nL 132.151774 212.22035 \r\nL 132.456442 210.276253 \r\nL 132.76111 210.953216 \r\nL 133.065779 210.951488 \r\nL 133.370447 208.770637 \r\nL 133.675115 211.623171 \r\nL 133.979783 209.455544 \r\nL 134.284452 211.577408 \r\nL 134.58912 212.061485 \r\nL 134.893788 212.788459 \r\nL 135.198457 211.715952 \r\nL 135.503125 200.756966 \r\nL 135.807793 200.711476 \r\nL 136.112462 212.32526 \r\nL 136.41713 211.572043 \r\nL 136.721798 205.807032 \r\nL 137.331135 212.720979 \r\nL 137.635803 208.999761 \r\nL 137.940471 208.892345 \r\nL 138.24514 210.283047 \r\nL 138.549808 212.779226 \r\nL 138.854476 213.274997 \r\nL 139.159145 207.608129 \r\nL 139.463813 212.170689 \r\nL 139.768481 211.868402 \r\nL 140.07315 207.501155 \r\nL 140.377818 211.333731 \r\nL 140.682486 208.210941 \r\nL 140.987154 213.492809 \r\nL 141.291823 211.800712 \r\nL 141.596491 212.310465 \r\nL 141.901159 209.867777 \r\nL 142.205828 211.705251 \r\nL 142.510496 212.533138 \r\nL 142.815164 211.897672 \r\nL 143.119833 213.144956 \r\nL 143.729169 213.193142 \r\nL 144.033838 210.740611 \r\nL 144.338506 212.024239 \r\nL 144.643174 211.429196 \r\nL 144.947842 213.161332 \r\nL 145.252511 212.491521 \r\nL 145.557179 203.07072 \r\nL 145.861847 209.268452 \r\nL 146.166516 201.289396 \r\nL 146.471184 210.940132 \r\nL 146.775852 203.300901 \r\nL 147.080521 211.381136 \r\nL 147.385189 211.554516 \r\nL 147.994525 212.203459 \r\nL 148.299194 209.448326 \r\nL 148.603862 209.411536 \r\nL 148.90853 211.921454 \r\nL 149.213199 211.953155 \r\nL 149.517867 210.707238 \r\nL 149.822535 211.845351 \r\nL 150.127204 212.087279 \r\nL 150.73654 205.556185 \r\nL 151.041209 212.194437 \r\nL 151.345877 211.864446 \r\nL 151.650545 212.097614 \r\nL 151.955213 213.072627 \r\nL 152.259882 212.597363 \r\nL 152.56455 201.098823 \r\nL 152.869218 208.974279 \r\nL 153.173887 211.828098 \r\nL 153.478555 196.706658 \r\nL 153.783223 202.313849 \r\nL 154.087892 210.165527 \r\nL 154.697228 207.146145 \r\nL 155.001896 213.34339 \r\nL 155.306565 209.371185 \r\nL 155.611233 206.947688 \r\nL 156.22057 211.131104 \r\nL 156.525238 212.523516 \r\nL 156.829906 212.873003 \r\nL 157.134575 212.690163 \r\nL 157.439243 213.28341 \r\nL 157.743911 209.980217 \r\nL 158.04858 199.633976 \r\nL 158.353248 210.614796 \r\nL 158.657916 208.297813 \r\nL 158.962584 211.202808 \r\nL 159.267253 212.728526 \r\nL 159.571921 213.14509 \r\nL 159.876589 211.054937 \r\nL 160.181258 211.710675 \r\nL 160.485926 212.017792 \r\nL 160.790594 207.276741 \r\nL 161.095263 210.529878 \r\nL 161.399931 209.321825 \r\nL 161.704599 213.189736 \r\nL 162.009268 212.152795 \r\nL 162.313936 213.330484 \r\nL 162.618604 206.22936 \r\nL 163.227941 212.994527 \r\nL 163.532609 211.669329 \r\nL 163.837277 212.176292 \r\nL 164.141946 208.822545 \r\nL 164.751282 211.490861 \r\nL 165.055951 211.067496 \r\nL 165.360619 207.592744 \r\nL 165.665287 207.789352 \r\nL 165.969955 205.771595 \r\nL 166.274624 209.890186 \r\nL 166.88396 212.822227 \r\nL 167.188629 211.85805 \r\nL 167.493297 209.562527 \r\nL 167.797965 210.679468 \r\nL 168.102634 208.280456 \r\nL 168.407302 211.320486 \r\nL 168.71197 210.328045 \r\nL 169.016639 210.345184 \r\nL 169.321307 213.331562 \r\nL 169.625975 213.746698 \r\nL 169.930643 210.977349 \r\nL 170.235312 211.639245 \r\nL 170.53998 214.041152 \r\nL 170.844648 213.311471 \r\nL 171.149317 213.184647 \r\nL 171.453985 212.676186 \r\nL 171.758653 213.038259 \r\nL 172.063322 212.255543 \r\nL 172.36799 206.513968 \r\nL 172.672658 212.794697 \r\nL 172.977326 212.623086 \r\nL 173.281995 211.968817 \r\nL 173.586663 211.917678 \r\nL 173.891331 213.431571 \r\nL 174.196 207.790972 \r\nL 174.500668 211.065993 \r\nL 175.110005 205.120988 \r\nL 175.414673 212.659088 \r\nL 175.719341 212.92844 \r\nL 176.02401 212.538703 \r\nL 176.328678 213.131966 \r\nL 176.633346 211.133106 \r\nL 176.938014 212.018723 \r\nL 177.242683 210.106421 \r\nL 177.547351 211.883233 \r\nL 177.852019 211.026314 \r\nL 178.156688 212.246918 \r\nL 178.461356 210.952189 \r\nL 178.766024 213.68321 \r\nL 179.070693 213.621636 \r\nL 179.375361 212.16016 \r\nL 179.680029 208.729753 \r\nL 179.984697 212.425678 \r\nL 180.289366 209.224104 \r\nL 180.594034 211.179209 \r\nL 180.898702 208.275938 \r\nL 181.203371 208.471549 \r\nL 181.508039 213.519202 \r\nL 181.812707 212.326535 \r\nL 182.117376 212.96838 \r\nL 182.422044 212.098074 \r\nL 182.726712 211.755147 \r\nL 183.031381 210.898009 \r\nL 183.336049 211.992078 \r\nL 183.640717 212.363328 \r\nL 183.945385 213.837047 \r\nL 184.250054 212.608565 \r\nL 184.554722 213.085886 \r\nL 184.85939 203.522043 \r\nL 185.164059 209.064659 \r\nL 185.773395 207.58049 \r\nL 186.382732 212.644891 \r\nL 186.992068 206.13004 \r\nL 187.296737 212.425481 \r\nL 187.601405 213.704487 \r\nL 187.906073 211.580027 \r\nL 188.210742 211.13488 \r\nL 188.51541 213.491278 \r\nL 188.820078 206.543408 \r\nL 189.124747 213.589552 \r\nL 189.429415 209.937694 \r\nL 189.734083 214.000097 \r\nL 190.038752 211.423698 \r\nL 190.34342 213.449293 \r\nL 190.648088 213.243078 \r\nL 190.952756 207.696059 \r\nL 191.257425 211.88084 \r\nL 191.562093 210.952098 \r\nL 191.866761 200.754124 \r\nL 192.17143 212.079766 \r\nL 192.476098 210.819881 \r\nL 192.780766 213.064077 \r\nL 193.085435 213.064368 \r\nL 193.390103 210.325277 \r\nL 194.304108 213.622443 \r\nL 194.608776 211.37717 \r\nL 194.913444 211.255262 \r\nL 195.218113 213.196344 \r\nL 195.827449 197.941411 \r\nL 196.132118 210.348822 \r\nL 196.436786 211.031473 \r\nL 196.741454 212.715489 \r\nL 197.046123 211.905988 \r\nL 197.350791 212.140246 \r\nL 197.655459 213.046031 \r\nL 197.960127 212.94988 \r\nL 198.569464 213.677504 \r\nL 198.874132 201.550715 \r\nL 199.178801 197.828254 \r\nL 199.483469 212.668188 \r\nL 199.788137 204.684004 \r\nL 200.092806 209.387855 \r\nL 200.702142 213.669847 \r\nL 201.006811 192.317132 \r\nL 201.311479 207.61557 \r\nL 201.616147 212.959334 \r\nL 201.920815 213.442099 \r\nL 202.225484 213.311121 \r\nL 202.530152 212.724635 \r\nL 202.83482 213.741921 \r\nL 203.139489 202.551183 \r\nL 203.444157 210.841551 \r\nL 203.748825 213.655612 \r\nL 204.053494 211.43213 \r\nL 204.358162 213.443316 \r\nL 204.66283 213.058006 \r\nL 204.967498 212.202991 \r\nL 205.576835 214.33095 \r\nL 205.881503 210.877798 \r\nL 206.186172 213.545016 \r\nL 206.49084 212.39481 \r\nL 206.795508 212.251177 \r\nL 207.100177 212.265674 \r\nL 207.404845 213.000325 \r\nL 207.709513 214.1315 \r\nL 208.014182 213.790087 \r\nL 208.31885 212.067802 \r\nL 208.623518 211.172561 \r\nL 208.928186 211.362553 \r\nL 209.537523 213.618058 \r\nL 209.842191 214.45064 \r\nL 210.14686 211.727341 \r\nL 210.756196 214.220758 \r\nL 211.060865 213.943249 \r\nL 211.365533 211.512129 \r\nL 211.670201 212.782489 \r\nL 211.974869 212.142691 \r\nL 212.279538 212.218023 \r\nL 212.584206 211.472535 \r\nL 212.888874 213.235221 \r\nL 213.193543 211.222094 \r\nL 213.498211 211.660658 \r\nL 213.802879 213.892671 \r\nL 214.107548 209.694416 \r\nL 214.412216 211.802356 \r\nL 214.716884 212.481515 \r\nL 215.021553 213.694744 \r\nL 215.326221 213.746809 \r\nL 215.935557 211.405259 \r\nL 216.240226 213.359862 \r\nL 216.544894 213.882886 \r\nL 216.849562 213.238299 \r\nL 217.154231 213.1714 \r\nL 217.458899 213.897651 \r\nL 217.763567 212.038452 \r\nL 218.068236 212.789648 \r\nL 218.372904 213.190942 \r\nL 218.677572 210.948091 \r\nL 219.286909 213.6357 \r\nL 219.591577 213.796415 \r\nL 219.896245 213.76008 \r\nL 220.200914 212.627976 \r\nL 220.505582 213.447533 \r\nL 220.81025 206.386505 \r\nL 221.114919 208.663562 \r\nL 221.419587 209.607221 \r\nL 221.724255 202.378186 \r\nL 222.028924 210.958743 \r\nL 222.333592 211.963003 \r\nL 222.63826 213.540157 \r\nL 222.942928 209.85101 \r\nL 223.247597 213.738909 \r\nL 223.552265 212.131571 \r\nL 223.856933 212.121547 \r\nL 224.161602 213.790708 \r\nL 224.770938 208.84214 \r\nL 225.075607 212.843403 \r\nL 225.380275 212.281496 \r\nL 225.684943 206.672495 \r\nL 225.989611 207.31438 \r\nL 226.29428 211.73721 \r\nL 226.598948 213.73777 \r\nL 226.903616 212.70559 \r\nL 227.208285 213.816431 \r\nL 227.512953 214.113183 \r\nL 227.817621 213.661366 \r\nL 228.12229 208.387481 \r\nL 228.426958 212.701514 \r\nL 228.731626 213.818028 \r\nL 229.036295 211.218009 \r\nL 229.340963 204.451777 \r\nL 229.645631 206.560355 \r\nL 229.950299 211.779289 \r\nL 230.559636 213.276398 \r\nL 230.864304 212.046386 \r\nL 231.168973 213.854948 \r\nL 231.473641 213.586501 \r\nL 231.778309 211.657894 \r\nL 232.082978 210.984859 \r\nL 232.692314 214.015178 \r\nL 232.996982 211.802783 \r\nL 233.301651 211.697609 \r\nL 233.606319 213.130734 \r\nL 233.910987 210.025961 \r\nL 234.520324 213.939081 \r\nL 234.824992 211.048978 \r\nL 235.129661 210.520947 \r\nL 235.434329 211.613709 \r\nL 235.738997 210.318235 \r\nL 236.043666 203.357684 \r\nL 236.348334 208.705892 \r\nL 236.653002 210.212559 \r\nL 236.95767 213.047699 \r\nL 237.262339 213.256464 \r\nL 237.567007 211.88244 \r\nL 237.871675 212.951612 \r\nL 238.176344 205.430566 \r\nL 238.481012 213.509086 \r\nL 238.78568 213.445471 \r\nL 239.090349 212.855581 \r\nL 239.395017 201.774444 \r\nL 239.699685 213.335365 \r\nL 240.004354 211.174558 \r\nL 240.309022 213.890847 \r\nL 240.61369 204.908832 \r\nL 240.918358 213.455076 \r\nL 241.223027 204.29307 \r\nL 241.527695 214.121128 \r\nL 241.832363 212.177413 \r\nL 242.137032 212.937889 \r\nL 242.4417 212.696317 \r\nL 242.746368 212.871288 \r\nL 243.051037 213.343989 \r\nL 243.355705 204.913803 \r\nL 243.660373 199.741557 \r\nL 243.965041 210.429586 \r\nL 244.574378 213.653838 \r\nL 245.183715 207.764973 \r\nL 245.488383 209.642829 \r\nL 245.793051 212.81871 \r\nL 246.09772 212.755235 \r\nL 246.402388 212.322081 \r\nL 246.707056 214.553673 \r\nL 247.011725 214.042627 \r\nL 247.316393 213.777753 \r\nL 247.925729 210.40315 \r\nL 248.230398 205.198398 \r\nL 248.535066 213.290633 \r\nL 248.839734 210.729633 \r\nL 249.449071 213.882699 \r\nL 249.753739 212.954396 \r\nL 250.058408 208.28739 \r\nL 250.363076 211.877207 \r\nL 250.667744 213.747868 \r\nL 250.972412 210.789715 \r\nL 251.277081 213.901408 \r\nL 251.886417 212.113152 \r\nL 252.191086 214.379974 \r\nL 252.495754 210.896429 \r\nL 252.800422 210.806272 \r\nL 253.105091 214.287251 \r\nL 253.409759 208.635385 \r\nL 253.714427 208.357795 \r\nL 254.323764 214.300728 \r\nL 254.628432 212.00089 \r\nL 254.9331 211.54078 \r\nL 255.237769 214.014782 \r\nL 255.542437 212.400139 \r\nL 255.847105 213.495755 \r\nL 256.151774 213.769572 \r\nL 256.456442 213.136229 \r\nL 256.76111 210.707185 \r\nL 257.065779 213.518303 \r\nL 257.370447 207.08509 \r\nL 257.675115 206.714269 \r\nL 257.979783 213.42713 \r\nL 258.284452 208.642974 \r\nL 258.58912 212.981852 \r\nL 259.198457 213.814381 \r\nL 259.503125 213.2238 \r\nL 259.807793 212.970545 \r\nL 260.112462 211.183461 \r\nL 260.41713 213.413819 \r\nL 261.026467 212.96479 \r\nL 261.331135 180.110367 \r\nL 261.635803 208.368013 \r\nL 261.940471 211.015286 \r\nL 262.24514 209.99439 \r\nL 262.549808 211.267596 \r\nL 262.854476 209.694292 \r\nL 263.159145 213.275346 \r\nL 263.463813 210.654068 \r\nL 263.768481 201.065244 \r\nL 264.07315 208.831264 \r\nL 264.682486 211.839918 \r\nL 264.987154 212.025933 \r\nL 265.291823 209.718899 \r\nL 265.596491 212.47742 \r\nL 265.901159 211.91024 \r\nL 266.205828 211.825059 \r\nL 266.510496 209.499948 \r\nL 266.815164 203.821174 \r\nL 267.119833 213.238933 \r\nL 267.424501 210.517914 \r\nL 267.729169 190.773601 \r\nL 268.033838 205.050276 \r\nL 268.338506 211.978205 \r\nL 268.643174 211.428246 \r\nL 268.947842 211.198766 \r\nL 269.252511 212.908902 \r\nL 269.557179 210.798258 \r\nL 269.861847 212.356114 \r\nL 270.166516 209.82354 \r\nL 270.471184 212.539777 \r\nL 270.775852 211.056243 \r\nL 271.080521 188.183345 \r\nL 271.385189 211.525526 \r\nL 271.689857 213.393747 \r\nL 271.994525 211.920377 \r\nL 272.299194 213.9615 \r\nL 272.603862 212.976195 \r\nL 272.90853 204.273462 \r\nL 273.213199 210.728667 \r\nL 273.517867 213.970508 \r\nL 273.822535 213.869466 \r\nL 274.431872 210.318659 \r\nL 274.73654 213.70213 \r\nL 275.041209 202.249878 \r\nL 275.345877 210.613723 \r\nL 275.650545 211.973394 \r\nL 275.955213 206.889239 \r\nL 276.259882 213.641428 \r\nL 276.56455 201.542894 \r\nL 276.869218 212.452239 \r\nL 277.173887 211.335689 \r\nL 277.478555 213.861374 \r\nL 277.783223 206.752732 \r\nL 278.087892 208.84972 \r\nL 278.39256 213.25725 \r\nL 278.697228 213.282695 \r\nL 279.001896 198.753743 \r\nL 279.306565 212.3026 \r\nL 279.611233 210.915119 \r\nL 279.915901 201.182411 \r\nL 280.22057 212.636464 \r\nL 280.525238 213.525538 \r\nL 281.134575 209.67698 \r\nL 282.353248 213.273556 \r\nL 282.657916 206.378341 \r\nL 282.962584 212.607062 \r\nL 283.267253 214.524432 \r\nL 284.181258 212.712925 \r\nL 284.485926 213.796719 \r\nL 284.790594 211.932425 \r\nL 285.399931 214.237488 \r\nL 285.704599 214.392156 \r\nL 286.009268 202.724313 \r\nL 286.313936 211.900454 \r\nL 286.618604 211.624958 \r\nL 286.923272 212.119519 \r\nL 287.227941 212.862287 \r\nL 287.532609 212.625299 \r\nL 287.837277 212.610124 \r\nL 288.141946 208.04451 \r\nL 288.446614 213.361072 \r\nL 288.751282 213.860037 \r\nL 289.055951 207.358626 \r\nL 289.360619 214.536931 \r\nL 289.665287 210.471571 \r\nL 289.969955 200.171732 \r\nL 290.274624 211.501081 \r\nL 290.579292 211.878953 \r\nL 290.88396 209.433514 \r\nL 291.188629 199.028369 \r\nL 291.493297 212.006433 \r\nL 291.797965 213.71905 \r\nL 292.102634 208.801949 \r\nL 292.407302 213.148261 \r\nL 292.71197 213.013398 \r\nL 293.016639 209.773651 \r\nL 293.321307 210.008767 \r\nL 293.625975 203.350464 \r\nL 293.930643 208.099866 \r\nL 294.235312 210.394585 \r\nL 294.53998 208.845848 \r\nL 294.844648 201.278033 \r\nL 295.149317 211.51263 \r\nL 295.453985 210.417679 \r\nL 295.758653 212.694316 \r\nL 296.063322 203.321669 \r\nL 296.36799 212.745489 \r\nL 296.672658 209.859288 \r\nL 296.977326 210.032226 \r\nL 297.281995 212.489086 \r\nL 297.586663 210.436217 \r\nL 297.891331 212.737182 \r\nL 298.196 212.649017 \r\nL 298.500668 206.41034 \r\nL 298.805336 188.798483 \r\nL 299.110005 209.631177 \r\nL 299.414673 210.931982 \r\nL 299.719341 200.358473 \r\nL 300.02401 210.868399 \r\nL 300.328678 195.263317 \r\nL 300.633346 210.61293 \r\nL 300.938014 212.646055 \r\nL 301.242683 201.411163 \r\nL 301.547351 205.562139 \r\nL 301.852019 206.762476 \r\nL 302.156688 211.028327 \r\nL 302.461356 207.624654 \r\nL 303.070693 211.583379 \r\nL 303.375361 211.64023 \r\nL 303.680029 211.581885 \r\nL 303.984697 208.879887 \r\nL 304.289366 209.838113 \r\nL 304.594034 202.061099 \r\nL 304.898702 211.78723 \r\nL 305.508039 211.294084 \r\nL 305.812707 205.366672 \r\nL 306.117376 211.616388 \r\nL 306.422044 212.33031 \r\nL 306.726712 210.591357 \r\nL 307.031381 211.757926 \r\nL 307.336049 206.860966 \r\nL 307.945385 211.396061 \r\nL 308.250054 205.363966 \r\nL 308.554722 212.688542 \r\nL 308.85939 211.608077 \r\nL 309.164059 211.802632 \r\nL 309.468727 212.276712 \r\nL 309.773395 211.789556 \r\nL 310.078064 212.984966 \r\nL 310.382732 210.689538 \r\nL 310.6874 213.513487 \r\nL 310.992068 210.220155 \r\nL 311.601405 213.754701 \r\nL 312.210742 209.437249 \r\nL 312.51541 212.156713 \r\nL 312.820078 211.646295 \r\nL 313.429415 209.075492 \r\nL 313.734083 214.209206 \r\nL 314.038752 213.786343 \r\nL 314.34342 212.87847 \r\nL 314.952756 214.411951 \r\nL 315.257425 214.07584 \r\nL 315.562093 213.949533 \r\nL 315.866761 213.065504 \r\nL 316.17143 211.225114 \r\nL 316.476098 202.052465 \r\nL 316.780766 210.305358 \r\nL 317.085435 213.274161 \r\nL 317.390103 208.124397 \r\nL 317.694771 212.131171 \r\nL 317.999439 211.562346 \r\nL 318.304108 210.206061 \r\nL 318.608776 212.088886 \r\nL 318.913444 209.250678 \r\nL 319.218113 211.919257 \r\nL 319.522781 210.382858 \r\nL 319.827449 209.721781 \r\nL 320.132118 212.788571 \r\nL 320.436786 206.916643 \r\nL 320.741454 214.335119 \r\nL 321.046123 213.538908 \r\nL 321.350791 208.028169 \r\nL 321.655459 213.429064 \r\nL 321.960127 201.218361 \r\nL 322.569464 212.650462 \r\nL 322.874132 209.964447 \r\nL 323.178801 213.207936 \r\nL 323.483469 213.934654 \r\nL 323.788137 191.744441 \r\nL 324.092806 212.606719 \r\nL 324.397474 212.119335 \r\nL 324.702142 213.957761 \r\nL 325.006811 213.344723 \r\nL 325.311479 212.428832 \r\nL 325.616147 214.134085 \r\nL 325.920815 212.136355 \r\nL 326.225484 213.03586 \r\nL 326.530152 211.536582 \r\nL 326.83482 211.38657 \r\nL 327.139489 212.097071 \r\nL 327.444157 214.587012 \r\nL 327.748825 213.801717 \r\nL 328.053494 207.631478 \r\nL 328.358162 213.745725 \r\nL 328.66283 210.706484 \r\nL 328.967498 214.428818 \r\nL 329.272167 214.430446 \r\nL 329.576835 213.228949 \r\nL 329.881503 214.288917 \r\nL 330.186172 213.659082 \r\nL 330.795508 214.212483 \r\nL 331.100177 210.549413 \r\nL 331.709513 213.128759 \r\nL 332.014182 213.623267 \r\nL 332.31885 213.75357 \r\nL 332.623518 211.467816 \r\nL 332.928186 213.798348 \r\nL 333.232855 213.182078 \r\nL 333.537523 204.348385 \r\nL 333.842191 213.786581 \r\nL 334.14686 213.803315 \r\nL 334.451528 204.939717 \r\nL 334.756196 208.249315 \r\nL 335.060865 212.926766 \r\nL 335.365533 214.349246 \r\nL 335.670201 211.172576 \r\nL 335.974869 214.218916 \r\nL 336.279538 212.729128 \r\nL 336.584206 214.087389 \r\nL 336.888874 213.110753 \r\nL 337.193543 212.999358 \r\nL 337.498211 214.417327 \r\nL 337.802879 214.667559 \r\nL 338.107548 213.406786 \r\nL 338.412216 214.531949 \r\nL 338.716884 210.492846 \r\nL 339.021553 213.647304 \r\nL 339.326221 209.199903 \r\nL 339.630889 211.875986 \r\nL 339.935557 208.883633 \r\nL 340.240226 213.867881 \r\nL 340.544894 210.663883 \r\nL 340.849562 213.610791 \r\nL 341.154231 213.704589 \r\nL 341.458899 211.522144 \r\nL 341.763567 211.836812 \r\nL 342.068236 211.784499 \r\nL 342.372904 212.336283 \r\nL 342.677572 212.091312 \r\nL 342.98224 213.277877 \r\nL 343.286909 203.701008 \r\nL 343.591577 213.621492 \r\nL 343.896245 212.159335 \r\nL 344.505582 214.756364 \r\nL 344.81025 210.746085 \r\nL 345.114919 204.203737 \r\nL 345.419587 204.093585 \r\nL 345.724255 211.636631 \r\nL 346.028924 211.989401 \r\nL 346.333592 213.665317 \r\nL 346.63826 214.541083 \r\nL 346.942928 212.208847 \r\nL 347.247597 205.188141 \r\nL 347.552265 213.799054 \r\nL 347.856933 183.798239 \r\nL 348.161602 213.067472 \r\nL 348.46627 211.010408 \r\nL 348.770938 191.612337 \r\nL 349.075607 212.364161 \r\nL 349.684943 213.096395 \r\nL 349.684943 213.096395 \r\n\" style=\"fill:none;stroke:#ff7f0e;stroke-linecap:square;stroke-width:1.5;\"/>\r\n   </g>\r\n   <g id=\"patch_3\">\r\n    <path d=\"M 30.103125 224.64 \r\nL 30.103125 7.2 \r\n\" style=\"fill:none;stroke:#000000;stroke-linecap:square;stroke-linejoin:miter;stroke-width:0.8;\"/>\r\n   </g>\r\n   <g id=\"patch_4\">\r\n    <path d=\"M 364.903125 224.64 \r\nL 364.903125 7.2 \r\n\" style=\"fill:none;stroke:#000000;stroke-linecap:square;stroke-linejoin:miter;stroke-width:0.8;\"/>\r\n   </g>\r\n   <g id=\"patch_5\">\r\n    <path d=\"M 30.103125 224.64 \r\nL 364.903125 224.64 \r\n\" style=\"fill:none;stroke:#000000;stroke-linecap:square;stroke-linejoin:miter;stroke-width:0.8;\"/>\r\n   </g>\r\n   <g id=\"patch_6\">\r\n    <path d=\"M 30.103125 7.2 \r\nL 364.903125 7.2 \r\n\" style=\"fill:none;stroke:#000000;stroke-linecap:square;stroke-linejoin:miter;stroke-width:0.8;\"/>\r\n   </g>\r\n   <g id=\"legend_1\">\r\n    <g id=\"patch_7\">\r\n     <path d=\"M 280.246875 44.55625 \r\nL 357.903125 44.55625 \r\nQ 359.903125 44.55625 359.903125 42.55625 \r\nL 359.903125 14.2 \r\nQ 359.903125 12.2 357.903125 12.2 \r\nL 280.246875 12.2 \r\nQ 278.246875 12.2 278.246875 14.2 \r\nL 278.246875 42.55625 \r\nQ 278.246875 44.55625 280.246875 44.55625 \r\nz\r\n\" style=\"fill:#ffffff;opacity:0.8;stroke:#cccccc;stroke-linejoin:miter;\"/>\r\n    </g>\r\n    <g id=\"line2d_17\">\r\n     <path d=\"M 282.246875 20.298437 \r\nL 302.246875 20.298437 \r\n\" style=\"fill:none;stroke:#1f77b4;stroke-linecap:square;stroke-width:1.5;\"/>\r\n    </g>\r\n    <g id=\"line2d_18\"/>\r\n    <g id=\"text_15\">\r\n     <!-- Accuracy -->\r\n     <g transform=\"translate(310.246875 23.798437)scale(0.1 -0.1)\">\r\n      <defs>\r\n       <path d=\"M 34.1875 63.1875 \r\nL 20.796875 26.90625 \r\nL 47.609375 26.90625 \r\nz\r\nM 28.609375 72.90625 \r\nL 39.796875 72.90625 \r\nL 67.578125 0 \r\nL 57.328125 0 \r\nL 50.6875 18.703125 \r\nL 17.828125 18.703125 \r\nL 11.1875 0 \r\nL 0.78125 0 \r\nz\r\n\" id=\"DejaVuSans-65\"/>\r\n       <path d=\"M 48.78125 52.59375 \r\nL 48.78125 44.1875 \r\nQ 44.96875 46.296875 41.140625 47.34375 \r\nQ 37.3125 48.390625 33.40625 48.390625 \r\nQ 24.65625 48.390625 19.8125 42.84375 \r\nQ 14.984375 37.3125 14.984375 27.296875 \r\nQ 14.984375 17.28125 19.8125 11.734375 \r\nQ 24.65625 6.203125 33.40625 6.203125 \r\nQ 37.3125 6.203125 41.140625 7.25 \r\nQ 44.96875 8.296875 48.78125 10.40625 \r\nL 48.78125 2.09375 \r\nQ 45.015625 0.34375 40.984375 -0.53125 \r\nQ 36.96875 -1.421875 32.421875 -1.421875 \r\nQ 20.0625 -1.421875 12.78125 6.34375 \r\nQ 5.515625 14.109375 5.515625 27.296875 \r\nQ 5.515625 40.671875 12.859375 48.328125 \r\nQ 20.21875 56 33.015625 56 \r\nQ 37.15625 56 41.109375 55.140625 \r\nQ 45.0625 54.296875 48.78125 52.59375 \r\nz\r\n\" id=\"DejaVuSans-99\"/>\r\n       <path d=\"M 8.5 21.578125 \r\nL 8.5 54.6875 \r\nL 17.484375 54.6875 \r\nL 17.484375 21.921875 \r\nQ 17.484375 14.15625 20.5 10.265625 \r\nQ 23.53125 6.390625 29.59375 6.390625 \r\nQ 36.859375 6.390625 41.078125 11.03125 \r\nQ 45.3125 15.671875 45.3125 23.6875 \r\nL 45.3125 54.6875 \r\nL 54.296875 54.6875 \r\nL 54.296875 0 \r\nL 45.3125 0 \r\nL 45.3125 8.40625 \r\nQ 42.046875 3.421875 37.71875 1 \r\nQ 33.40625 -1.421875 27.6875 -1.421875 \r\nQ 18.265625 -1.421875 13.375 4.4375 \r\nQ 8.5 10.296875 8.5 21.578125 \r\nz\r\nM 31.109375 56 \r\nz\r\n\" id=\"DejaVuSans-117\"/>\r\n       <path d=\"M 41.109375 46.296875 \r\nQ 39.59375 47.171875 37.8125 47.578125 \r\nQ 36.03125 48 33.890625 48 \r\nQ 26.265625 48 22.1875 43.046875 \r\nQ 18.109375 38.09375 18.109375 28.8125 \r\nL 18.109375 0 \r\nL 9.078125 0 \r\nL 9.078125 54.6875 \r\nL 18.109375 54.6875 \r\nL 18.109375 46.1875 \r\nQ 20.953125 51.171875 25.484375 53.578125 \r\nQ 30.03125 56 36.53125 56 \r\nQ 37.453125 56 38.578125 55.875 \r\nQ 39.703125 55.765625 41.0625 55.515625 \r\nz\r\n\" id=\"DejaVuSans-114\"/>\r\n       <path d=\"M 34.28125 27.484375 \r\nQ 23.390625 27.484375 19.1875 25 \r\nQ 14.984375 22.515625 14.984375 16.5 \r\nQ 14.984375 11.71875 18.140625 8.90625 \r\nQ 21.296875 6.109375 26.703125 6.109375 \r\nQ 34.1875 6.109375 38.703125 11.40625 \r\nQ 43.21875 16.703125 43.21875 25.484375 \r\nL 43.21875 27.484375 \r\nz\r\nM 52.203125 31.203125 \r\nL 52.203125 0 \r\nL 43.21875 0 \r\nL 43.21875 8.296875 \r\nQ 40.140625 3.328125 35.546875 0.953125 \r\nQ 30.953125 -1.421875 24.3125 -1.421875 \r\nQ 15.921875 -1.421875 10.953125 3.296875 \r\nQ 6 8.015625 6 15.921875 \r\nQ 6 25.140625 12.171875 29.828125 \r\nQ 18.359375 34.515625 30.609375 34.515625 \r\nL 43.21875 34.515625 \r\nL 43.21875 35.40625 \r\nQ 43.21875 41.609375 39.140625 45 \r\nQ 35.0625 48.390625 27.6875 48.390625 \r\nQ 23 48.390625 18.546875 47.265625 \r\nQ 14.109375 46.140625 10.015625 43.890625 \r\nL 10.015625 52.203125 \r\nQ 14.9375 54.109375 19.578125 55.046875 \r\nQ 24.21875 56 28.609375 56 \r\nQ 40.484375 56 46.34375 49.84375 \r\nQ 52.203125 43.703125 52.203125 31.203125 \r\nz\r\n\" id=\"DejaVuSans-97\"/>\r\n       <path d=\"M 32.171875 -5.078125 \r\nQ 28.375 -14.84375 24.75 -17.8125 \r\nQ 21.140625 -20.796875 15.09375 -20.796875 \r\nL 7.90625 -20.796875 \r\nL 7.90625 -13.28125 \r\nL 13.1875 -13.28125 \r\nQ 16.890625 -13.28125 18.9375 -11.515625 \r\nQ 21 -9.765625 23.484375 -3.21875 \r\nL 25.09375 0.875 \r\nL 2.984375 54.6875 \r\nL 12.5 54.6875 \r\nL 29.59375 11.921875 \r\nL 46.6875 54.6875 \r\nL 56.203125 54.6875 \r\nz\r\n\" id=\"DejaVuSans-121\"/>\r\n      </defs>\r\n      <use xlink:href=\"#DejaVuSans-65\"/>\r\n      <use x=\"66.658203\" xlink:href=\"#DejaVuSans-99\"/>\r\n      <use x=\"121.638672\" xlink:href=\"#DejaVuSans-99\"/>\r\n      <use x=\"176.619141\" xlink:href=\"#DejaVuSans-117\"/>\r\n      <use x=\"239.998047\" xlink:href=\"#DejaVuSans-114\"/>\r\n      <use x=\"281.111328\" xlink:href=\"#DejaVuSans-97\"/>\r\n      <use x=\"342.390625\" xlink:href=\"#DejaVuSans-99\"/>\r\n      <use x=\"397.371094\" xlink:href=\"#DejaVuSans-121\"/>\r\n     </g>\r\n    </g>\r\n    <g id=\"line2d_19\">\r\n     <path d=\"M 282.246875 34.976562 \r\nL 302.246875 34.976562 \r\n\" style=\"fill:none;stroke:#ff7f0e;stroke-linecap:square;stroke-width:1.5;\"/>\r\n    </g>\r\n    <g id=\"line2d_20\"/>\r\n    <g id=\"text_16\">\r\n     <!-- Loss -->\r\n     <g transform=\"translate(310.246875 38.476562)scale(0.1 -0.1)\">\r\n      <defs>\r\n       <path d=\"M 9.8125 72.90625 \r\nL 19.671875 72.90625 \r\nL 19.671875 8.296875 \r\nL 55.171875 8.296875 \r\nL 55.171875 0 \r\nL 9.8125 0 \r\nz\r\n\" id=\"DejaVuSans-76\"/>\r\n       <path d=\"M 30.609375 48.390625 \r\nQ 23.390625 48.390625 19.1875 42.75 \r\nQ 14.984375 37.109375 14.984375 27.296875 \r\nQ 14.984375 17.484375 19.15625 11.84375 \r\nQ 23.34375 6.203125 30.609375 6.203125 \r\nQ 37.796875 6.203125 41.984375 11.859375 \r\nQ 46.1875 17.53125 46.1875 27.296875 \r\nQ 46.1875 37.015625 41.984375 42.703125 \r\nQ 37.796875 48.390625 30.609375 48.390625 \r\nz\r\nM 30.609375 56 \r\nQ 42.328125 56 49.015625 48.375 \r\nQ 55.71875 40.765625 55.71875 27.296875 \r\nQ 55.71875 13.875 49.015625 6.21875 \r\nQ 42.328125 -1.421875 30.609375 -1.421875 \r\nQ 18.84375 -1.421875 12.171875 6.21875 \r\nQ 5.515625 13.875 5.515625 27.296875 \r\nQ 5.515625 40.765625 12.171875 48.375 \r\nQ 18.84375 56 30.609375 56 \r\nz\r\n\" id=\"DejaVuSans-111\"/>\r\n       <path d=\"M 44.28125 53.078125 \r\nL 44.28125 44.578125 \r\nQ 40.484375 46.53125 36.375 47.5 \r\nQ 32.28125 48.484375 27.875 48.484375 \r\nQ 21.1875 48.484375 17.84375 46.4375 \r\nQ 14.5 44.390625 14.5 40.28125 \r\nQ 14.5 37.15625 16.890625 35.375 \r\nQ 19.28125 33.59375 26.515625 31.984375 \r\nL 29.59375 31.296875 \r\nQ 39.15625 29.25 43.1875 25.515625 \r\nQ 47.21875 21.78125 47.21875 15.09375 \r\nQ 47.21875 7.46875 41.1875 3.015625 \r\nQ 35.15625 -1.421875 24.609375 -1.421875 \r\nQ 20.21875 -1.421875 15.453125 -0.5625 \r\nQ 10.6875 0.296875 5.421875 2 \r\nL 5.421875 11.28125 \r\nQ 10.40625 8.6875 15.234375 7.390625 \r\nQ 20.0625 6.109375 24.8125 6.109375 \r\nQ 31.15625 6.109375 34.5625 8.28125 \r\nQ 37.984375 10.453125 37.984375 14.40625 \r\nQ 37.984375 18.0625 35.515625 20.015625 \r\nQ 33.0625 21.96875 24.703125 23.78125 \r\nL 21.578125 24.515625 \r\nQ 13.234375 26.265625 9.515625 29.90625 \r\nQ 5.8125 33.546875 5.8125 39.890625 \r\nQ 5.8125 47.609375 11.28125 51.796875 \r\nQ 16.75 56 26.8125 56 \r\nQ 31.78125 56 36.171875 55.265625 \r\nQ 40.578125 54.546875 44.28125 53.078125 \r\nz\r\n\" id=\"DejaVuSans-115\"/>\r\n      </defs>\r\n      <use xlink:href=\"#DejaVuSans-76\"/>\r\n      <use x=\"53.962891\" xlink:href=\"#DejaVuSans-111\"/>\r\n      <use x=\"115.144531\" xlink:href=\"#DejaVuSans-115\"/>\r\n      <use x=\"167.244141\" xlink:href=\"#DejaVuSans-115\"/>\r\n     </g>\r\n    </g>\r\n   </g>\r\n  </g>\r\n </g>\r\n <defs>\r\n  <clipPath id=\"p1a08e4e674\">\r\n   <rect height=\"217.44\" width=\"334.8\" x=\"30.103125\" y=\"7.2\"/>\r\n  </clipPath>\r\n </defs>\r\n</svg>\r\n",
            "image/png": "[encoded data removed]"
          },
          "metadata": {
            "needs_background": "light"
          }
        }
      ],
      "source": [
        "import matplotlib.pyplot as plt\n",
        "plt.plot(history.history['accuracy'])\n",
        "plt.plot(history.history['loss'])\n",
        "plt.legend(['Accuracy', 'Loss'])"
      ]
    },
    {
      "cell_type": "code",
      "execution_count": 34,
      "metadata": {},
      "outputs": [
        {
          "output_type": "stream",
          "name": "stdout",
          "text": [
            "38/38 [==============================] - 0s 289us/sample - loss: 0.1495 - accuracy: 0.9474\n"
          ]
        },
        {
          "output_type": "execute_result",
          "data": {
            "text/plain": [
              "[0.14954099555401817, 0.94736844]"
            ]
          },
          "metadata": {},
          "execution_count": 34
        }
      ],
      "source": [
        "model2.evaluate(X_test, y_test)"
      ]
    },
    {
      "source": [
        "**Score = 0.973682**"
      ],
      "cell_type": "markdown",
      "metadata": {}
    },
    {
      "cell_type": "code",
      "metadata": {
        "id": "GYO_2cQtCtXa",
        "outputId": "048c8eec-75c3-4265-b8b2-15afb9a1c2b4"
      },
      "source": [],
      "execution_count": null,
      "outputs": [
        {
          "output_type": "execute_result",
          "data": {
            "text/plain": [
              "0.9473684210526315"
            ]
          },
          "metadata": {
            "tags": []
          },
          "execution_count": 28
        }
      ]
    },
    {
      "cell_type": "markdown",
      "metadata": {
        "id": "RLJNQqqkCtXa"
      },
      "source": [
        "## 수고하셨습니다 :)"
      ]
    }
  ]
}